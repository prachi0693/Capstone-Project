{
 "cells": [
  {
   "cell_type": "code",
   "execution_count": 69,
   "metadata": {},
   "outputs": [],
   "source": [
    "import pandas as pd\n",
    "import numpy as np\n",
    "import matplotlib.pyplot as plt\n",
    "import seaborn as sns\n",
    "%matplotlib inline"
   ]
  },
  {
   "cell_type": "markdown",
   "metadata": {},
   "source": [
    "# Generic Data Cleaning and EDA"
   ]
  },
  {
   "cell_type": "markdown",
   "metadata": {},
   "source": [
    "### Import Data and Check the properties"
   ]
  },
  {
   "cell_type": "code",
   "execution_count": 85,
   "metadata": {},
   "outputs": [],
   "source": [
    "df=pd.read_csv(\"HCAHPS_Hospital.csv\",encoding='latin1')"
   ]
  },
  {
   "cell_type": "code",
   "execution_count": 17,
   "metadata": {},
   "outputs": [
    {
     "data": {
      "text/html": [
       "<div>\n",
       "<style scoped>\n",
       "    .dataframe tbody tr th:only-of-type {\n",
       "        vertical-align: middle;\n",
       "    }\n",
       "\n",
       "    .dataframe tbody tr th {\n",
       "        vertical-align: top;\n",
       "    }\n",
       "\n",
       "    .dataframe thead th {\n",
       "        text-align: right;\n",
       "    }\n",
       "</style>\n",
       "<table border=\"1\" class=\"dataframe\">\n",
       "  <thead>\n",
       "    <tr style=\"text-align: right;\">\n",
       "      <th></th>\n",
       "      <th>Provider ID</th>\n",
       "      <th>Hospital Name</th>\n",
       "      <th>Address</th>\n",
       "      <th>City</th>\n",
       "      <th>State</th>\n",
       "      <th>ZIP Code</th>\n",
       "      <th>County Name</th>\n",
       "      <th>Phone Number</th>\n",
       "      <th>HCAHPS Measure ID</th>\n",
       "      <th>HCAHPS Question</th>\n",
       "      <th>...</th>\n",
       "      <th>Patient Survey Star Rating Footnote</th>\n",
       "      <th>HCAHPS Answer Percent</th>\n",
       "      <th>HCAHPS Answer Percent Footnote</th>\n",
       "      <th>HCAHPS Linear Mean Value</th>\n",
       "      <th>Number of Completed Surveys</th>\n",
       "      <th>Number of Completed Surveys Footnote</th>\n",
       "      <th>Survey Response Rate Percent</th>\n",
       "      <th>Survey Response Rate Percent Footnote</th>\n",
       "      <th>Measure Start Date</th>\n",
       "      <th>Measure End Date</th>\n",
       "    </tr>\n",
       "  </thead>\n",
       "  <tbody>\n",
       "    <tr>\n",
       "      <th>0</th>\n",
       "      <td>10001</td>\n",
       "      <td>SOUTHEAST ALABAMA MEDICAL CENTER</td>\n",
       "      <td>1108 ROSS CLARK CIRCLE</td>\n",
       "      <td>DOTHAN</td>\n",
       "      <td>AL</td>\n",
       "      <td>36301</td>\n",
       "      <td>HOUSTON</td>\n",
       "      <td>3347938701</td>\n",
       "      <td>H_STAR_RATING</td>\n",
       "      <td>Summary star rating</td>\n",
       "      <td>...</td>\n",
       "      <td>NaN</td>\n",
       "      <td>Not Applicable</td>\n",
       "      <td>NaN</td>\n",
       "      <td>Not Applicable</td>\n",
       "      <td>1194</td>\n",
       "      <td>NaN</td>\n",
       "      <td>27</td>\n",
       "      <td>NaN</td>\n",
       "      <td>01/01/2015</td>\n",
       "      <td>12/31/2015</td>\n",
       "    </tr>\n",
       "    <tr>\n",
       "      <th>1</th>\n",
       "      <td>10001</td>\n",
       "      <td>SOUTHEAST ALABAMA MEDICAL CENTER</td>\n",
       "      <td>1108 ROSS CLARK CIRCLE</td>\n",
       "      <td>DOTHAN</td>\n",
       "      <td>AL</td>\n",
       "      <td>36301</td>\n",
       "      <td>HOUSTON</td>\n",
       "      <td>3347938701</td>\n",
       "      <td>H_CLEAN_HSP_A_P</td>\n",
       "      <td>Patients who reported that their room and bath...</td>\n",
       "      <td>...</td>\n",
       "      <td>NaN</td>\n",
       "      <td>66</td>\n",
       "      <td>NaN</td>\n",
       "      <td>Not Applicable</td>\n",
       "      <td>1194</td>\n",
       "      <td>NaN</td>\n",
       "      <td>27</td>\n",
       "      <td>NaN</td>\n",
       "      <td>01/01/2015</td>\n",
       "      <td>12/31/2015</td>\n",
       "    </tr>\n",
       "    <tr>\n",
       "      <th>2</th>\n",
       "      <td>10001</td>\n",
       "      <td>SOUTHEAST ALABAMA MEDICAL CENTER</td>\n",
       "      <td>1108 ROSS CLARK CIRCLE</td>\n",
       "      <td>DOTHAN</td>\n",
       "      <td>AL</td>\n",
       "      <td>36301</td>\n",
       "      <td>HOUSTON</td>\n",
       "      <td>3347938701</td>\n",
       "      <td>H_CLEAN_HSP_SN_P</td>\n",
       "      <td>Patients who reported that their room and bath...</td>\n",
       "      <td>...</td>\n",
       "      <td>NaN</td>\n",
       "      <td>12</td>\n",
       "      <td>NaN</td>\n",
       "      <td>Not Applicable</td>\n",
       "      <td>1194</td>\n",
       "      <td>NaN</td>\n",
       "      <td>27</td>\n",
       "      <td>NaN</td>\n",
       "      <td>01/01/2015</td>\n",
       "      <td>12/31/2015</td>\n",
       "    </tr>\n",
       "    <tr>\n",
       "      <th>3</th>\n",
       "      <td>10001</td>\n",
       "      <td>SOUTHEAST ALABAMA MEDICAL CENTER</td>\n",
       "      <td>1108 ROSS CLARK CIRCLE</td>\n",
       "      <td>DOTHAN</td>\n",
       "      <td>AL</td>\n",
       "      <td>36301</td>\n",
       "      <td>HOUSTON</td>\n",
       "      <td>3347938701</td>\n",
       "      <td>H_CLEAN_HSP_U_P</td>\n",
       "      <td>Patients who reported that their room and bath...</td>\n",
       "      <td>...</td>\n",
       "      <td>NaN</td>\n",
       "      <td>22</td>\n",
       "      <td>NaN</td>\n",
       "      <td>Not Applicable</td>\n",
       "      <td>1194</td>\n",
       "      <td>NaN</td>\n",
       "      <td>27</td>\n",
       "      <td>NaN</td>\n",
       "      <td>01/01/2015</td>\n",
       "      <td>12/31/2015</td>\n",
       "    </tr>\n",
       "    <tr>\n",
       "      <th>4</th>\n",
       "      <td>10001</td>\n",
       "      <td>SOUTHEAST ALABAMA MEDICAL CENTER</td>\n",
       "      <td>1108 ROSS CLARK CIRCLE</td>\n",
       "      <td>DOTHAN</td>\n",
       "      <td>AL</td>\n",
       "      <td>36301</td>\n",
       "      <td>HOUSTON</td>\n",
       "      <td>3347938701</td>\n",
       "      <td>H_CLEAN_LINEAR_SCORE</td>\n",
       "      <td>Cleanliness - linear mean score</td>\n",
       "      <td>...</td>\n",
       "      <td>NaN</td>\n",
       "      <td>Not Applicable</td>\n",
       "      <td>NaN</td>\n",
       "      <td>84</td>\n",
       "      <td>1194</td>\n",
       "      <td>NaN</td>\n",
       "      <td>27</td>\n",
       "      <td>NaN</td>\n",
       "      <td>01/01/2015</td>\n",
       "      <td>12/31/2015</td>\n",
       "    </tr>\n",
       "  </tbody>\n",
       "</table>\n",
       "<p>5 rows × 22 columns</p>\n",
       "</div>"
      ],
      "text/plain": [
       "   Provider ID                     Hospital Name                 Address  \\\n",
       "0        10001  SOUTHEAST ALABAMA MEDICAL CENTER  1108 ROSS CLARK CIRCLE   \n",
       "1        10001  SOUTHEAST ALABAMA MEDICAL CENTER  1108 ROSS CLARK CIRCLE   \n",
       "2        10001  SOUTHEAST ALABAMA MEDICAL CENTER  1108 ROSS CLARK CIRCLE   \n",
       "3        10001  SOUTHEAST ALABAMA MEDICAL CENTER  1108 ROSS CLARK CIRCLE   \n",
       "4        10001  SOUTHEAST ALABAMA MEDICAL CENTER  1108 ROSS CLARK CIRCLE   \n",
       "\n",
       "     City State  ZIP Code County Name  Phone Number     HCAHPS Measure ID  \\\n",
       "0  DOTHAN    AL     36301     HOUSTON    3347938701         H_STAR_RATING   \n",
       "1  DOTHAN    AL     36301     HOUSTON    3347938701       H_CLEAN_HSP_A_P   \n",
       "2  DOTHAN    AL     36301     HOUSTON    3347938701      H_CLEAN_HSP_SN_P   \n",
       "3  DOTHAN    AL     36301     HOUSTON    3347938701       H_CLEAN_HSP_U_P   \n",
       "4  DOTHAN    AL     36301     HOUSTON    3347938701  H_CLEAN_LINEAR_SCORE   \n",
       "\n",
       "                                     HCAHPS Question       ...         \\\n",
       "0                                Summary star rating       ...          \n",
       "1  Patients who reported that their room and bath...       ...          \n",
       "2  Patients who reported that their room and bath...       ...          \n",
       "3  Patients who reported that their room and bath...       ...          \n",
       "4                    Cleanliness - linear mean score       ...          \n",
       "\n",
       "  Patient Survey Star Rating Footnote HCAHPS Answer Percent  \\\n",
       "0                                 NaN        Not Applicable   \n",
       "1                                 NaN                    66   \n",
       "2                                 NaN                    12   \n",
       "3                                 NaN                    22   \n",
       "4                                 NaN        Not Applicable   \n",
       "\n",
       "  HCAHPS Answer Percent Footnote HCAHPS Linear Mean Value  \\\n",
       "0                            NaN           Not Applicable   \n",
       "1                            NaN           Not Applicable   \n",
       "2                            NaN           Not Applicable   \n",
       "3                            NaN           Not Applicable   \n",
       "4                            NaN                       84   \n",
       "\n",
       "  Number of Completed Surveys Number of Completed Surveys Footnote  \\\n",
       "0                        1194                                  NaN   \n",
       "1                        1194                                  NaN   \n",
       "2                        1194                                  NaN   \n",
       "3                        1194                                  NaN   \n",
       "4                        1194                                  NaN   \n",
       "\n",
       "  Survey Response Rate Percent Survey Response Rate Percent Footnote  \\\n",
       "0                           27                                   NaN   \n",
       "1                           27                                   NaN   \n",
       "2                           27                                   NaN   \n",
       "3                           27                                   NaN   \n",
       "4                           27                                   NaN   \n",
       "\n",
       "  Measure Start Date Measure End Date  \n",
       "0         01/01/2015       12/31/2015  \n",
       "1         01/01/2015       12/31/2015  \n",
       "2         01/01/2015       12/31/2015  \n",
       "3         01/01/2015       12/31/2015  \n",
       "4         01/01/2015       12/31/2015  \n",
       "\n",
       "[5 rows x 22 columns]"
      ]
     },
     "execution_count": 17,
     "metadata": {},
     "output_type": "execute_result"
    }
   ],
   "source": [
    "df.head()"
   ]
  },
  {
   "cell_type": "code",
   "execution_count": 37,
   "metadata": {},
   "outputs": [
    {
     "data": {
      "text/plain": [
       "(264990, 22)"
      ]
     },
     "execution_count": 37,
     "metadata": {},
     "output_type": "execute_result"
    }
   ],
   "source": [
    "df.shape"
   ]
  },
  {
   "cell_type": "code",
   "execution_count": 86,
   "metadata": {
    "scrolled": true
   },
   "outputs": [
    {
     "name": "stdout",
     "output_type": "stream",
     "text": [
      "<class 'pandas.core.frame.DataFrame'>\n",
      "RangeIndex: 264990 entries, 0 to 264989\n",
      "Data columns (total 22 columns):\n",
      "Provider ID                              264990 non-null int64\n",
      "Hospital Name                            264990 non-null object\n",
      "Address                                  264990 non-null object\n",
      "City                                     264990 non-null object\n",
      "State                                    264990 non-null object\n",
      "ZIP Code                                 264990 non-null int64\n",
      "County Name                              264165 non-null object\n",
      "Phone Number                             264990 non-null int64\n",
      "HCAHPS Measure ID                        264990 non-null object\n",
      "HCAHPS Question                          264990 non-null object\n",
      "HCAHPS Answer Description                264990 non-null object\n",
      "Patient Survey Star Rating               264990 non-null object\n",
      "Patient Survey Star Rating Footnote      15720 non-null object\n",
      "HCAHPS Answer Percent                    264990 non-null object\n",
      "HCAHPS Answer Percent Footnote           44032 non-null object\n",
      "HCAHPS Linear Mean Value                 264990 non-null object\n",
      "Number of Completed Surveys              264990 non-null object\n",
      "Number of Completed Surveys Footnote     31735 non-null object\n",
      "Survey Response Rate Percent             264990 non-null object\n",
      "Survey Response Rate Percent Footnote    75735 non-null object\n",
      "Measure Start Date                       264990 non-null object\n",
      "Measure End Date                         264990 non-null object\n",
      "dtypes: int64(3), object(19)\n",
      "memory usage: 44.5+ MB\n"
     ]
    }
   ],
   "source": [
    "df.info()"
   ]
  },
  {
   "cell_type": "code",
   "execution_count": 38,
   "metadata": {
    "scrolled": true
   },
   "outputs": [
    {
     "data": {
      "text/plain": [
       "Provider ID                               0.00\n",
       "Hospital Name                             0.00\n",
       "Address                                   0.00\n",
       "City                                      0.00\n",
       "State                                     0.00\n",
       "ZIP Code                                  0.00\n",
       "County Name                               0.31\n",
       "Phone Number                              0.00\n",
       "HCAHPS Measure ID                         0.00\n",
       "HCAHPS Question                           0.00\n",
       "HCAHPS Answer Description                 0.00\n",
       "Patient Survey Star Rating                0.00\n",
       "Patient Survey Star Rating Footnote      94.07\n",
       "HCAHPS Answer Percent                     0.00\n",
       "HCAHPS Answer Percent Footnote           83.38\n",
       "HCAHPS Linear Mean Value                  0.00\n",
       "Number of Completed Surveys               0.00\n",
       "Number of Completed Surveys Footnote     88.02\n",
       "Survey Response Rate Percent              0.00\n",
       "Survey Response Rate Percent Footnote    71.42\n",
       "Measure Start Date                        0.00\n",
       "Measure End Date                          0.00\n",
       "dtype: float64"
      ]
     },
     "execution_count": 38,
     "metadata": {},
     "output_type": "execute_result"
    }
   ],
   "source": [
    "# Check the data for percentage of null values\n",
    "\n",
    "round((df.isnull().sum()/df.isnull().count())*100,2)"
   ]
  },
  {
   "cell_type": "markdown",
   "metadata": {},
   "source": [
    "#### Dropping columns having more than 50% null values and eliminating rows having null values"
   ]
  },
  {
   "cell_type": "code",
   "execution_count": 87,
   "metadata": {},
   "outputs": [
    {
     "data": {
      "text/plain": [
       "(264990, 18)"
      ]
     },
     "execution_count": 87,
     "metadata": {},
     "output_type": "execute_result"
    }
   ],
   "source": [
    "df= df.dropna(axis=1, thresh=int(0.5*len(df)))\n",
    "df.shape"
   ]
  },
  {
   "cell_type": "code",
   "execution_count": 88,
   "metadata": {},
   "outputs": [],
   "source": [
    "df=df.dropna(axis=0, how='any')"
   ]
  },
  {
   "cell_type": "code",
   "execution_count": 41,
   "metadata": {
    "scrolled": true
   },
   "outputs": [
    {
     "name": "stdout",
     "output_type": "stream",
     "text": [
      "<class 'pandas.core.frame.DataFrame'>\n",
      "Int64Index: 264165 entries, 0 to 264989\n",
      "Data columns (total 18 columns):\n",
      "Provider ID                     264165 non-null int64\n",
      "Hospital Name                   264165 non-null object\n",
      "Address                         264165 non-null object\n",
      "City                            264165 non-null object\n",
      "State                           264165 non-null object\n",
      "ZIP Code                        264165 non-null int64\n",
      "County Name                     264165 non-null object\n",
      "Phone Number                    264165 non-null int64\n",
      "HCAHPS Measure ID               264165 non-null object\n",
      "HCAHPS Question                 264165 non-null object\n",
      "HCAHPS Answer Description       264165 non-null object\n",
      "Patient Survey Star Rating      264165 non-null object\n",
      "HCAHPS Answer Percent           264165 non-null object\n",
      "HCAHPS Linear Mean Value        264165 non-null object\n",
      "Number of Completed Surveys     264165 non-null object\n",
      "Survey Response Rate Percent    264165 non-null object\n",
      "Measure Start Date              264165 non-null object\n",
      "Measure End Date                264165 non-null object\n",
      "dtypes: int64(3), object(15)\n",
      "memory usage: 38.3+ MB\n"
     ]
    }
   ],
   "source": [
    "df.info()"
   ]
  },
  {
   "cell_type": "code",
   "execution_count": 89,
   "metadata": {
    "scrolled": true
   },
   "outputs": [
    {
     "name": "stdout",
     "output_type": "stream",
     "text": [
      "<class 'pandas.core.frame.DataFrame'>\n",
      "Int64Index: 264165 entries, 0 to 264989\n",
      "Data columns (total 18 columns):\n",
      "Provider ID                     264165 non-null int64\n",
      "Hospital Name                   264165 non-null object\n",
      "Address                         264165 non-null object\n",
      "City                            264165 non-null object\n",
      "State                           264165 non-null object\n",
      "ZIP Code                        264165 non-null int64\n",
      "County Name                     264165 non-null object\n",
      "Phone Number                    264165 non-null int64\n",
      "HCAHPS Measure ID               264165 non-null object\n",
      "HCAHPS Question                 264165 non-null object\n",
      "HCAHPS Answer Description       264165 non-null object\n",
      "Patient Survey Star Rating      264165 non-null object\n",
      "HCAHPS Answer Percent           264165 non-null object\n",
      "HCAHPS Linear Mean Value        264165 non-null object\n",
      "Number of Completed Surveys     264165 non-null object\n",
      "Survey Response Rate Percent    264165 non-null object\n",
      "Measure Start Date              264165 non-null object\n",
      "Measure End Date                264165 non-null object\n",
      "dtypes: int64(3), object(15)\n",
      "memory usage: 38.3+ MB\n"
     ]
    }
   ],
   "source": [
    "# Drop duplicate records if any\n",
    "df=df.drop_duplicates(keep='first', inplace=False)\n",
    "df.info()"
   ]
  },
  {
   "cell_type": "markdown",
   "metadata": {},
   "source": [
    "### Removing unwanted data -\n",
    "\n",
    "### This step will be specific to your dataset \n",
    "data where most of the metrics are not available/not applicable wont give any info so removing such records.\n",
    "Address , city, state can be removed as we have Zip Code "
   ]
  },
  {
   "cell_type": "code",
   "execution_count": 90,
   "metadata": {},
   "outputs": [],
   "source": [
    "df=df[~((df[\"Patient Survey Star Rating\"].isin(['Not Applicable','Not Available'])) & (df[\"HCAHPS Answer Percent\"].isin(['Not Applicable','Not Available'])) & (df[\"HCAHPS Linear Mean Value\"].isin(['Not Applicable','Not Available'])))]\n"
   ]
  },
  {
   "cell_type": "code",
   "execution_count": 91,
   "metadata": {},
   "outputs": [],
   "source": [
    "df=df.drop([\"Address\",\"City\",\"State\",\"Phone Number\"],axis=1)"
   ]
  },
  {
   "cell_type": "code",
   "execution_count": 94,
   "metadata": {
    "scrolled": true
   },
   "outputs": [
    {
     "name": "stdout",
     "output_type": "stream",
     "text": [
      "<class 'pandas.core.frame.DataFrame'>\n",
      "Int64Index: 215896 entries, 0 to 264659\n",
      "Data columns (total 14 columns):\n",
      "Provider ID                     215896 non-null int64\n",
      "Hospital Name                   215896 non-null object\n",
      "ZIP Code                        215896 non-null int64\n",
      "County Name                     215896 non-null object\n",
      "HCAHPS Measure ID               215896 non-null object\n",
      "HCAHPS Question                 215896 non-null object\n",
      "HCAHPS Answer Description       215896 non-null object\n",
      "Patient Survey Star Rating      215896 non-null object\n",
      "HCAHPS Answer Percent           215896 non-null object\n",
      "HCAHPS Linear Mean Value        215896 non-null object\n",
      "Number of Completed Surveys     215896 non-null object\n",
      "Survey Response Rate Percent    215896 non-null object\n",
      "Measure Start Date              215896 non-null object\n",
      "Measure End Date                215896 non-null object\n",
      "dtypes: int64(2), object(12)\n",
      "memory usage: 24.7+ MB\n"
     ]
    }
   ],
   "source": [
    "df.info()"
   ]
  },
  {
   "cell_type": "markdown",
   "metadata": {},
   "source": [
    "### Converting some categorical variables to numeric"
   ]
  },
  {
   "cell_type": "code",
   "execution_count": 93,
   "metadata": {},
   "outputs": [],
   "source": [
    "df = df.replace(['Not Available','Not Applicable'],0)"
   ]
  },
  {
   "cell_type": "code",
   "execution_count": 95,
   "metadata": {},
   "outputs": [],
   "source": [
    "df[[\"Patient Survey Star Rating\",\"HCAHPS Answer Percent\",\"HCAHPS Linear Mean Value\",\"Number of Completed Surveys\",\"Survey Response Rate Percent\"]] = df[[\"Patient Survey Star Rating\",\"HCAHPS Answer Percent\",\"HCAHPS Linear Mean Value\",\"Number of Completed Surveys\",\"Survey Response Rate Percent\"]].apply(pd.to_numeric,errors='coerce')"
   ]
  },
  {
   "cell_type": "code",
   "execution_count": 97,
   "metadata": {},
   "outputs": [],
   "source": [
    "df=df.fillna(0)"
   ]
  },
  {
   "cell_type": "code",
   "execution_count": 98,
   "metadata": {
    "scrolled": false
   },
   "outputs": [
    {
     "name": "stdout",
     "output_type": "stream",
     "text": [
      "<class 'pandas.core.frame.DataFrame'>\n",
      "Int64Index: 215896 entries, 0 to 264659\n",
      "Data columns (total 14 columns):\n",
      "Provider ID                     215896 non-null int64\n",
      "Hospital Name                   215896 non-null object\n",
      "ZIP Code                        215896 non-null int64\n",
      "County Name                     215896 non-null object\n",
      "HCAHPS Measure ID               215896 non-null object\n",
      "HCAHPS Question                 215896 non-null object\n",
      "HCAHPS Answer Description       215896 non-null object\n",
      "Patient Survey Star Rating      215896 non-null int64\n",
      "HCAHPS Answer Percent           215896 non-null int64\n",
      "HCAHPS Linear Mean Value        215896 non-null int64\n",
      "Number of Completed Surveys     215896 non-null float64\n",
      "Survey Response Rate Percent    215896 non-null int64\n",
      "Measure Start Date              215896 non-null object\n",
      "Measure End Date                215896 non-null object\n",
      "dtypes: float64(1), int64(6), object(7)\n",
      "memory usage: 24.7+ MB\n"
     ]
    }
   ],
   "source": [
    "df.info()"
   ]
  },
  {
   "cell_type": "code",
   "execution_count": 99,
   "metadata": {
    "scrolled": true
   },
   "outputs": [
    {
     "data": {
      "image/png": "[encoded data removed]",
      "text/plain": [
       "<matplotlib.figure.Figure at 0x11da45f8>"
      ]
     },
     "metadata": {},
     "output_type": "display_data"
    }
   ],
   "source": [
    "# Let's see the correlation matrix \n",
    "plt.figure(figsize = (20,10))        # Size of the figure\n",
    "sns.heatmap(df.corr(),annot = True)\n",
    "plt.show()"
   ]
  },
  {
   "cell_type": "markdown",
   "metadata": {},
   "source": [
    "## We can see that there is no significant correlation amoung the columns ; hence heekping all these columns in the dataset for now ; we can later remove certain fields when we merge it to other datasets."
   ]
  },
  {
   "cell_type": "markdown",
   "metadata": {},
   "source": [
    "## Writing cleaned data to another file"
   ]
  },
  {
   "cell_type": "code",
   "execution_count": 104,
   "metadata": {},
   "outputs": [],
   "source": [
    "df.to_csv('HCAHPS.csv')"
   ]
  },
  {
   "cell_type": "code",
   "execution_count": 103,
   "metadata": {
    "scrolled": true
   },
   "outputs": [
    {
     "name": "stdout",
     "output_type": "stream",
     "text": [
      "<class 'pandas.core.frame.DataFrame'>\n",
      "Int64Index: 215896 entries, 0 to 264659\n",
      "Data columns (total 14 columns):\n",
      "Provider ID                     215896 non-null int64\n",
      "Hospital Name                   215896 non-null object\n",
      "ZIP Code                        215896 non-null int64\n",
      "County Name                     215896 non-null object\n",
      "HCAHPS Measure ID               215896 non-null object\n",
      "HCAHPS Question                 215896 non-null object\n",
      "HCAHPS Answer Description       215896 non-null object\n",
      "Patient Survey Star Rating      215896 non-null int64\n",
      "HCAHPS Answer Percent           215896 non-null int64\n",
      "HCAHPS Linear Mean Value        215896 non-null int64\n",
      "Number of Completed Surveys     215896 non-null float64\n",
      "Survey Response Rate Percent    215896 non-null int64\n",
      "Measure Start Date              215896 non-null object\n",
      "Measure End Date                215896 non-null object\n",
      "dtypes: float64(1), int64(6), object(7)\n",
      "memory usage: 24.7+ MB\n"
     ]
    }
   ],
   "source": [
    "HCAHPS = df[:]\n",
    "HCAHPS.info()"
   ]
  },
  {
   "cell_type": "code",
   "execution_count": null,
   "metadata": {},
   "outputs": [],
   "source": []
  }
 ],
 "metadata": {
  "kernelspec": {
   "display_name": "Python 3",
   "language": "python",
   "name": "python3"
  },
  "language_info": {
   "codemirror_mode": {
    "name": "ipython",
    "version": 3
   },
   "file_extension": ".py",
   "mimetype": "text/x-python",
   "name": "python",
   "nbconvert_exporter": "python",
   "pygments_lexer": "ipython3",
   "version": "3.6.4"
  }
 },
 "nbformat": 4,
 "nbformat_minor": 2
}
