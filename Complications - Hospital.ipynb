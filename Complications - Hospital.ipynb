{
 "cells": [
  {
   "cell_type": "code",
   "execution_count": 25,
   "metadata": {},
   "outputs": [],
   "source": [
    "\n",
    "import pandas as pd\n",
    "import numpy as np\n",
    "import matplotlib.pyplot as plt\n",
    "import seaborn as sns\n",
    "%matplotlib inline"
   ]
  },
  {
   "cell_type": "markdown",
   "metadata": {},
   "source": [
    "Generic Data Cleaning and EDA\n",
    "Import Data and Check the properties"
   ]
  },
  {
   "cell_type": "code",
   "execution_count": 26,
   "metadata": {},
   "outputs": [],
   "source": [
    "df=pd.read_csv(\"Complications - Hospital.csv\",encoding='latin1')\n"
   ]
  },
  {
   "cell_type": "code",
   "execution_count": 27,
   "metadata": {},
   "outputs": [
    {
     "data": {
      "text/html": [
       "<div>\n",
       "<style scoped>\n",
       "    .dataframe tbody tr th:only-of-type {\n",
       "        vertical-align: middle;\n",
       "    }\n",
       "\n",
       "    .dataframe tbody tr th {\n",
       "        vertical-align: top;\n",
       "    }\n",
       "\n",
       "    .dataframe thead th {\n",
       "        text-align: right;\n",
       "    }\n",
       "</style>\n",
       "<table border=\"1\" class=\"dataframe\">\n",
       "  <thead>\n",
       "    <tr style=\"text-align: right;\">\n",
       "      <th></th>\n",
       "      <th>Provider ID</th>\n",
       "      <th>Hospital Name</th>\n",
       "      <th>Address</th>\n",
       "      <th>City</th>\n",
       "      <th>State</th>\n",
       "      <th>ZIP Code</th>\n",
       "      <th>County Name</th>\n",
       "      <th>Phone Number</th>\n",
       "      <th>Measure Name</th>\n",
       "      <th>Measure ID</th>\n",
       "      <th>Compared to National</th>\n",
       "      <th>Denominator</th>\n",
       "      <th>Score</th>\n",
       "      <th>Lower Estimate</th>\n",
       "      <th>Higher Estimate</th>\n",
       "      <th>Footnote</th>\n",
       "      <th>Measure Start Date</th>\n",
       "      <th>Measure End Date</th>\n",
       "    </tr>\n",
       "  </thead>\n",
       "  <tbody>\n",
       "    <tr>\n",
       "      <th>0</th>\n",
       "      <td>10001</td>\n",
       "      <td>SOUTHEAST ALABAMA MEDICAL CENTER</td>\n",
       "      <td>1108 ROSS CLARK CIRCLE</td>\n",
       "      <td>DOTHAN</td>\n",
       "      <td>AL</td>\n",
       "      <td>36301</td>\n",
       "      <td>HOUSTON</td>\n",
       "      <td>3347938701</td>\n",
       "      <td>Rate of complications for hip/knee replacement...</td>\n",
       "      <td>COMP_HIP_KNEE</td>\n",
       "      <td>No Different than the National Rate</td>\n",
       "      <td>331</td>\n",
       "      <td>3.8</td>\n",
       "      <td>2.6</td>\n",
       "      <td>5.5</td>\n",
       "      <td>NaN</td>\n",
       "      <td>04/01/2012</td>\n",
       "      <td>03/31/2015</td>\n",
       "    </tr>\n",
       "    <tr>\n",
       "      <th>1</th>\n",
       "      <td>10001</td>\n",
       "      <td>SOUTHEAST ALABAMA MEDICAL CENTER</td>\n",
       "      <td>1108 ROSS CLARK CIRCLE</td>\n",
       "      <td>DOTHAN</td>\n",
       "      <td>AL</td>\n",
       "      <td>36301</td>\n",
       "      <td>HOUSTON</td>\n",
       "      <td>3347938701</td>\n",
       "      <td>Serious blood clots after surgery</td>\n",
       "      <td>PSI_12_POSTOP_PULMEMB_DVT</td>\n",
       "      <td>No Different than the National Rate</td>\n",
       "      <td>4549</td>\n",
       "      <td>3.32</td>\n",
       "      <td>1.25</td>\n",
       "      <td>5.38</td>\n",
       "      <td>NaN</td>\n",
       "      <td>07/01/2013</td>\n",
       "      <td>06/30/2015</td>\n",
       "    </tr>\n",
       "    <tr>\n",
       "      <th>2</th>\n",
       "      <td>10001</td>\n",
       "      <td>SOUTHEAST ALABAMA MEDICAL CENTER</td>\n",
       "      <td>1108 ROSS CLARK CIRCLE</td>\n",
       "      <td>DOTHAN</td>\n",
       "      <td>AL</td>\n",
       "      <td>36301</td>\n",
       "      <td>HOUSTON</td>\n",
       "      <td>3347938701</td>\n",
       "      <td>Blood stream infection after surgery</td>\n",
       "      <td>PSI_13_POST_SEPSIS</td>\n",
       "      <td>No Different than the National Rate</td>\n",
       "      <td>578</td>\n",
       "      <td>5.72</td>\n",
       "      <td>0.00</td>\n",
       "      <td>11.48</td>\n",
       "      <td>NaN</td>\n",
       "      <td>07/01/2013</td>\n",
       "      <td>06/30/2015</td>\n",
       "    </tr>\n",
       "    <tr>\n",
       "      <th>3</th>\n",
       "      <td>10001</td>\n",
       "      <td>SOUTHEAST ALABAMA MEDICAL CENTER</td>\n",
       "      <td>1108 ROSS CLARK CIRCLE</td>\n",
       "      <td>DOTHAN</td>\n",
       "      <td>AL</td>\n",
       "      <td>36301</td>\n",
       "      <td>HOUSTON</td>\n",
       "      <td>3347938701</td>\n",
       "      <td>A wound that splits open  after surgery on the...</td>\n",
       "      <td>PSI_14_POSTOP_DEHIS</td>\n",
       "      <td>No Different than the National Rate</td>\n",
       "      <td>445</td>\n",
       "      <td>2.72</td>\n",
       "      <td>0.65</td>\n",
       "      <td>4.79</td>\n",
       "      <td>NaN</td>\n",
       "      <td>07/01/2013</td>\n",
       "      <td>06/30/2015</td>\n",
       "    </tr>\n",
       "    <tr>\n",
       "      <th>4</th>\n",
       "      <td>10001</td>\n",
       "      <td>SOUTHEAST ALABAMA MEDICAL CENTER</td>\n",
       "      <td>1108 ROSS CLARK CIRCLE</td>\n",
       "      <td>DOTHAN</td>\n",
       "      <td>AL</td>\n",
       "      <td>36301</td>\n",
       "      <td>HOUSTON</td>\n",
       "      <td>3347938701</td>\n",
       "      <td>Accidental cuts and tears from medical treatment</td>\n",
       "      <td>PSI_15_ACC_LAC</td>\n",
       "      <td>No Different than the National Rate</td>\n",
       "      <td>16429</td>\n",
       "      <td>1.35</td>\n",
       "      <td>0.76</td>\n",
       "      <td>1.95</td>\n",
       "      <td>NaN</td>\n",
       "      <td>07/01/2013</td>\n",
       "      <td>06/30/2015</td>\n",
       "    </tr>\n",
       "  </tbody>\n",
       "</table>\n",
       "</div>"
      ],
      "text/plain": [
       "   Provider ID                     Hospital Name                 Address  \\\n",
       "0        10001  SOUTHEAST ALABAMA MEDICAL CENTER  1108 ROSS CLARK CIRCLE   \n",
       "1        10001  SOUTHEAST ALABAMA MEDICAL CENTER  1108 ROSS CLARK CIRCLE   \n",
       "2        10001  SOUTHEAST ALABAMA MEDICAL CENTER  1108 ROSS CLARK CIRCLE   \n",
       "3        10001  SOUTHEAST ALABAMA MEDICAL CENTER  1108 ROSS CLARK CIRCLE   \n",
       "4        10001  SOUTHEAST ALABAMA MEDICAL CENTER  1108 ROSS CLARK CIRCLE   \n",
       "\n",
       "     City State  ZIP Code County Name  Phone Number  \\\n",
       "0  DOTHAN    AL     36301     HOUSTON    3347938701   \n",
       "1  DOTHAN    AL     36301     HOUSTON    3347938701   \n",
       "2  DOTHAN    AL     36301     HOUSTON    3347938701   \n",
       "3  DOTHAN    AL     36301     HOUSTON    3347938701   \n",
       "4  DOTHAN    AL     36301     HOUSTON    3347938701   \n",
       "\n",
       "                                        Measure Name  \\\n",
       "0  Rate of complications for hip/knee replacement...   \n",
       "1                  Serious blood clots after surgery   \n",
       "2               Blood stream infection after surgery   \n",
       "3  A wound that splits open  after surgery on the...   \n",
       "4   Accidental cuts and tears from medical treatment   \n",
       "\n",
       "                  Measure ID                 Compared to National Denominator  \\\n",
       "0              COMP_HIP_KNEE  No Different than the National Rate         331   \n",
       "1  PSI_12_POSTOP_PULMEMB_DVT  No Different than the National Rate        4549   \n",
       "2         PSI_13_POST_SEPSIS  No Different than the National Rate         578   \n",
       "3        PSI_14_POSTOP_DEHIS  No Different than the National Rate         445   \n",
       "4             PSI_15_ACC_LAC  No Different than the National Rate       16429   \n",
       "\n",
       "  Score Lower Estimate Higher Estimate Footnote Measure Start Date  \\\n",
       "0   3.8            2.6             5.5      NaN         04/01/2012   \n",
       "1  3.32           1.25            5.38      NaN         07/01/2013   \n",
       "2  5.72           0.00           11.48      NaN         07/01/2013   \n",
       "3  2.72           0.65            4.79      NaN         07/01/2013   \n",
       "4  1.35           0.76            1.95      NaN         07/01/2013   \n",
       "\n",
       "  Measure End Date  \n",
       "0       03/31/2015  \n",
       "1       06/30/2015  \n",
       "2       06/30/2015  \n",
       "3       06/30/2015  \n",
       "4       06/30/2015  "
      ]
     },
     "execution_count": 27,
     "metadata": {},
     "output_type": "execute_result"
    }
   ],
   "source": [
    "df.head()\n"
   ]
  },
  {
   "cell_type": "code",
   "execution_count": 28,
   "metadata": {},
   "outputs": [
    {
     "data": {
      "text/plain": [
       "(52998, 18)"
      ]
     },
     "execution_count": 28,
     "metadata": {},
     "output_type": "execute_result"
    }
   ],
   "source": [
    "df.shape\n"
   ]
  },
  {
   "cell_type": "code",
   "execution_count": 29,
   "metadata": {},
   "outputs": [
    {
     "data": {
      "text/plain": [
       "Provider ID              0.00\n",
       "Hospital Name            0.00\n",
       "Address                  0.00\n",
       "City                     0.00\n",
       "State                    0.00\n",
       "ZIP Code                 0.00\n",
       "County Name              0.31\n",
       "Phone Number             0.00\n",
       "Measure Name             0.00\n",
       "Measure ID               0.00\n",
       "Compared to National     0.00\n",
       "Denominator              0.00\n",
       "Score                    0.00\n",
       "Lower Estimate           0.00\n",
       "Higher Estimate          0.00\n",
       "Footnote                58.73\n",
       "Measure Start Date       0.00\n",
       "Measure End Date         0.00\n",
       "dtype: float64"
      ]
     },
     "execution_count": 29,
     "metadata": {},
     "output_type": "execute_result"
    }
   ],
   "source": [
    "# Check the data for percentage of null values\n",
    "\n",
    "round((df.isnull().sum()/df.isnull().count())*100,2)"
   ]
  },
  {
   "cell_type": "code",
   "execution_count": 30,
   "metadata": {},
   "outputs": [
    {
     "data": {
      "text/plain": [
       "(52998, 17)"
      ]
     },
     "execution_count": 30,
     "metadata": {},
     "output_type": "execute_result"
    }
   ],
   "source": [
    "#Dropping columns having more than 50% null values and eliminating rows having null values\n",
    "df= df.dropna(axis=1, thresh=int(0.5*len(df)))\n",
    "df.shape"
   ]
  },
  {
   "cell_type": "code",
   "execution_count": 31,
   "metadata": {},
   "outputs": [],
   "source": [
    "df=df.dropna(axis=0, how='any')"
   ]
  },
  {
   "cell_type": "code",
   "execution_count": 32,
   "metadata": {},
   "outputs": [
    {
     "name": "stdout",
     "output_type": "stream",
     "text": [
      "<class 'pandas.core.frame.DataFrame'>\n",
      "Int64Index: 52833 entries, 0 to 52997\n",
      "Data columns (total 17 columns):\n",
      "Provider ID             52833 non-null int64\n",
      "Hospital Name           52833 non-null object\n",
      "Address                 52833 non-null object\n",
      "City                    52833 non-null object\n",
      "State                   52833 non-null object\n",
      "ZIP Code                52833 non-null int64\n",
      "County Name             52833 non-null object\n",
      "Phone Number            52833 non-null int64\n",
      "Measure Name            52833 non-null object\n",
      "Measure ID              52833 non-null object\n",
      "Compared to National    52833 non-null object\n",
      "Denominator             52833 non-null object\n",
      "Score                   52833 non-null object\n",
      "Lower Estimate          52833 non-null object\n",
      "Higher Estimate         52833 non-null object\n",
      "Measure Start Date      52833 non-null object\n",
      "Measure End Date        52833 non-null object\n",
      "dtypes: int64(3), object(14)\n",
      "memory usage: 7.3+ MB\n"
     ]
    }
   ],
   "source": [
    "df.info()"
   ]
  },
  {
   "cell_type": "markdown",
   "metadata": {},
   "source": [
    "Removing unwanted data -\n",
    "This step will be specific to your dataset\n",
    "data where most of the metrics are not available/not applicable wont give any info so removing such records. Address , city, state can be removed as we have Zip Code"
   ]
  },
  {
   "cell_type": "code",
   "execution_count": 33,
   "metadata": {},
   "outputs": [],
   "source": [
    "df=df.drop([\"Address\",\"City\",\"State\",\"Phone Number\",\"County Name\"],axis=1)\n"
   ]
  },
  {
   "cell_type": "code",
   "execution_count": 34,
   "metadata": {},
   "outputs": [
    {
     "name": "stdout",
     "output_type": "stream",
     "text": [
      "<class 'pandas.core.frame.DataFrame'>\n",
      "Int64Index: 52833 entries, 0 to 52997\n",
      "Data columns (total 12 columns):\n",
      "Provider ID             52833 non-null int64\n",
      "Hospital Name           52833 non-null object\n",
      "ZIP Code                52833 non-null int64\n",
      "Measure Name            52833 non-null object\n",
      "Measure ID              52833 non-null object\n",
      "Compared to National    52833 non-null object\n",
      "Denominator             52833 non-null object\n",
      "Score                   52833 non-null object\n",
      "Lower Estimate          52833 non-null object\n",
      "Higher Estimate         52833 non-null object\n",
      "Measure Start Date      52833 non-null object\n",
      "Measure End Date        52833 non-null object\n",
      "dtypes: int64(2), object(10)\n",
      "memory usage: 5.2+ MB\n"
     ]
    }
   ],
   "source": [
    "df.info()\n"
   ]
  },
  {
   "cell_type": "code",
   "execution_count": 35,
   "metadata": {},
   "outputs": [],
   "source": [
    "df=df.fillna(0)"
   ]
  },
  {
   "cell_type": "code",
   "execution_count": 36,
   "metadata": {},
   "outputs": [
    {
     "data": {
      "image/png": "[encoded data removed]",
      "text/plain": [
       "<Figure size 1440x720 with 2 Axes>"
      ]
     },
     "metadata": {
      "needs_background": "light"
     },
     "output_type": "display_data"
    }
   ],
   "source": [
    "# Let's see the correlation matrix \n",
    "plt.figure(figsize = (20,10))        # Size of the figure\n",
    "sns.heatmap(df.corr(),annot = True)\n",
    "plt.show()"
   ]
  },
  {
   "cell_type": "markdown",
   "metadata": {},
   "source": [
    "\n",
    "We can see that there is no significant correlation amoung the columns ; hence heekping all these columns in the dataset for now ; we can later remove certain fields when we merge it to other datasets"
   ]
  },
  {
   "cell_type": "code",
   "execution_count": 39,
   "metadata": {},
   "outputs": [],
   "source": [
    "#Writing cleaned data to another file\n",
    "df.to_csv('Complications_Cleaned.csv')"
   ]
  },
  {
   "cell_type": "code",
   "execution_count": 40,
   "metadata": {},
   "outputs": [
    {
     "name": "stdout",
     "output_type": "stream",
     "text": [
      "<class 'pandas.core.frame.DataFrame'>\n",
      "Int64Index: 52833 entries, 0 to 52997\n",
      "Data columns (total 12 columns):\n",
      "Provider ID             52833 non-null int64\n",
      "Hospital Name           52833 non-null object\n",
      "ZIP Code                52833 non-null int64\n",
      "Measure Name            52833 non-null object\n",
      "Measure ID              52833 non-null object\n",
      "Compared to National    52833 non-null object\n",
      "Denominator             52833 non-null object\n",
      "Score                   52833 non-null object\n",
      "Lower Estimate          52833 non-null object\n",
      "Higher Estimate         52833 non-null object\n",
      "Measure Start Date      52833 non-null object\n",
      "Measure End Date        52833 non-null object\n",
      "dtypes: int64(2), object(10)\n",
      "memory usage: 5.2+ MB\n"
     ]
    }
   ],
   "source": [
    "Complications_Cleaned = df[:]\n",
    "Complications_Cleaned.info()"
   ]
  }
 ],
 "metadata": {
  "kernelspec": {
   "display_name": "Python 3",
   "language": "python",
   "name": "python3"
  },
  "language_info": {
   "codemirror_mode": {
    "name": "ipython",
    "version": 3
   },
   "file_extension": ".py",
   "mimetype": "text/x-python",
   "name": "python",
   "nbconvert_exporter": "python",
   "pygments_lexer": "ipython3",
   "version": "3.7.3"
  }
 },
 "nbformat": 4,
 "nbformat_minor": 2
}
