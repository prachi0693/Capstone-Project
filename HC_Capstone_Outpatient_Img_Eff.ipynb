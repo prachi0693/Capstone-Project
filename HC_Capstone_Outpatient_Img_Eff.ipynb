{
 "cells": [
  {
   "cell_type": "markdown",
   "metadata": {},
   "source": [
    "# Efficiency of Imaging - measures"
   ]
  },
  {
   "cell_type": "code",
   "execution_count": 2,
   "metadata": {},
   "outputs": [],
   "source": [
    "import pandas as pd\n",
    "import numpy as np\n",
    "import matplotlib.pyplot as plt\n",
    "import seaborn as sns\n",
    "%matplotlib inline"
   ]
  },
  {
   "cell_type": "markdown",
   "metadata": {},
   "source": [
    "# Generic Data Cleaning and EDA"
   ]
  },
  {
   "cell_type": "markdown",
   "metadata": {},
   "source": [
    "### Import Data and Check the properties"
   ]
  },
  {
   "cell_type": "code",
   "execution_count": 3,
   "metadata": {},
   "outputs": [],
   "source": [
    "df=pd.read_csv(\"Outpatient Imaging Efficiency_Hospital.csv\",encoding='latin1')"
   ]
  },
  {
   "cell_type": "code",
   "execution_count": 4,
   "metadata": {},
   "outputs": [
    {
     "data": {
      "text/html": [
       "<div>\n",
       "<style scoped>\n",
       "    .dataframe tbody tr th:only-of-type {\n",
       "        vertical-align: middle;\n",
       "    }\n",
       "\n",
       "    .dataframe tbody tr th {\n",
       "        vertical-align: top;\n",
       "    }\n",
       "\n",
       "    .dataframe thead th {\n",
       "        text-align: right;\n",
       "    }\n",
       "</style>\n",
       "<table border=\"1\" class=\"dataframe\">\n",
       "  <thead>\n",
       "    <tr style=\"text-align: right;\">\n",
       "      <th></th>\n",
       "      <th>Provider ID</th>\n",
       "      <th>Hospital Name</th>\n",
       "      <th>Address</th>\n",
       "      <th>City</th>\n",
       "      <th>State</th>\n",
       "      <th>ZIP Code</th>\n",
       "      <th>County Name</th>\n",
       "      <th>Phone Number</th>\n",
       "      <th>Measure ID</th>\n",
       "      <th>Measure Name</th>\n",
       "      <th>Score</th>\n",
       "      <th>Footnote</th>\n",
       "      <th>Measure Start Date</th>\n",
       "      <th>Measure End Date</th>\n",
       "    </tr>\n",
       "  </thead>\n",
       "  <tbody>\n",
       "    <tr>\n",
       "      <th>0</th>\n",
       "      <td>10001</td>\n",
       "      <td>SOUTHEAST ALABAMA MEDICAL CENTER</td>\n",
       "      <td>1108 ROSS CLARK CIRCLE</td>\n",
       "      <td>DOTHAN</td>\n",
       "      <td>AL</td>\n",
       "      <td>36301</td>\n",
       "      <td>HOUSTON</td>\n",
       "      <td>3347938701</td>\n",
       "      <td>OP_10</td>\n",
       "      <td>Abdomen CT Use of Contrast Material</td>\n",
       "      <td>6.4</td>\n",
       "      <td>NaN</td>\n",
       "      <td>07/01/2014</td>\n",
       "      <td>06/30/2015</td>\n",
       "    </tr>\n",
       "    <tr>\n",
       "      <th>1</th>\n",
       "      <td>10001</td>\n",
       "      <td>SOUTHEAST ALABAMA MEDICAL CENTER</td>\n",
       "      <td>1108 ROSS CLARK CIRCLE</td>\n",
       "      <td>DOTHAN</td>\n",
       "      <td>AL</td>\n",
       "      <td>36301</td>\n",
       "      <td>HOUSTON</td>\n",
       "      <td>3347938701</td>\n",
       "      <td>OP_11</td>\n",
       "      <td>Thorax CT Use of Contrast Material</td>\n",
       "      <td>0.9</td>\n",
       "      <td>NaN</td>\n",
       "      <td>07/01/2014</td>\n",
       "      <td>06/30/2015</td>\n",
       "    </tr>\n",
       "    <tr>\n",
       "      <th>2</th>\n",
       "      <td>10001</td>\n",
       "      <td>SOUTHEAST ALABAMA MEDICAL CENTER</td>\n",
       "      <td>1108 ROSS CLARK CIRCLE</td>\n",
       "      <td>DOTHAN</td>\n",
       "      <td>AL</td>\n",
       "      <td>36301</td>\n",
       "      <td>HOUSTON</td>\n",
       "      <td>3347938701</td>\n",
       "      <td>OP_13</td>\n",
       "      <td>Outpatients who got cardiac imaging stress tes...</td>\n",
       "      <td>7.1</td>\n",
       "      <td>NaN</td>\n",
       "      <td>07/01/2014</td>\n",
       "      <td>06/30/2015</td>\n",
       "    </tr>\n",
       "    <tr>\n",
       "      <th>3</th>\n",
       "      <td>10001</td>\n",
       "      <td>SOUTHEAST ALABAMA MEDICAL CENTER</td>\n",
       "      <td>1108 ROSS CLARK CIRCLE</td>\n",
       "      <td>DOTHAN</td>\n",
       "      <td>AL</td>\n",
       "      <td>36301</td>\n",
       "      <td>HOUSTON</td>\n",
       "      <td>3347938701</td>\n",
       "      <td>OP_14</td>\n",
       "      <td>Outpatients with brain CT scans who got a sinu...</td>\n",
       "      <td>2.4</td>\n",
       "      <td>NaN</td>\n",
       "      <td>07/01/2014</td>\n",
       "      <td>06/30/2015</td>\n",
       "    </tr>\n",
       "    <tr>\n",
       "      <th>4</th>\n",
       "      <td>10001</td>\n",
       "      <td>SOUTHEAST ALABAMA MEDICAL CENTER</td>\n",
       "      <td>1108 ROSS CLARK CIRCLE</td>\n",
       "      <td>DOTHAN</td>\n",
       "      <td>AL</td>\n",
       "      <td>36301</td>\n",
       "      <td>HOUSTON</td>\n",
       "      <td>3347938701</td>\n",
       "      <td>OP_8</td>\n",
       "      <td>MRI Lumbar Spine for Low Back Pain</td>\n",
       "      <td>38.1</td>\n",
       "      <td>NaN</td>\n",
       "      <td>07/01/2014</td>\n",
       "      <td>06/30/2015</td>\n",
       "    </tr>\n",
       "  </tbody>\n",
       "</table>\n",
       "</div>"
      ],
      "text/plain": [
       "   Provider ID                     Hospital Name                 Address  \\\n",
       "0        10001  SOUTHEAST ALABAMA MEDICAL CENTER  1108 ROSS CLARK CIRCLE   \n",
       "1        10001  SOUTHEAST ALABAMA MEDICAL CENTER  1108 ROSS CLARK CIRCLE   \n",
       "2        10001  SOUTHEAST ALABAMA MEDICAL CENTER  1108 ROSS CLARK CIRCLE   \n",
       "3        10001  SOUTHEAST ALABAMA MEDICAL CENTER  1108 ROSS CLARK CIRCLE   \n",
       "4        10001  SOUTHEAST ALABAMA MEDICAL CENTER  1108 ROSS CLARK CIRCLE   \n",
       "\n",
       "     City State  ZIP Code County Name  Phone Number Measure ID  \\\n",
       "0  DOTHAN    AL     36301     HOUSTON    3347938701      OP_10   \n",
       "1  DOTHAN    AL     36301     HOUSTON    3347938701      OP_11   \n",
       "2  DOTHAN    AL     36301     HOUSTON    3347938701      OP_13   \n",
       "3  DOTHAN    AL     36301     HOUSTON    3347938701      OP_14   \n",
       "4  DOTHAN    AL     36301     HOUSTON    3347938701       OP_8   \n",
       "\n",
       "                                        Measure Name Score Footnote  \\\n",
       "0                Abdomen CT Use of Contrast Material   6.4      NaN   \n",
       "1                 Thorax CT Use of Contrast Material   0.9      NaN   \n",
       "2  Outpatients who got cardiac imaging stress tes...   7.1      NaN   \n",
       "3  Outpatients with brain CT scans who got a sinu...   2.4      NaN   \n",
       "4                 MRI Lumbar Spine for Low Back Pain  38.1      NaN   \n",
       "\n",
       "  Measure Start Date Measure End Date  \n",
       "0         07/01/2014       06/30/2015  \n",
       "1         07/01/2014       06/30/2015  \n",
       "2         07/01/2014       06/30/2015  \n",
       "3         07/01/2014       06/30/2015  \n",
       "4         07/01/2014       06/30/2015  "
      ]
     },
     "execution_count": 4,
     "metadata": {},
     "output_type": "execute_result"
    }
   ],
   "source": [
    "df.head()"
   ]
  },
  {
   "cell_type": "code",
   "execution_count": 5,
   "metadata": {},
   "outputs": [
    {
     "data": {
      "text/plain": [
       "(28908, 14)"
      ]
     },
     "execution_count": 5,
     "metadata": {},
     "output_type": "execute_result"
    }
   ],
   "source": [
    "df.shape"
   ]
  },
  {
   "cell_type": "code",
   "execution_count": 6,
   "metadata": {
    "scrolled": true
   },
   "outputs": [
    {
     "name": "stdout",
     "output_type": "stream",
     "text": [
      "<class 'pandas.core.frame.DataFrame'>\n",
      "RangeIndex: 28908 entries, 0 to 28907\n",
      "Data columns (total 14 columns):\n",
      "Provider ID           28908 non-null int64\n",
      "Hospital Name         28908 non-null object\n",
      "Address               28908 non-null object\n",
      "City                  28908 non-null object\n",
      "State                 28908 non-null object\n",
      "ZIP Code              28908 non-null int64\n",
      "County Name           28818 non-null object\n",
      "Phone Number          28908 non-null int64\n",
      "Measure ID            28908 non-null object\n",
      "Measure Name          28908 non-null object\n",
      "Score                 28908 non-null object\n",
      "Footnote              12595 non-null object\n",
      "Measure Start Date    28908 non-null object\n",
      "Measure End Date      28908 non-null object\n",
      "dtypes: int64(3), object(11)\n",
      "memory usage: 3.1+ MB\n"
     ]
    }
   ],
   "source": [
    "df.info()"
   ]
  },
  {
   "cell_type": "code",
   "execution_count": 7,
   "metadata": {
    "scrolled": true
   },
   "outputs": [
    {
     "data": {
      "text/plain": [
       "Provider ID            0.00\n",
       "Hospital Name          0.00\n",
       "Address                0.00\n",
       "City                   0.00\n",
       "State                  0.00\n",
       "ZIP Code               0.00\n",
       "County Name            0.31\n",
       "Phone Number           0.00\n",
       "Measure ID             0.00\n",
       "Measure Name           0.00\n",
       "Score                  0.00\n",
       "Footnote              56.43\n",
       "Measure Start Date     0.00\n",
       "Measure End Date       0.00\n",
       "dtype: float64"
      ]
     },
     "execution_count": 7,
     "metadata": {},
     "output_type": "execute_result"
    }
   ],
   "source": [
    "# Check the data for percentage of null values\n",
    "\n",
    "round((df.isnull().sum()/df.isnull().count())*100,2)"
   ]
  },
  {
   "cell_type": "markdown",
   "metadata": {},
   "source": [
    "#### Dropping columns having more than 50% null values and eliminating rows having null values"
   ]
  },
  {
   "cell_type": "code",
   "execution_count": 8,
   "metadata": {},
   "outputs": [
    {
     "data": {
      "text/plain": [
       "(28908, 13)"
      ]
     },
     "execution_count": 8,
     "metadata": {},
     "output_type": "execute_result"
    }
   ],
   "source": [
    "df= df.dropna(axis=1, thresh=int(0.5*len(df)))\n",
    "df.shape"
   ]
  },
  {
   "cell_type": "code",
   "execution_count": 9,
   "metadata": {},
   "outputs": [],
   "source": [
    "df=df.dropna(axis=0, how='any')"
   ]
  },
  {
   "cell_type": "code",
   "execution_count": 10,
   "metadata": {
    "scrolled": true
   },
   "outputs": [
    {
     "name": "stdout",
     "output_type": "stream",
     "text": [
      "<class 'pandas.core.frame.DataFrame'>\n",
      "Int64Index: 28818 entries, 0 to 28907\n",
      "Data columns (total 13 columns):\n",
      "Provider ID           28818 non-null int64\n",
      "Hospital Name         28818 non-null object\n",
      "Address               28818 non-null object\n",
      "City                  28818 non-null object\n",
      "State                 28818 non-null object\n",
      "ZIP Code              28818 non-null int64\n",
      "County Name           28818 non-null object\n",
      "Phone Number          28818 non-null int64\n",
      "Measure ID            28818 non-null object\n",
      "Measure Name          28818 non-null object\n",
      "Score                 28818 non-null object\n",
      "Measure Start Date    28818 non-null object\n",
      "Measure End Date      28818 non-null object\n",
      "dtypes: int64(3), object(10)\n",
      "memory usage: 3.1+ MB\n"
     ]
    }
   ],
   "source": [
    "df.info()"
   ]
  },
  {
   "cell_type": "code",
   "execution_count": 11,
   "metadata": {
    "scrolled": true
   },
   "outputs": [
    {
     "name": "stdout",
     "output_type": "stream",
     "text": [
      "<class 'pandas.core.frame.DataFrame'>\n",
      "Int64Index: 28818 entries, 0 to 28907\n",
      "Data columns (total 13 columns):\n",
      "Provider ID           28818 non-null int64\n",
      "Hospital Name         28818 non-null object\n",
      "Address               28818 non-null object\n",
      "City                  28818 non-null object\n",
      "State                 28818 non-null object\n",
      "ZIP Code              28818 non-null int64\n",
      "County Name           28818 non-null object\n",
      "Phone Number          28818 non-null int64\n",
      "Measure ID            28818 non-null object\n",
      "Measure Name          28818 non-null object\n",
      "Score                 28818 non-null object\n",
      "Measure Start Date    28818 non-null object\n",
      "Measure End Date      28818 non-null object\n",
      "dtypes: int64(3), object(10)\n",
      "memory usage: 3.1+ MB\n"
     ]
    }
   ],
   "source": [
    "# Drop duplicate records if any\n",
    "df=df.drop_duplicates(keep='first', inplace=False)\n",
    "df.info()"
   ]
  },
  {
   "cell_type": "markdown",
   "metadata": {},
   "source": [
    "### Removing unwanted data -\n",
    "\n",
    "### This step will be specific to your dataset \n",
    "data where most of the metrics are not available/not applicable wont give any info so removing such records.\n",
    "Address , city, state can be removed as we have Zip Code "
   ]
  },
  {
   "cell_type": "code",
   "execution_count": 12,
   "metadata": {},
   "outputs": [],
   "source": [
    "df=df[~(df[\"Score\"].isin(['Not Applicable','Not Available']))]"
   ]
  },
  {
   "cell_type": "code",
   "execution_count": 13,
   "metadata": {},
   "outputs": [],
   "source": [
    "df=df.drop([\"Address\",\"City\",\"State\",\"Phone Number\"],axis=1)"
   ]
  },
  {
   "cell_type": "code",
   "execution_count": 14,
   "metadata": {
    "scrolled": true
   },
   "outputs": [
    {
     "name": "stdout",
     "output_type": "stream",
     "text": [
      "<class 'pandas.core.frame.DataFrame'>\n",
      "Int64Index: 16300 entries, 0 to 28849\n",
      "Data columns (total 9 columns):\n",
      "Provider ID           16300 non-null int64\n",
      "Hospital Name         16300 non-null object\n",
      "ZIP Code              16300 non-null int64\n",
      "County Name           16300 non-null object\n",
      "Measure ID            16300 non-null object\n",
      "Measure Name          16300 non-null object\n",
      "Score                 16300 non-null object\n",
      "Measure Start Date    16300 non-null object\n",
      "Measure End Date      16300 non-null object\n",
      "dtypes: int64(2), object(7)\n",
      "memory usage: 1.2+ MB\n"
     ]
    }
   ],
   "source": [
    "df.info()"
   ]
  },
  {
   "cell_type": "markdown",
   "metadata": {},
   "source": [
    "### Converting some categorical variables to numeric"
   ]
  },
  {
   "cell_type": "code",
   "execution_count": 15,
   "metadata": {},
   "outputs": [],
   "source": [
    "df[\"Score\"] = df[\"Score\"].apply(pd.to_numeric,errors='coerce')\n"
   ]
  },
  {
   "cell_type": "code",
   "execution_count": 16,
   "metadata": {},
   "outputs": [],
   "source": [
    "df=df.fillna(0)"
   ]
  },
  {
   "cell_type": "code",
   "execution_count": 17,
   "metadata": {
    "scrolled": false
   },
   "outputs": [
    {
     "name": "stdout",
     "output_type": "stream",
     "text": [
      "<class 'pandas.core.frame.DataFrame'>\n",
      "Int64Index: 16300 entries, 0 to 28849\n",
      "Data columns (total 9 columns):\n",
      "Provider ID           16300 non-null int64\n",
      "Hospital Name         16300 non-null object\n",
      "ZIP Code              16300 non-null int64\n",
      "County Name           16300 non-null object\n",
      "Measure ID            16300 non-null object\n",
      "Measure Name          16300 non-null object\n",
      "Score                 16300 non-null float64\n",
      "Measure Start Date    16300 non-null object\n",
      "Measure End Date      16300 non-null object\n",
      "dtypes: float64(1), int64(2), object(6)\n",
      "memory usage: 1.2+ MB\n"
     ]
    }
   ],
   "source": [
    "df.info()"
   ]
  },
  {
   "cell_type": "code",
   "execution_count": 18,
   "metadata": {
    "scrolled": false
   },
   "outputs": [
    {
     "data": {
      "image/png": "[encoded data removed]",
      "text/plain": [
       "<matplotlib.figure.Figure at 0xb7169b0>"
      ]
     },
     "metadata": {},
     "output_type": "display_data"
    }
   ],
   "source": [
    "# Let's see the correlation matrix \n",
    "plt.figure(figsize = (20,10))        # Size of the figure\n",
    "sns.heatmap(df.corr(),annot = True)\n",
    "plt.show()"
   ]
  },
  {
   "cell_type": "markdown",
   "metadata": {},
   "source": [
    "## We can see that there is no significant correlation amoung the columns ; hence heekping all these columns in the dataset for now ; we can later remove certain fields when we merge it to other datasets."
   ]
  },
  {
   "cell_type": "markdown",
   "metadata": {},
   "source": [
    "## Writing cleaned data to another file"
   ]
  },
  {
   "cell_type": "code",
   "execution_count": 19,
   "metadata": {},
   "outputs": [],
   "source": [
    "#Write cleaned data to csv for further use\n",
    "df.to_csv('Outpatient Imaging Efficiency.csv')"
   ]
  },
  {
   "cell_type": "code",
   "execution_count": 20,
   "metadata": {
    "scrolled": true
   },
   "outputs": [
    {
     "name": "stdout",
     "output_type": "stream",
     "text": [
      "<class 'pandas.core.frame.DataFrame'>\n",
      "Int64Index: 16300 entries, 0 to 28849\n",
      "Data columns (total 9 columns):\n",
      "Provider ID           16300 non-null int64\n",
      "Hospital Name         16300 non-null object\n",
      "ZIP Code              16300 non-null int64\n",
      "County Name           16300 non-null object\n",
      "Measure ID            16300 non-null object\n",
      "Measure Name          16300 non-null object\n",
      "Score                 16300 non-null float64\n",
      "Measure Start Date    16300 non-null object\n",
      "Measure End Date      16300 non-null object\n",
      "dtypes: float64(1), int64(2), object(6)\n",
      "memory usage: 1.2+ MB\n"
     ]
    }
   ],
   "source": [
    "OPImgEff = df[:]\n",
    "OPImgEff.info()"
   ]
  },
  {
   "cell_type": "code",
   "execution_count": 21,
   "metadata": {},
   "outputs": [],
   "source": [
    "df=pd.read_csv(\"Outpatient Imaging Efficiency.csv\",encoding='latin1')"
   ]
  },
  {
   "cell_type": "code",
   "execution_count": 22,
   "metadata": {},
   "outputs": [
    {
     "name": "stdout",
     "output_type": "stream",
     "text": [
      "<class 'pandas.core.frame.DataFrame'>\n",
      "RangeIndex: 16300 entries, 0 to 16299\n",
      "Data columns (total 10 columns):\n",
      "Unnamed: 0            16300 non-null int64\n",
      "Provider ID           16300 non-null int64\n",
      "Hospital Name         16300 non-null object\n",
      "ZIP Code              16300 non-null int64\n",
      "County Name           16300 non-null object\n",
      "Measure ID            16300 non-null object\n",
      "Measure Name          16300 non-null object\n",
      "Score                 16300 non-null float64\n",
      "Measure Start Date    16300 non-null object\n",
      "Measure End Date      16300 non-null object\n",
      "dtypes: float64(1), int64(3), object(6)\n",
      "memory usage: 1.2+ MB\n"
     ]
    }
   ],
   "source": [
    "df.info()"
   ]
  },
  {
   "cell_type": "code",
   "execution_count": 23,
   "metadata": {},
   "outputs": [],
   "source": [
    "#Drop unwanted columns\n",
    "df=df.drop(['Hospital Name','ZIP Code','Measure Name','County Name','Measure Start Date','Measure End Date'],axis=1)"
   ]
  },
  {
   "cell_type": "code",
   "execution_count": 24,
   "metadata": {},
   "outputs": [
    {
     "data": {
      "text/plain": [
       "array(['OP_10', 'OP_11', 'OP_13', 'OP_14', 'OP_8', 'OP_9'], dtype=object)"
      ]
     },
     "execution_count": 24,
     "metadata": {},
     "output_type": "execute_result"
    }
   ],
   "source": [
    "df['Measure ID'].unique()"
   ]
  },
  {
   "cell_type": "code",
   "execution_count": 25,
   "metadata": {},
   "outputs": [
    {
     "data": {
      "text/html": [
       "<div>\n",
       "<style scoped>\n",
       "    .dataframe tbody tr th:only-of-type {\n",
       "        vertical-align: middle;\n",
       "    }\n",
       "\n",
       "    .dataframe tbody tr th {\n",
       "        vertical-align: top;\n",
       "    }\n",
       "\n",
       "    .dataframe thead th {\n",
       "        text-align: right;\n",
       "    }\n",
       "</style>\n",
       "<table border=\"1\" class=\"dataframe\">\n",
       "  <thead>\n",
       "    <tr style=\"text-align: right;\">\n",
       "      <th>Measure ID</th>\n",
       "      <th>Provider ID</th>\n",
       "      <th>OP_10</th>\n",
       "      <th>OP_11</th>\n",
       "      <th>OP_13</th>\n",
       "      <th>OP_14</th>\n",
       "      <th>OP_8</th>\n",
       "      <th>OP_9</th>\n",
       "    </tr>\n",
       "  </thead>\n",
       "  <tbody>\n",
       "    <tr>\n",
       "      <th>0</th>\n",
       "      <td>10001</td>\n",
       "      <td>6.4</td>\n",
       "      <td>0.9</td>\n",
       "      <td>7.1</td>\n",
       "      <td>2.4</td>\n",
       "      <td>38.1</td>\n",
       "      <td>6.9</td>\n",
       "    </tr>\n",
       "    <tr>\n",
       "      <th>1</th>\n",
       "      <td>10005</td>\n",
       "      <td>13.3</td>\n",
       "      <td>10.2</td>\n",
       "      <td>5.3</td>\n",
       "      <td>4.0</td>\n",
       "      <td>42.8</td>\n",
       "      <td>5.1</td>\n",
       "    </tr>\n",
       "    <tr>\n",
       "      <th>2</th>\n",
       "      <td>10006</td>\n",
       "      <td>11.8</td>\n",
       "      <td>4.6</td>\n",
       "      <td>0.0</td>\n",
       "      <td>4.6</td>\n",
       "      <td>45.6</td>\n",
       "      <td>9.1</td>\n",
       "    </tr>\n",
       "    <tr>\n",
       "      <th>3</th>\n",
       "      <td>10007</td>\n",
       "      <td>24.3</td>\n",
       "      <td>6.1</td>\n",
       "      <td>NaN</td>\n",
       "      <td>NaN</td>\n",
       "      <td>NaN</td>\n",
       "      <td>20.7</td>\n",
       "    </tr>\n",
       "    <tr>\n",
       "      <th>4</th>\n",
       "      <td>10008</td>\n",
       "      <td>3.6</td>\n",
       "      <td>NaN</td>\n",
       "      <td>NaN</td>\n",
       "      <td>0.6</td>\n",
       "      <td>NaN</td>\n",
       "      <td>8.2</td>\n",
       "    </tr>\n",
       "  </tbody>\n",
       "</table>\n",
       "</div>"
      ],
      "text/plain": [
       "Measure ID  Provider ID  OP_10  OP_11  OP_13  OP_14  OP_8  OP_9\n",
       "0                 10001    6.4    0.9    7.1    2.4  38.1   6.9\n",
       "1                 10005   13.3   10.2    5.3    4.0  42.8   5.1\n",
       "2                 10006   11.8    4.6    0.0    4.6  45.6   9.1\n",
       "3                 10007   24.3    6.1    NaN    NaN   NaN  20.7\n",
       "4                 10008    3.6    NaN    NaN    0.6   NaN   8.2"
      ]
     },
     "execution_count": 25,
     "metadata": {},
     "output_type": "execute_result"
    }
   ],
   "source": [
    "# Pivot table \n",
    "df=df.pivot_table(values= 'Score', index= 'Provider ID', columns= 'Measure ID')\n",
    "df.reset_index(inplace=True)\n",
    "df = df.rename_axis(None)\n",
    "df.head()"
   ]
  },
  {
   "cell_type": "code",
   "execution_count": 26,
   "metadata": {},
   "outputs": [
    {
     "name": "stdout",
     "output_type": "stream",
     "text": [
      "<class 'pandas.core.frame.DataFrame'>\n",
      "RangeIndex: 3779 entries, 0 to 3778\n",
      "Data columns (total 7 columns):\n",
      "Provider ID    3779 non-null int64\n",
      "OP_10          3625 non-null float64\n",
      "OP_11          3346 non-null float64\n",
      "OP_13          2232 non-null float64\n",
      "OP_14          2303 non-null float64\n",
      "OP_8           1523 non-null float64\n",
      "OP_9           3271 non-null float64\n",
      "dtypes: float64(6), int64(1)\n",
      "memory usage: 206.7 KB\n"
     ]
    }
   ],
   "source": [
    "df.info()"
   ]
  },
  {
   "cell_type": "code",
   "execution_count": 27,
   "metadata": {},
   "outputs": [
    {
     "data": {
      "text/plain": [
       "Measure ID\n",
       "Provider ID     0.00\n",
       "OP_10           4.08\n",
       "OP_11          11.46\n",
       "OP_13          40.94\n",
       "OP_14          39.06\n",
       "OP_8           59.70\n",
       "OP_9           13.44\n",
       "dtype: float64"
      ]
     },
     "execution_count": 27,
     "metadata": {},
     "output_type": "execute_result"
    }
   ],
   "source": [
    "round((df.isnull().sum()/df.isnull().count())*100,2)"
   ]
  },
  {
   "cell_type": "code",
   "execution_count": 28,
   "metadata": {},
   "outputs": [],
   "source": [
    "df.fillna(0, inplace=True)"
   ]
  },
  {
   "cell_type": "code",
   "execution_count": 29,
   "metadata": {},
   "outputs": [],
   "source": [
    "# Drop extra features\n",
    "df=df.drop('OP_9',axis=1)"
   ]
  },
  {
   "cell_type": "code",
   "execution_count": 30,
   "metadata": {},
   "outputs": [],
   "source": [
    "# Write data to file in case needed for clustering\n",
    "df.to_csv('Efficiency_clustering.csv')"
   ]
  },
  {
   "cell_type": "code",
   "execution_count": 31,
   "metadata": {},
   "outputs": [
    {
     "data": {
      "text/plain": [
       "<matplotlib.axes._subplots.AxesSubplot at 0xbd9c9e8>"
      ]
     },
     "execution_count": 31,
     "metadata": {},
     "output_type": "execute_result"
    },
    {
     "data": {
      "image/png": "[encoded data removed]",
      "text/plain": [
       "<matplotlib.figure.Figure at 0xbdb04e0>"
      ]
     },
     "metadata": {},
     "output_type": "display_data"
    }
   ],
   "source": [
    "sns.heatmap(df.corr())"
   ]
  },
  {
   "cell_type": "code",
   "execution_count": 32,
   "metadata": {},
   "outputs": [],
   "source": [
    "# multiplying measure scores with respective weigts(loading coefficients)\n",
    "df['OP_8'] = df['OP_8']*0.08\n",
    "df['OP_10'] = df['OP_10']*0.69\n",
    "df['OP_11'] = df['OP_11']*0.16\n",
    "df['OP_13'] = df['OP_13']*-0.01\n",
    "df['OP_14'] = df['OP_14']*-0.02\n"
   ]
  },
  {
   "cell_type": "code",
   "execution_count": 33,
   "metadata": {},
   "outputs": [],
   "source": [
    "# Average of the weighted scores to calculated group score.\n",
    "df['Efficiency_score'] = ((df['OP_8']+df['OP_10']+df['OP_11']+df['OP_13']+df['OP_14'])/5)"
   ]
  },
  {
   "cell_type": "code",
   "execution_count": 34,
   "metadata": {},
   "outputs": [],
   "source": [
    "#Write data to file which will be used further for supervised learning models\n",
    "df.to_csv('Efficiency_score.csv')"
   ]
  },
  {
   "cell_type": "code",
   "execution_count": 35,
   "metadata": {},
   "outputs": [
    {
     "data": {
      "text/html": [
       "<div>\n",
       "<style scoped>\n",
       "    .dataframe tbody tr th:only-of-type {\n",
       "        vertical-align: middle;\n",
       "    }\n",
       "\n",
       "    .dataframe tbody tr th {\n",
       "        vertical-align: top;\n",
       "    }\n",
       "\n",
       "    .dataframe thead th {\n",
       "        text-align: right;\n",
       "    }\n",
       "</style>\n",
       "<table border=\"1\" class=\"dataframe\">\n",
       "  <thead>\n",
       "    <tr style=\"text-align: right;\">\n",
       "      <th>Measure ID</th>\n",
       "      <th>Provider ID</th>\n",
       "      <th>OP_10</th>\n",
       "      <th>OP_11</th>\n",
       "      <th>OP_13</th>\n",
       "      <th>OP_14</th>\n",
       "      <th>OP_8</th>\n",
       "    </tr>\n",
       "    <tr>\n",
       "      <th>Measure ID</th>\n",
       "      <th></th>\n",
       "      <th></th>\n",
       "      <th></th>\n",
       "      <th></th>\n",
       "      <th></th>\n",
       "      <th></th>\n",
       "    </tr>\n",
       "  </thead>\n",
       "  <tbody>\n",
       "    <tr>\n",
       "      <th>Provider ID</th>\n",
       "      <td>1.000000</td>\n",
       "      <td>-0.029231</td>\n",
       "      <td>-0.052799</td>\n",
       "      <td>-0.029370</td>\n",
       "      <td>0.055226</td>\n",
       "      <td>0.053549</td>\n",
       "    </tr>\n",
       "    <tr>\n",
       "      <th>OP_10</th>\n",
       "      <td>-0.029231</td>\n",
       "      <td>1.000000</td>\n",
       "      <td>0.406111</td>\n",
       "      <td>0.023586</td>\n",
       "      <td>0.046328</td>\n",
       "      <td>0.059863</td>\n",
       "    </tr>\n",
       "    <tr>\n",
       "      <th>OP_11</th>\n",
       "      <td>-0.052799</td>\n",
       "      <td>0.406111</td>\n",
       "      <td>1.000000</td>\n",
       "      <td>0.045712</td>\n",
       "      <td>0.019887</td>\n",
       "      <td>0.008933</td>\n",
       "    </tr>\n",
       "    <tr>\n",
       "      <th>OP_13</th>\n",
       "      <td>-0.029370</td>\n",
       "      <td>0.023586</td>\n",
       "      <td>0.045712</td>\n",
       "      <td>1.000000</td>\n",
       "      <td>0.196668</td>\n",
       "      <td>-0.345804</td>\n",
       "    </tr>\n",
       "    <tr>\n",
       "      <th>OP_14</th>\n",
       "      <td>0.055226</td>\n",
       "      <td>0.046328</td>\n",
       "      <td>0.019887</td>\n",
       "      <td>0.196668</td>\n",
       "      <td>1.000000</td>\n",
       "      <td>-0.173416</td>\n",
       "    </tr>\n",
       "    <tr>\n",
       "      <th>OP_8</th>\n",
       "      <td>0.053549</td>\n",
       "      <td>0.059863</td>\n",
       "      <td>0.008933</td>\n",
       "      <td>-0.345804</td>\n",
       "      <td>-0.173416</td>\n",
       "      <td>1.000000</td>\n",
       "    </tr>\n",
       "  </tbody>\n",
       "</table>\n",
       "</div>"
      ],
      "text/plain": [
       "Measure ID   Provider ID     OP_10     OP_11     OP_13     OP_14      OP_8\n",
       "Measure ID                                                                \n",
       "Provider ID     1.000000 -0.029231 -0.052799 -0.029370  0.055226  0.053549\n",
       "OP_10          -0.029231  1.000000  0.406111  0.023586  0.046328  0.059863\n",
       "OP_11          -0.052799  0.406111  1.000000  0.045712  0.019887  0.008933\n",
       "OP_13          -0.029370  0.023586  0.045712  1.000000  0.196668 -0.345804\n",
       "OP_14           0.055226  0.046328  0.019887  0.196668  1.000000 -0.173416\n",
       "OP_8            0.053549  0.059863  0.008933 -0.345804 -0.173416  1.000000"
      ]
     },
     "execution_count": 35,
     "metadata": {},
     "output_type": "execute_result"
    }
   ],
   "source": [
    "df_copy=df.drop('Efficiency_score',axis=1)\n",
    "df_copy.corr()"
   ]
  },
  {
   "cell_type": "code",
   "execution_count": 36,
   "metadata": {},
   "outputs": [
    {
     "data": {
      "text/plain": [
       "<matplotlib.axes._subplots.AxesSubplot at 0xbe0fe80>"
      ]
     },
     "execution_count": 36,
     "metadata": {},
     "output_type": "execute_result"
    },
    {
     "data": {
      "image/png": "[encoded data removed]",
      "text/plain": [
       "<matplotlib.figure.Figure at 0xb68c048>"
      ]
     },
     "metadata": {},
     "output_type": "display_data"
    }
   ],
   "source": [
    "sns.heatmap(df_copy.corr())"
   ]
  },
  {
   "cell_type": "code",
   "execution_count": 37,
   "metadata": {},
   "outputs": [],
   "source": [
    "df1= df_copy.drop('Provider ID',axis=1)"
   ]
  },
  {
   "cell_type": "code",
   "execution_count": 38,
   "metadata": {},
   "outputs": [],
   "source": [
    "meandf= pd.DataFrame(df1.mean())"
   ]
  },
  {
   "cell_type": "code",
   "execution_count": 39,
   "metadata": {},
   "outputs": [],
   "source": [
    "meandf['index1'] = meandf.index"
   ]
  },
  {
   "cell_type": "code",
   "execution_count": 40,
   "metadata": {},
   "outputs": [
    {
     "data": {
      "text/html": [
       "<div>\n",
       "<style scoped>\n",
       "    .dataframe tbody tr th:only-of-type {\n",
       "        vertical-align: middle;\n",
       "    }\n",
       "\n",
       "    .dataframe tbody tr th {\n",
       "        vertical-align: top;\n",
       "    }\n",
       "\n",
       "    .dataframe thead th {\n",
       "        text-align: right;\n",
       "    }\n",
       "</style>\n",
       "<table border=\"1\" class=\"dataframe\">\n",
       "  <thead>\n",
       "    <tr style=\"text-align: right;\">\n",
       "      <th></th>\n",
       "      <th>mean</th>\n",
       "      <th>Measures</th>\n",
       "    </tr>\n",
       "  </thead>\n",
       "  <tbody>\n",
       "    <tr>\n",
       "      <th>OP_10</th>\n",
       "      <td>5.938053</td>\n",
       "      <td>OP_10</td>\n",
       "    </tr>\n",
       "    <tr>\n",
       "      <th>OP_11</th>\n",
       "      <td>0.449334</td>\n",
       "      <td>OP_11</td>\n",
       "    </tr>\n",
       "    <tr>\n",
       "      <th>OP_13</th>\n",
       "      <td>-0.027676</td>\n",
       "      <td>OP_13</td>\n",
       "    </tr>\n",
       "    <tr>\n",
       "      <th>OP_14</th>\n",
       "      <td>-0.033992</td>\n",
       "      <td>OP_14</td>\n",
       "    </tr>\n",
       "    <tr>\n",
       "      <th>OP_8</th>\n",
       "      <td>1.295519</td>\n",
       "      <td>OP_8</td>\n",
       "    </tr>\n",
       "  </tbody>\n",
       "</table>\n",
       "</div>"
      ],
      "text/plain": [
       "           mean Measures\n",
       "OP_10  5.938053    OP_10\n",
       "OP_11  0.449334    OP_11\n",
       "OP_13 -0.027676    OP_13\n",
       "OP_14 -0.033992    OP_14\n",
       "OP_8   1.295519     OP_8"
      ]
     },
     "execution_count": 40,
     "metadata": {},
     "output_type": "execute_result"
    }
   ],
   "source": [
    "meandf = meandf.rename_axis(None)\n",
    "meandf.rename(columns={'index1':'Measures',0:'mean'},inplace=True)\n",
    "meandf"
   ]
  },
  {
   "cell_type": "code",
   "execution_count": 41,
   "metadata": {},
   "outputs": [
    {
     "data": {
      "image/png": "[encoded data removed]",
      "text/plain": [
       "<matplotlib.figure.Figure at 0xbf116a0>"
      ]
     },
     "metadata": {},
     "output_type": "display_data"
    }
   ],
   "source": [
    "plt.figure(figsize=(10, 4))\n",
    "ax = sns.barplot(y='mean', x='Measures', data= meandf)"
   ]
  },
  {
   "cell_type": "code",
   "execution_count": null,
   "metadata": {},
   "outputs": [],
   "source": []
  },
  {
   "cell_type": "code",
   "execution_count": null,
   "metadata": {},
   "outputs": [],
   "source": []
  },
  {
   "cell_type": "code",
   "execution_count": null,
   "metadata": {},
   "outputs": [],
   "source": []
  }
 ],
 "metadata": {
  "kernelspec": {
   "display_name": "Python 3",
   "language": "python",
   "name": "python3"
  },
  "language_info": {
   "codemirror_mode": {
    "name": "ipython",
    "version": 3
   },
   "file_extension": ".py",
   "mimetype": "text/x-python",
   "name": "python",
   "nbconvert_exporter": "python",
   "pygments_lexer": "ipython3",
   "version": "3.6.4"
  }
 },
 "nbformat": 4,
 "nbformat_minor": 2
}
