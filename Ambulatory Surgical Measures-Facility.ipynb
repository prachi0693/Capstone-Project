{
 "cells": [
  {
   "cell_type": "code",
   "execution_count": 15,
   "metadata": {},
   "outputs": [],
   "source": [
    "\n",
    "import pandas as pd\n",
    "import numpy as np\n",
    "import matplotlib.pyplot as plt\n",
    "import seaborn as sns\n",
    "%matplotlib inline"
   ]
  },
  {
   "cell_type": "markdown",
   "metadata": {},
   "source": [
    "Generic Data Cleaning and EDA\n",
    "Import Data and Check the properties"
   ]
  },
  {
   "cell_type": "code",
   "execution_count": 16,
   "metadata": {},
   "outputs": [],
   "source": [
    "df=pd.read_csv(\"Ambulatory Surgical Measures-Facility.csv\",encoding='latin1')\n"
   ]
  },
  {
   "cell_type": "code",
   "execution_count": 17,
   "metadata": {},
   "outputs": [
    {
     "data": {
      "text/html": [
       "<div>\n",
       "<style scoped>\n",
       "    .dataframe tbody tr th:only-of-type {\n",
       "        vertical-align: middle;\n",
       "    }\n",
       "\n",
       "    .dataframe tbody tr th {\n",
       "        vertical-align: top;\n",
       "    }\n",
       "\n",
       "    .dataframe thead th {\n",
       "        text-align: right;\n",
       "    }\n",
       "</style>\n",
       "<table border=\"1\" class=\"dataframe\">\n",
       "  <thead>\n",
       "    <tr style=\"text-align: right;\">\n",
       "      <th></th>\n",
       "      <th>ASC_Name</th>\n",
       "      <th>Provider_ID</th>\n",
       "      <th>NPI</th>\n",
       "      <th>City</th>\n",
       "      <th>State</th>\n",
       "      <th>ZIP_Code</th>\n",
       "      <th>Year</th>\n",
       "      <th>ASC1_Measure_Rate</th>\n",
       "      <th>ASC1_Footnote</th>\n",
       "      <th>ASC2_Measure_Rate</th>\n",
       "      <th>...</th>\n",
       "      <th>ASC_6_7_Encounter_End_Date</th>\n",
       "      <th>ASC_8_rate</th>\n",
       "      <th>ASC8_Footnote</th>\n",
       "      <th>ASC_8_Encounter_Date</th>\n",
       "      <th>ASC_9_rate</th>\n",
       "      <th>ASC9_Footnote</th>\n",
       "      <th>ASC_10_rate</th>\n",
       "      <th>ASC10_Footnote</th>\n",
       "      <th>ASC_9_10_Encounter_Start_Date</th>\n",
       "      <th>ASC_9_10_Encounter_End_Date</th>\n",
       "    </tr>\n",
       "  </thead>\n",
       "  <tbody>\n",
       "    <tr>\n",
       "      <th>0</th>\n",
       "      <td>Awh Holdings LLC</td>\n",
       "      <td>02C0001000</td>\n",
       "      <td>1.033396e+09</td>\n",
       "      <td>Anchorage</td>\n",
       "      <td>AK</td>\n",
       "      <td>99508</td>\n",
       "      <td>2014</td>\n",
       "      <td>0.0</td>\n",
       "      <td>NaN</td>\n",
       "      <td>0.000</td>\n",
       "      <td>...</td>\n",
       "      <td>NaN</td>\n",
       "      <td>NaN</td>\n",
       "      <td>NaN</td>\n",
       "      <td>NaN</td>\n",
       "      <td>NaN</td>\n",
       "      <td>NaN</td>\n",
       "      <td>NaN</td>\n",
       "      <td>NaN</td>\n",
       "      <td>NaN</td>\n",
       "      <td>NaN</td>\n",
       "    </tr>\n",
       "    <tr>\n",
       "      <th>1</th>\n",
       "      <td>Alaska Spine Center, LLC</td>\n",
       "      <td>02C0001006</td>\n",
       "      <td>1.093711e+09</td>\n",
       "      <td>Anchorage</td>\n",
       "      <td>AK</td>\n",
       "      <td>99508</td>\n",
       "      <td>2014</td>\n",
       "      <td>0.0</td>\n",
       "      <td>NaN</td>\n",
       "      <td>3.831</td>\n",
       "      <td>...</td>\n",
       "      <td>12/31/2014</td>\n",
       "      <td>62.50</td>\n",
       "      <td>NaN</td>\n",
       "      <td>2014/2015</td>\n",
       "      <td>NaN</td>\n",
       "      <td>N/A (5)</td>\n",
       "      <td>NaN</td>\n",
       "      <td>N/A (5)</td>\n",
       "      <td>01/01/2014</td>\n",
       "      <td>12/31/2014</td>\n",
       "    </tr>\n",
       "    <tr>\n",
       "      <th>2</th>\n",
       "      <td>Alaska Surgery Center LTD</td>\n",
       "      <td>02C0001001</td>\n",
       "      <td>1.205892e+09</td>\n",
       "      <td>Anchorage</td>\n",
       "      <td>AK</td>\n",
       "      <td>99508</td>\n",
       "      <td>2014</td>\n",
       "      <td>0.0</td>\n",
       "      <td>NaN</td>\n",
       "      <td>0.000</td>\n",
       "      <td>...</td>\n",
       "      <td>12/31/2014</td>\n",
       "      <td>52.38</td>\n",
       "      <td>NaN</td>\n",
       "      <td>2014/2015</td>\n",
       "      <td>NaN</td>\n",
       "      <td>N/A (5)</td>\n",
       "      <td>NaN</td>\n",
       "      <td>N/A (5)</td>\n",
       "      <td>01/01/2014</td>\n",
       "      <td>12/31/2014</td>\n",
       "    </tr>\n",
       "    <tr>\n",
       "      <th>3</th>\n",
       "      <td>Surgery Center of Fairbanks LLC</td>\n",
       "      <td>02C0001012</td>\n",
       "      <td>1.255652e+09</td>\n",
       "      <td>Fairbanks</td>\n",
       "      <td>AK</td>\n",
       "      <td>99709</td>\n",
       "      <td>2014</td>\n",
       "      <td>NaN</td>\n",
       "      <td>N/A (5)</td>\n",
       "      <td>NaN</td>\n",
       "      <td>...</td>\n",
       "      <td>12/31/2014</td>\n",
       "      <td>76.60</td>\n",
       "      <td>NaN</td>\n",
       "      <td>2014/2015</td>\n",
       "      <td>64.29</td>\n",
       "      <td>NaN</td>\n",
       "      <td>75.0</td>\n",
       "      <td>NaN</td>\n",
       "      <td>01/01/2014</td>\n",
       "      <td>12/31/2014</td>\n",
       "    </tr>\n",
       "    <tr>\n",
       "      <th>4</th>\n",
       "      <td>Alaska Spine Institute Surgery Center, LLC</td>\n",
       "      <td>02C0001008</td>\n",
       "      <td>1.316942e+09</td>\n",
       "      <td>Anchorage</td>\n",
       "      <td>AK</td>\n",
       "      <td>99508</td>\n",
       "      <td>2014</td>\n",
       "      <td>0.0</td>\n",
       "      <td>NaN</td>\n",
       "      <td>0.000</td>\n",
       "      <td>...</td>\n",
       "      <td>12/31/2014</td>\n",
       "      <td>59.38</td>\n",
       "      <td>NaN</td>\n",
       "      <td>2014/2015</td>\n",
       "      <td>NaN</td>\n",
       "      <td>N/A (5)</td>\n",
       "      <td>NaN</td>\n",
       "      <td>N/A (5)</td>\n",
       "      <td>01/01/2014</td>\n",
       "      <td>12/31/2014</td>\n",
       "    </tr>\n",
       "  </tbody>\n",
       "</table>\n",
       "<p>5 rows × 42 columns</p>\n",
       "</div>"
      ],
      "text/plain": [
       "                                     ASC_Name Provider_ID           NPI  \\\n",
       "0                            Awh Holdings LLC  02C0001000  1.033396e+09   \n",
       "1                    Alaska Spine Center, LLC  02C0001006  1.093711e+09   \n",
       "2                   Alaska Surgery Center LTD  02C0001001  1.205892e+09   \n",
       "3             Surgery Center of Fairbanks LLC  02C0001012  1.255652e+09   \n",
       "4  Alaska Spine Institute Surgery Center, LLC  02C0001008  1.316942e+09   \n",
       "\n",
       "        City State  ZIP_Code  Year  ASC1_Measure_Rate ASC1_Footnote  \\\n",
       "0  Anchorage    AK     99508  2014                0.0           NaN   \n",
       "1  Anchorage    AK     99508  2014                0.0           NaN   \n",
       "2  Anchorage    AK     99508  2014                0.0           NaN   \n",
       "3  Fairbanks    AK     99709  2014                NaN       N/A (5)   \n",
       "4  Anchorage    AK     99508  2014                0.0           NaN   \n",
       "\n",
       "   ASC2_Measure_Rate  ... ASC_6_7_Encounter_End_Date  ASC_8_rate  \\\n",
       "0              0.000  ...                        NaN         NaN   \n",
       "1              3.831  ...                 12/31/2014       62.50   \n",
       "2              0.000  ...                 12/31/2014       52.38   \n",
       "3                NaN  ...                 12/31/2014       76.60   \n",
       "4              0.000  ...                 12/31/2014       59.38   \n",
       "\n",
       "  ASC8_Footnote  ASC_8_Encounter_Date ASC_9_rate  ASC9_Footnote ASC_10_rate  \\\n",
       "0           NaN                   NaN        NaN            NaN         NaN   \n",
       "1           NaN             2014/2015        NaN        N/A (5)         NaN   \n",
       "2           NaN             2014/2015        NaN        N/A (5)         NaN   \n",
       "3           NaN             2014/2015      64.29            NaN        75.0   \n",
       "4           NaN             2014/2015        NaN        N/A (5)         NaN   \n",
       "\n",
       "  ASC10_Footnote ASC_9_10_Encounter_Start_Date ASC_9_10_Encounter_End_Date  \n",
       "0            NaN                           NaN                         NaN  \n",
       "1        N/A (5)                    01/01/2014                  12/31/2014  \n",
       "2        N/A (5)                    01/01/2014                  12/31/2014  \n",
       "3            NaN                    01/01/2014                  12/31/2014  \n",
       "4        N/A (5)                    01/01/2014                  12/31/2014  \n",
       "\n",
       "[5 rows x 42 columns]"
      ]
     },
     "execution_count": 17,
     "metadata": {},
     "output_type": "execute_result"
    }
   ],
   "source": [
    "df.head()\n"
   ]
  },
  {
   "cell_type": "code",
   "execution_count": 18,
   "metadata": {},
   "outputs": [
    {
     "data": {
      "text/plain": [
       "(10498, 42)"
      ]
     },
     "execution_count": 18,
     "metadata": {},
     "output_type": "execute_result"
    }
   ],
   "source": [
    "df.shape\n"
   ]
  },
  {
   "cell_type": "code",
   "execution_count": 19,
   "metadata": {},
   "outputs": [
    {
     "data": {
      "text/plain": [
       "ASC_Name                          0.00\n",
       "Provider_ID                       0.86\n",
       "NPI                               0.01\n",
       "City                              0.00\n",
       "State                             0.00\n",
       "ZIP_Code                          0.00\n",
       "Year                              0.00\n",
       "ASC1_Measure_Rate                11.77\n",
       "ASC1_Footnote                    89.54\n",
       "ASC2_Measure_Rate                11.77\n",
       "ASC2_Footnote                    89.54\n",
       "ASC3_Measure_Rate                11.77\n",
       "ASC3_Footnote                    89.54\n",
       "ASC4_Measure_Rate                11.78\n",
       "ASC4_Footnote                    89.53\n",
       "ASC5_Measure_Rate                58.41\n",
       "ASC5_Footnote                    42.90\n",
       "ASC_1_5_Encounter_Start_Date      1.31\n",
       "ASC_1_5_Encounter_End_Date        1.31\n",
       "ASC6_SSChecklist                 58.77\n",
       "ASC6_Footnote                    97.32\n",
       "ASC_7_Volume                     58.94\n",
       "ASC_7_Gastrointestinal           58.94\n",
       "ASC_7_Eye                        58.94\n",
       "ASC_7_Musculoskeletal            58.94\n",
       "ASC_7_Skin                       58.94\n",
       "ASC_7_Genitourinary              58.94\n",
       "ASC_7_Multi_System               58.94\n",
       "ASC_7_Nervous_System             58.94\n",
       "ASC_7_Respiratory                58.94\n",
       "ASC7_Footnote                    96.53\n",
       "ASC_6_7_Encounter_Start_Date     56.10\n",
       "ASC_6_7_Encounter_End_Date       56.10\n",
       "ASC_8_rate                       58.53\n",
       "ASC8_Footnote                    97.57\n",
       "ASC_8_Encounter_Date             56.10\n",
       "ASC_9_rate                       82.32\n",
       "ASC9_Footnote                    73.26\n",
       "ASC_10_rate                      82.51\n",
       "ASC10_Footnote                   73.18\n",
       "ASC_9_10_Encounter_Start_Date    56.10\n",
       "ASC_9_10_Encounter_End_Date      56.10\n",
       "dtype: float64"
      ]
     },
     "execution_count": 19,
     "metadata": {},
     "output_type": "execute_result"
    }
   ],
   "source": [
    "# Check the data for percentage of null values\n",
    "\n",
    "round((df.isnull().sum()/df.isnull().count())*100,2)"
   ]
  },
  {
   "cell_type": "code",
   "execution_count": 20,
   "metadata": {},
   "outputs": [
    {
     "data": {
      "text/plain": [
       "(10498, 14)"
      ]
     },
     "execution_count": 20,
     "metadata": {},
     "output_type": "execute_result"
    }
   ],
   "source": [
    "#Dropping columns having more than 50% null values and eliminating rows having null values\n",
    "df= df.dropna(axis=1, thresh=int(0.5*len(df)))\n",
    "df.shape"
   ]
  },
  {
   "cell_type": "code",
   "execution_count": 21,
   "metadata": {},
   "outputs": [],
   "source": [
    "df=df.dropna(axis=0, how='any')"
   ]
  },
  {
   "cell_type": "code",
   "execution_count": 22,
   "metadata": {},
   "outputs": [
    {
     "name": "stdout",
     "output_type": "stream",
     "text": [
      "<class 'pandas.core.frame.DataFrame'>\n",
      "Int64Index: 4865 entries, 5 to 10494\n",
      "Data columns (total 14 columns):\n",
      "ASC_Name                        4865 non-null object\n",
      "Provider_ID                     4865 non-null object\n",
      "NPI                             4865 non-null float64\n",
      "City                            4865 non-null object\n",
      "State                           4865 non-null object\n",
      "ZIP_Code                        4865 non-null int64\n",
      "Year                            4865 non-null int64\n",
      "ASC1_Measure_Rate               4865 non-null float64\n",
      "ASC2_Measure_Rate               4865 non-null float64\n",
      "ASC3_Measure_Rate               4865 non-null float64\n",
      "ASC4_Measure_Rate               4865 non-null float64\n",
      "ASC5_Footnote                   4865 non-null object\n",
      "ASC_1_5_Encounter_Start_Date    4865 non-null object\n",
      "ASC_1_5_Encounter_End_Date      4865 non-null object\n",
      "dtypes: float64(5), int64(2), object(7)\n",
      "memory usage: 570.1+ KB\n"
     ]
    }
   ],
   "source": [
    "df.info()"
   ]
  },
  {
   "cell_type": "markdown",
   "metadata": {},
   "source": [
    "Removing unwanted data -\n",
    "This step will be specific to your dataset\n",
    "data where most of the metrics are not available/not applicable wont give any info so removing such records. Address , city, state can be removed as we have Zip Code"
   ]
  },
  {
   "cell_type": "code",
   "execution_count": 23,
   "metadata": {},
   "outputs": [],
   "source": [
    "df=df.drop([\"City\",\"State\"],axis=1)\n"
   ]
  },
  {
   "cell_type": "code",
   "execution_count": 24,
   "metadata": {},
   "outputs": [
    {
     "name": "stdout",
     "output_type": "stream",
     "text": [
      "<class 'pandas.core.frame.DataFrame'>\n",
      "Int64Index: 4865 entries, 5 to 10494\n",
      "Data columns (total 12 columns):\n",
      "ASC_Name                        4865 non-null object\n",
      "Provider_ID                     4865 non-null object\n",
      "NPI                             4865 non-null float64\n",
      "ZIP_Code                        4865 non-null int64\n",
      "Year                            4865 non-null int64\n",
      "ASC1_Measure_Rate               4865 non-null float64\n",
      "ASC2_Measure_Rate               4865 non-null float64\n",
      "ASC3_Measure_Rate               4865 non-null float64\n",
      "ASC4_Measure_Rate               4865 non-null float64\n",
      "ASC5_Footnote                   4865 non-null object\n",
      "ASC_1_5_Encounter_Start_Date    4865 non-null object\n",
      "ASC_1_5_Encounter_End_Date      4865 non-null object\n",
      "dtypes: float64(5), int64(2), object(5)\n",
      "memory usage: 494.1+ KB\n"
     ]
    }
   ],
   "source": [
    "df.info()\n"
   ]
  },
  {
   "cell_type": "code",
   "execution_count": 25,
   "metadata": {},
   "outputs": [],
   "source": [
    "df=df.fillna(0)"
   ]
  },
  {
   "cell_type": "code",
   "execution_count": 26,
   "metadata": {},
   "outputs": [
    {
     "data": {
      "image/png": "[encoded data removed]",
      "text/plain": [
       "<Figure size 1440x720 with 2 Axes>"
      ]
     },
     "metadata": {
      "needs_background": "light"
     },
     "output_type": "display_data"
    }
   ],
   "source": [
    "# Let's see the correlation matrix \n",
    "plt.figure(figsize = (20,10))        # Size of the figure\n",
    "sns.heatmap(df.corr(),annot = True)\n",
    "plt.show()"
   ]
  },
  {
   "cell_type": "markdown",
   "metadata": {},
   "source": [
    "\n",
    "We can see that there is no significant correlation amoung the columns ; hence heekping all these columns in the dataset for now ; we can later remove certain fields when we merge it to other datasets"
   ]
  },
  {
   "cell_type": "code",
   "execution_count": 28,
   "metadata": {},
   "outputs": [],
   "source": [
    "#Writing cleaned data to another file\n",
    "df.to_csv('Ambulatory_Cleaned.csv')"
   ]
  },
  {
   "cell_type": "code",
   "execution_count": 29,
   "metadata": {},
   "outputs": [
    {
     "name": "stdout",
     "output_type": "stream",
     "text": [
      "<class 'pandas.core.frame.DataFrame'>\n",
      "Int64Index: 4865 entries, 5 to 10494\n",
      "Data columns (total 12 columns):\n",
      "ASC_Name                        4865 non-null object\n",
      "Provider_ID                     4865 non-null object\n",
      "NPI                             4865 non-null float64\n",
      "ZIP_Code                        4865 non-null int64\n",
      "Year                            4865 non-null int64\n",
      "ASC1_Measure_Rate               4865 non-null float64\n",
      "ASC2_Measure_Rate               4865 non-null float64\n",
      "ASC3_Measure_Rate               4865 non-null float64\n",
      "ASC4_Measure_Rate               4865 non-null float64\n",
      "ASC5_Footnote                   4865 non-null object\n",
      "ASC_1_5_Encounter_Start_Date    4865 non-null object\n",
      "ASC_1_5_Encounter_End_Date      4865 non-null object\n",
      "dtypes: float64(5), int64(2), object(5)\n",
      "memory usage: 494.1+ KB\n"
     ]
    }
   ],
   "source": [
    "Ambulatory_Cleaned = df[:]\n",
    "Ambulatory_Cleaned.info()"
   ]
  }
 ],
 "metadata": {
  "kernelspec": {
   "display_name": "Python 3",
   "language": "python",
   "name": "python3"
  },
  "language_info": {
   "codemirror_mode": {
    "name": "ipython",
    "version": 3
   },
   "file_extension": ".py",
   "mimetype": "text/x-python",
   "name": "python",
   "nbconvert_exporter": "python",
   "pygments_lexer": "ipython3",
   "version": "3.7.3"
  }
 },
 "nbformat": 4,
 "nbformat_minor": 2
}
