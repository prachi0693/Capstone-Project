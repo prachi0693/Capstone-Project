{
 "cells": [
  {
   "cell_type": "code",
   "execution_count": 1,
   "metadata": {},
   "outputs": [],
   "source": [
    "import pandas as pd\n",
    "import numpy as np\n",
    "import matplotlib.pyplot as plt\n",
    "import seaborn as sns\n",
    "%matplotlib inline"
   ]
  },
  {
   "cell_type": "markdown",
   "metadata": {},
   "source": [
    "# Model Building\n",
    "\n",
    "### Get the cleaned and pivotted files for each measure category\n",
    "### Apply weights (multiply by 22 or 4 as per deloite case study\n",
    "### Merge the Data frames on provider id \n",
    "### Get the target variable from Hospital General Information file - 'Hospital Overall Rating'\n",
    "### Apply Quantile transformer to normalize the data \n",
    "### Apply RFE and Build Liniear model"
   ]
  },
  {
   "cell_type": "code",
   "execution_count": 2,
   "metadata": {},
   "outputs": [],
   "source": [
    "df1=pd.read_csv(\"Efficiency_score.csv\")\n",
    "df2=pd.read_csv(\"Mortality_score.csv\")\n",
    "df3=pd.read_csv(\"Readmission_score.csv\")"
   ]
  },
  {
   "cell_type": "code",
   "execution_count": 8,
   "metadata": {},
   "outputs": [
    {
     "data": {
      "text/html": [
       "<div>\n",
       "<style scoped>\n",
       "    .dataframe tbody tr th:only-of-type {\n",
       "        vertical-align: middle;\n",
       "    }\n",
       "\n",
       "    .dataframe tbody tr th {\n",
       "        vertical-align: top;\n",
       "    }\n",
       "\n",
       "    .dataframe thead th {\n",
       "        text-align: right;\n",
       "    }\n",
       "</style>\n",
       "<table border=\"1\" class=\"dataframe\">\n",
       "  <thead>\n",
       "    <tr style=\"text-align: right;\">\n",
       "      <th></th>\n",
       "      <th>Provider ID</th>\n",
       "      <th>OP_10</th>\n",
       "      <th>OP_11</th>\n",
       "      <th>OP_13</th>\n",
       "      <th>OP_14</th>\n",
       "      <th>OP_8</th>\n",
       "      <th>Efficiency_score</th>\n",
       "    </tr>\n",
       "  </thead>\n",
       "  <tbody>\n",
       "    <tr>\n",
       "      <th>0</th>\n",
       "      <td>10001</td>\n",
       "      <td>4.416</td>\n",
       "      <td>0.144</td>\n",
       "      <td>-0.071</td>\n",
       "      <td>-0.048</td>\n",
       "      <td>3.048</td>\n",
       "      <td>1.4978</td>\n",
       "    </tr>\n",
       "  </tbody>\n",
       "</table>\n",
       "</div>"
      ],
      "text/plain": [
       "   Provider ID  OP_10  OP_11  OP_13  OP_14   OP_8  Efficiency_score\n",
       "0        10001  4.416  0.144 -0.071 -0.048  3.048            1.4978"
      ]
     },
     "execution_count": 8,
     "metadata": {},
     "output_type": "execute_result"
    }
   ],
   "source": [
    "df1.head(1)\n",
    "df2.head(1)\n",
    "df3.head(1)"
   ]
  },
  {
   "cell_type": "code",
   "execution_count": 9,
   "metadata": {},
   "outputs": [],
   "source": [
    "df1=df1.drop('Unnamed: 0',axis=1)\n",
    "df2=df2.drop('Unnamed: 0',axis=1)\n",
    "df3=df3.drop('Unnamed: 0',axis=1)"
   ]
  },
  {
   "cell_type": "code",
   "execution_count": 21,
   "metadata": {},
   "outputs": [
    {
     "data": {
      "text/html": [
       "<div>\n",
       "<style scoped>\n",
       "    .dataframe tbody tr th:only-of-type {\n",
       "        vertical-align: middle;\n",
       "    }\n",
       "\n",
       "    .dataframe tbody tr th {\n",
       "        vertical-align: top;\n",
       "    }\n",
       "\n",
       "    .dataframe thead th {\n",
       "        text-align: right;\n",
       "    }\n",
       "</style>\n",
       "<table border=\"1\" class=\"dataframe\">\n",
       "  <thead>\n",
       "    <tr style=\"text-align: right;\">\n",
       "      <th></th>\n",
       "      <th>Provider ID</th>\n",
       "      <th>OP_10</th>\n",
       "      <th>OP_11</th>\n",
       "      <th>OP_13</th>\n",
       "      <th>OP_14</th>\n",
       "      <th>OP_8</th>\n",
       "      <th>Efficiency_score</th>\n",
       "    </tr>\n",
       "  </thead>\n",
       "  <tbody>\n",
       "    <tr>\n",
       "      <th>0</th>\n",
       "      <td>10001</td>\n",
       "      <td>17.664</td>\n",
       "      <td>0.576</td>\n",
       "      <td>-0.284</td>\n",
       "      <td>-0.192</td>\n",
       "      <td>12.192</td>\n",
       "      <td>5.9912</td>\n",
       "    </tr>\n",
       "    <tr>\n",
       "      <th>1</th>\n",
       "      <td>10005</td>\n",
       "      <td>36.708</td>\n",
       "      <td>6.528</td>\n",
       "      <td>-0.212</td>\n",
       "      <td>-0.320</td>\n",
       "      <td>13.696</td>\n",
       "      <td>11.2800</td>\n",
       "    </tr>\n",
       "    <tr>\n",
       "      <th>2</th>\n",
       "      <td>10006</td>\n",
       "      <td>32.568</td>\n",
       "      <td>2.944</td>\n",
       "      <td>-0.000</td>\n",
       "      <td>-0.368</td>\n",
       "      <td>14.592</td>\n",
       "      <td>9.9472</td>\n",
       "    </tr>\n",
       "    <tr>\n",
       "      <th>3</th>\n",
       "      <td>10007</td>\n",
       "      <td>67.068</td>\n",
       "      <td>3.904</td>\n",
       "      <td>-0.000</td>\n",
       "      <td>-0.000</td>\n",
       "      <td>0.000</td>\n",
       "      <td>14.1944</td>\n",
       "    </tr>\n",
       "    <tr>\n",
       "      <th>4</th>\n",
       "      <td>10008</td>\n",
       "      <td>9.936</td>\n",
       "      <td>0.000</td>\n",
       "      <td>-0.000</td>\n",
       "      <td>-0.048</td>\n",
       "      <td>0.000</td>\n",
       "      <td>1.9776</td>\n",
       "    </tr>\n",
       "  </tbody>\n",
       "</table>\n",
       "</div>"
      ],
      "text/plain": [
       "   Provider ID   OP_10  OP_11  OP_13  OP_14    OP_8  Efficiency_score\n",
       "0        10001  17.664  0.576 -0.284 -0.192  12.192            5.9912\n",
       "1        10005  36.708  6.528 -0.212 -0.320  13.696           11.2800\n",
       "2        10006  32.568  2.944 -0.000 -0.368  14.592            9.9472\n",
       "3        10007  67.068  3.904 -0.000 -0.000   0.000           14.1944\n",
       "4        10008   9.936  0.000 -0.000 -0.048   0.000            1.9776"
      ]
     },
     "execution_count": 21,
     "metadata": {},
     "output_type": "execute_result"
    }
   ],
   "source": [
    "df1.iloc[:,1:] = df1.iloc[:,1:] * 4\n",
    "df1.head()"
   ]
  },
  {
   "cell_type": "code",
   "execution_count": 22,
   "metadata": {},
   "outputs": [
    {
     "data": {
      "text/html": [
       "<div>\n",
       "<style scoped>\n",
       "    .dataframe tbody tr th:only-of-type {\n",
       "        vertical-align: middle;\n",
       "    }\n",
       "\n",
       "    .dataframe tbody tr th {\n",
       "        vertical-align: top;\n",
       "    }\n",
       "\n",
       "    .dataframe thead th {\n",
       "        text-align: right;\n",
       "    }\n",
       "</style>\n",
       "<table border=\"1\" class=\"dataframe\">\n",
       "  <thead>\n",
       "    <tr style=\"text-align: right;\">\n",
       "      <th></th>\n",
       "      <th>Provider ID</th>\n",
       "      <th>MORT_30_AMI</th>\n",
       "      <th>MORT_30_CABG</th>\n",
       "      <th>MORT_30_COPD</th>\n",
       "      <th>MORT_30_HF</th>\n",
       "      <th>MORT_30_PN</th>\n",
       "      <th>MORT_30_STK</th>\n",
       "      <th>Mort_score</th>\n",
       "    </tr>\n",
       "  </thead>\n",
       "  <tbody>\n",
       "    <tr>\n",
       "      <th>0</th>\n",
       "      <td>10001</td>\n",
       "      <td>132.000</td>\n",
       "      <td>32.34</td>\n",
       "      <td>126.852</td>\n",
       "      <td>201.872</td>\n",
       "      <td>225.060</td>\n",
       "      <td>176.176</td>\n",
       "      <td>149.050000</td>\n",
       "    </tr>\n",
       "    <tr>\n",
       "      <th>1</th>\n",
       "      <td>10005</td>\n",
       "      <td>168.960</td>\n",
       "      <td>0.00</td>\n",
       "      <td>103.664</td>\n",
       "      <td>252.340</td>\n",
       "      <td>302.016</td>\n",
       "      <td>177.320</td>\n",
       "      <td>167.383333</td>\n",
       "    </tr>\n",
       "    <tr>\n",
       "      <th>2</th>\n",
       "      <td>10006</td>\n",
       "      <td>176.352</td>\n",
       "      <td>31.57</td>\n",
       "      <td>96.844</td>\n",
       "      <td>253.968</td>\n",
       "      <td>264.264</td>\n",
       "      <td>204.776</td>\n",
       "      <td>171.295667</td>\n",
       "    </tr>\n",
       "    <tr>\n",
       "      <th>3</th>\n",
       "      <td>10007</td>\n",
       "      <td>0.000</td>\n",
       "      <td>0.00</td>\n",
       "      <td>126.852</td>\n",
       "      <td>234.432</td>\n",
       "      <td>272.976</td>\n",
       "      <td>189.904</td>\n",
       "      <td>137.360667</td>\n",
       "    </tr>\n",
       "    <tr>\n",
       "      <th>4</th>\n",
       "      <td>10008</td>\n",
       "      <td>0.000</td>\n",
       "      <td>0.00</td>\n",
       "      <td>111.848</td>\n",
       "      <td>206.756</td>\n",
       "      <td>227.964</td>\n",
       "      <td>0.000</td>\n",
       "      <td>91.094667</td>\n",
       "    </tr>\n",
       "  </tbody>\n",
       "</table>\n",
       "</div>"
      ],
      "text/plain": [
       "   Provider ID  MORT_30_AMI  MORT_30_CABG  MORT_30_COPD  MORT_30_HF  \\\n",
       "0        10001      132.000         32.34       126.852     201.872   \n",
       "1        10005      168.960          0.00       103.664     252.340   \n",
       "2        10006      176.352         31.57        96.844     253.968   \n",
       "3        10007        0.000          0.00       126.852     234.432   \n",
       "4        10008        0.000          0.00       111.848     206.756   \n",
       "\n",
       "   MORT_30_PN  MORT_30_STK  Mort_score  \n",
       "0     225.060      176.176  149.050000  \n",
       "1     302.016      177.320  167.383333  \n",
       "2     264.264      204.776  171.295667  \n",
       "3     272.976      189.904  137.360667  \n",
       "4     227.964        0.000   91.094667  "
      ]
     },
     "execution_count": 22,
     "metadata": {},
     "output_type": "execute_result"
    }
   ],
   "source": [
    "df2.iloc[:,1:] = df2.iloc[:,1:] * 22\n",
    "df2.head()"
   ]
  },
  {
   "cell_type": "code",
   "execution_count": 23,
   "metadata": {},
   "outputs": [
    {
     "data": {
      "text/html": [
       "<div>\n",
       "<style scoped>\n",
       "    .dataframe tbody tr th:only-of-type {\n",
       "        vertical-align: middle;\n",
       "    }\n",
       "\n",
       "    .dataframe tbody tr th {\n",
       "        vertical-align: top;\n",
       "    }\n",
       "\n",
       "    .dataframe thead th {\n",
       "        text-align: right;\n",
       "    }\n",
       "</style>\n",
       "<table border=\"1\" class=\"dataframe\">\n",
       "  <thead>\n",
       "    <tr style=\"text-align: right;\">\n",
       "      <th></th>\n",
       "      <th>Provider ID</th>\n",
       "      <th>READM_30_AMI</th>\n",
       "      <th>READM_30_CABG</th>\n",
       "      <th>READM_30_COPD</th>\n",
       "      <th>READM_30_HF</th>\n",
       "      <th>READM_30_HIP_KNEE</th>\n",
       "      <th>READM_30_HOSP_WIDE</th>\n",
       "      <th>READM_30_PN</th>\n",
       "      <th>READM_30_STK</th>\n",
       "      <th>Readmission_score</th>\n",
       "    </tr>\n",
       "  </thead>\n",
       "  <tbody>\n",
       "    <tr>\n",
       "      <th>0</th>\n",
       "      <td>10001</td>\n",
       "      <td>196.020</td>\n",
       "      <td>89.694</td>\n",
       "      <td>264.594</td>\n",
       "      <td>296.604</td>\n",
       "      <td>47.124</td>\n",
       "      <td>318.472</td>\n",
       "      <td>250.954</td>\n",
       "      <td>148.082</td>\n",
       "      <td>201.44300</td>\n",
       "    </tr>\n",
       "    <tr>\n",
       "      <th>1</th>\n",
       "      <td>10005</td>\n",
       "      <td>198.396</td>\n",
       "      <td>0.000</td>\n",
       "      <td>225.720</td>\n",
       "      <td>303.534</td>\n",
       "      <td>52.668</td>\n",
       "      <td>308.132</td>\n",
       "      <td>220.088</td>\n",
       "      <td>156.244</td>\n",
       "      <td>183.09775</td>\n",
       "    </tr>\n",
       "    <tr>\n",
       "      <th>2</th>\n",
       "      <td>10006</td>\n",
       "      <td>191.268</td>\n",
       "      <td>90.288</td>\n",
       "      <td>248.292</td>\n",
       "      <td>285.516</td>\n",
       "      <td>46.200</td>\n",
       "      <td>318.472</td>\n",
       "      <td>240.218</td>\n",
       "      <td>139.920</td>\n",
       "      <td>195.02175</td>\n",
       "    </tr>\n",
       "    <tr>\n",
       "      <th>3</th>\n",
       "      <td>10007</td>\n",
       "      <td>0.000</td>\n",
       "      <td>0.000</td>\n",
       "      <td>249.546</td>\n",
       "      <td>292.446</td>\n",
       "      <td>0.000</td>\n",
       "      <td>343.288</td>\n",
       "      <td>232.166</td>\n",
       "      <td>148.082</td>\n",
       "      <td>158.19100</td>\n",
       "    </tr>\n",
       "    <tr>\n",
       "      <th>4</th>\n",
       "      <td>10008</td>\n",
       "      <td>0.000</td>\n",
       "      <td>0.000</td>\n",
       "      <td>240.768</td>\n",
       "      <td>320.166</td>\n",
       "      <td>0.000</td>\n",
       "      <td>324.676</td>\n",
       "      <td>214.720</td>\n",
       "      <td>0.000</td>\n",
       "      <td>137.54125</td>\n",
       "    </tr>\n",
       "  </tbody>\n",
       "</table>\n",
       "</div>"
      ],
      "text/plain": [
       "   Provider ID  READM_30_AMI  READM_30_CABG  READM_30_COPD  READM_30_HF  \\\n",
       "0        10001       196.020         89.694        264.594      296.604   \n",
       "1        10005       198.396          0.000        225.720      303.534   \n",
       "2        10006       191.268         90.288        248.292      285.516   \n",
       "3        10007         0.000          0.000        249.546      292.446   \n",
       "4        10008         0.000          0.000        240.768      320.166   \n",
       "\n",
       "   READM_30_HIP_KNEE  READM_30_HOSP_WIDE  READM_30_PN  READM_30_STK  \\\n",
       "0             47.124             318.472      250.954       148.082   \n",
       "1             52.668             308.132      220.088       156.244   \n",
       "2             46.200             318.472      240.218       139.920   \n",
       "3              0.000             343.288      232.166       148.082   \n",
       "4              0.000             324.676      214.720         0.000   \n",
       "\n",
       "   Readmission_score  \n",
       "0          201.44300  \n",
       "1          183.09775  \n",
       "2          195.02175  \n",
       "3          158.19100  \n",
       "4          137.54125  "
      ]
     },
     "execution_count": 23,
     "metadata": {},
     "output_type": "execute_result"
    }
   ],
   "source": [
    "df3.iloc[:,1:] = df3.iloc[:,1:] * 22\n",
    "df3.head()"
   ]
  },
  {
   "cell_type": "code",
   "execution_count": 193,
   "metadata": {},
   "outputs": [],
   "source": [
    "df= pd.merge(df1, df2, on='Provider ID', how='outer')"
   ]
  },
  {
   "cell_type": "code",
   "execution_count": 194,
   "metadata": {},
   "outputs": [],
   "source": [
    "df= pd.merge(df, df3, on='Provider ID', how='outer')"
   ]
  },
  {
   "cell_type": "code",
   "execution_count": 129,
   "metadata": {},
   "outputs": [
    {
     "data": {
      "text/plain": [
       "(4447, 23)"
      ]
     },
     "execution_count": 129,
     "metadata": {},
     "output_type": "execute_result"
    }
   ],
   "source": [
    "df.shape"
   ]
  },
  {
   "cell_type": "code",
   "execution_count": 195,
   "metadata": {
    "scrolled": true
   },
   "outputs": [
    {
     "name": "stdout",
     "output_type": "stream",
     "text": [
      "<class 'pandas.core.frame.DataFrame'>\n",
      "Int64Index: 4447 entries, 0 to 4446\n",
      "Data columns (total 23 columns):\n",
      "Provider ID           4447 non-null int64\n",
      "OP_10                 3779 non-null float64\n",
      "OP_11                 3779 non-null float64\n",
      "OP_13                 3779 non-null float64\n",
      "OP_14                 3779 non-null float64\n",
      "OP_8                  3779 non-null float64\n",
      "Efficiency_score      3779 non-null float64\n",
      "MORT_30_AMI           4112 non-null float64\n",
      "MORT_30_CABG          4112 non-null float64\n",
      "MORT_30_COPD          4112 non-null float64\n",
      "MORT_30_HF            4112 non-null float64\n",
      "MORT_30_PN            4112 non-null float64\n",
      "MORT_30_STK           4112 non-null float64\n",
      "Mort_score            4112 non-null float64\n",
      "READM_30_AMI          4405 non-null float64\n",
      "READM_30_CABG         4405 non-null float64\n",
      "READM_30_COPD         4405 non-null float64\n",
      "READM_30_HF           4405 non-null float64\n",
      "READM_30_HIP_KNEE     4405 non-null float64\n",
      "READM_30_HOSP_WIDE    4405 non-null float64\n",
      "READM_30_PN           4405 non-null float64\n",
      "READM_30_STK          4405 non-null float64\n",
      "Readmission_score     4405 non-null float64\n",
      "dtypes: float64(22), int64(1)\n",
      "memory usage: 833.8 KB\n"
     ]
    }
   ],
   "source": [
    "df.info()"
   ]
  },
  {
   "cell_type": "code",
   "execution_count": 29,
   "metadata": {
    "scrolled": true
   },
   "outputs": [
    {
     "data": {
      "text/plain": [
       "Provider ID            0.00\n",
       "OP_10                 15.02\n",
       "OP_11                 15.02\n",
       "OP_13                 15.02\n",
       "OP_14                 15.02\n",
       "OP_8                  15.02\n",
       "Efficiency_score      15.02\n",
       "MORT_30_AMI            7.53\n",
       "MORT_30_CABG           7.53\n",
       "MORT_30_COPD           7.53\n",
       "MORT_30_HF             7.53\n",
       "MORT_30_PN             7.53\n",
       "MORT_30_STK            7.53\n",
       "Mort_score             7.53\n",
       "READM_30_AMI           0.94\n",
       "READM_30_CABG          0.94\n",
       "READM_30_COPD          0.94\n",
       "READM_30_HF            0.94\n",
       "READM_30_HIP_KNEE      0.94\n",
       "READM_30_HOSP_WIDE     0.94\n",
       "READM_30_PN            0.94\n",
       "READM_30_STK           0.94\n",
       "Readmission_score      0.94\n",
       "dtype: float64"
      ]
     },
     "execution_count": 29,
     "metadata": {},
     "output_type": "execute_result"
    }
   ],
   "source": [
    "# Check the data for percentage of null values\n",
    "\n",
    "round((df.isnull().sum()/df.isnull().count())*100,2)"
   ]
  },
  {
   "cell_type": "code",
   "execution_count": 196,
   "metadata": {},
   "outputs": [],
   "source": [
    "df.fillna(0, inplace=True)"
   ]
  },
  {
   "cell_type": "code",
   "execution_count": 119,
   "metadata": {
    "scrolled": true
   },
   "outputs": [
    {
     "name": "stdout",
     "output_type": "stream",
     "text": [
      "<class 'pandas.core.frame.DataFrame'>\n",
      "Int64Index: 4447 entries, 0 to 4446\n",
      "Data columns (total 23 columns):\n",
      "Provider ID           4447 non-null int64\n",
      "OP_10                 4447 non-null float64\n",
      "OP_11                 4447 non-null float64\n",
      "OP_13                 4447 non-null float64\n",
      "OP_14                 4447 non-null float64\n",
      "OP_8                  4447 non-null float64\n",
      "Efficiency_score      4447 non-null float64\n",
      "MORT_30_AMI           4447 non-null float64\n",
      "MORT_30_CABG          4447 non-null float64\n",
      "MORT_30_COPD          4447 non-null float64\n",
      "MORT_30_HF            4447 non-null float64\n",
      "MORT_30_PN            4447 non-null float64\n",
      "MORT_30_STK           4447 non-null float64\n",
      "Mort_score            4447 non-null float64\n",
      "READM_30_AMI          4447 non-null float64\n",
      "READM_30_CABG         4447 non-null float64\n",
      "READM_30_COPD         4447 non-null float64\n",
      "READM_30_HF           4447 non-null float64\n",
      "READM_30_HIP_KNEE     4447 non-null float64\n",
      "READM_30_HOSP_WIDE    4447 non-null float64\n",
      "READM_30_PN           4447 non-null float64\n",
      "READM_30_STK          4447 non-null float64\n",
      "Readmission_score     4447 non-null float64\n",
      "dtypes: float64(22), int64(1)\n",
      "memory usage: 833.8 KB\n"
     ]
    }
   ],
   "source": [
    "df.info()"
   ]
  },
  {
   "cell_type": "code",
   "execution_count": 32,
   "metadata": {},
   "outputs": [
    {
     "data": {
      "text/html": [
       "<div>\n",
       "<style scoped>\n",
       "    .dataframe tbody tr th:only-of-type {\n",
       "        vertical-align: middle;\n",
       "    }\n",
       "\n",
       "    .dataframe tbody tr th {\n",
       "        vertical-align: top;\n",
       "    }\n",
       "\n",
       "    .dataframe thead th {\n",
       "        text-align: right;\n",
       "    }\n",
       "</style>\n",
       "<table border=\"1\" class=\"dataframe\">\n",
       "  <thead>\n",
       "    <tr style=\"text-align: right;\">\n",
       "      <th></th>\n",
       "      <th>Provider ID</th>\n",
       "      <th>Hospital Name</th>\n",
       "      <th>ZIP Code</th>\n",
       "      <th>County Name</th>\n",
       "      <th>Hospital Type</th>\n",
       "      <th>Hospital Ownership</th>\n",
       "      <th>Emergency Services</th>\n",
       "      <th>Hospital overall rating</th>\n",
       "      <th>Mortality national comparison</th>\n",
       "      <th>Safety of care national comparison</th>\n",
       "      <th>Readmission national comparison</th>\n",
       "      <th>Patient experience national comparison</th>\n",
       "      <th>Effectiveness of care national comparison</th>\n",
       "      <th>Timeliness of care national comparison</th>\n",
       "      <th>Efficient use of medical imaging national comparison</th>\n",
       "    </tr>\n",
       "  </thead>\n",
       "  <tbody>\n",
       "    <tr>\n",
       "      <th>0</th>\n",
       "      <td>10001</td>\n",
       "      <td>SOUTHEAST ALABAMA MEDICAL CENTER</td>\n",
       "      <td>36301</td>\n",
       "      <td>HOUSTON</td>\n",
       "      <td>Acute Care Hospitals</td>\n",
       "      <td>Government - Hospital District or Authority</td>\n",
       "      <td>1</td>\n",
       "      <td>3</td>\n",
       "      <td>2</td>\n",
       "      <td>3</td>\n",
       "      <td>2</td>\n",
       "      <td>1</td>\n",
       "      <td>2</td>\n",
       "      <td>2</td>\n",
       "      <td>2</td>\n",
       "    </tr>\n",
       "    <tr>\n",
       "      <th>1</th>\n",
       "      <td>10005</td>\n",
       "      <td>MARSHALL MEDICAL CENTER SOUTH</td>\n",
       "      <td>35957</td>\n",
       "      <td>MARSHALL</td>\n",
       "      <td>Acute Care Hospitals</td>\n",
       "      <td>Government - Hospital District or Authority</td>\n",
       "      <td>1</td>\n",
       "      <td>3</td>\n",
       "      <td>1</td>\n",
       "      <td>2</td>\n",
       "      <td>3</td>\n",
       "      <td>2</td>\n",
       "      <td>2</td>\n",
       "      <td>3</td>\n",
       "      <td>1</td>\n",
       "    </tr>\n",
       "    <tr>\n",
       "      <th>2</th>\n",
       "      <td>10006</td>\n",
       "      <td>ELIZA COFFEE MEMORIAL HOSPITAL</td>\n",
       "      <td>35631</td>\n",
       "      <td>LAUDERDALE</td>\n",
       "      <td>Acute Care Hospitals</td>\n",
       "      <td>Government - Hospital District or Authority</td>\n",
       "      <td>1</td>\n",
       "      <td>2</td>\n",
       "      <td>1</td>\n",
       "      <td>2</td>\n",
       "      <td>2</td>\n",
       "      <td>1</td>\n",
       "      <td>2</td>\n",
       "      <td>3</td>\n",
       "      <td>2</td>\n",
       "    </tr>\n",
       "    <tr>\n",
       "      <th>3</th>\n",
       "      <td>10011</td>\n",
       "      <td>ST VINCENT'S EAST</td>\n",
       "      <td>35235</td>\n",
       "      <td>JEFFERSON</td>\n",
       "      <td>Acute Care Hospitals</td>\n",
       "      <td>Voluntary non-profit - Private</td>\n",
       "      <td>1</td>\n",
       "      <td>2</td>\n",
       "      <td>2</td>\n",
       "      <td>1</td>\n",
       "      <td>2</td>\n",
       "      <td>1</td>\n",
       "      <td>1</td>\n",
       "      <td>2</td>\n",
       "      <td>2</td>\n",
       "    </tr>\n",
       "    <tr>\n",
       "      <th>4</th>\n",
       "      <td>10012</td>\n",
       "      <td>DEKALB REGIONAL MEDICAL CENTER</td>\n",
       "      <td>35968</td>\n",
       "      <td>DE KALB</td>\n",
       "      <td>Acute Care Hospitals</td>\n",
       "      <td>Proprietary</td>\n",
       "      <td>1</td>\n",
       "      <td>3</td>\n",
       "      <td>1</td>\n",
       "      <td>2</td>\n",
       "      <td>2</td>\n",
       "      <td>2</td>\n",
       "      <td>2</td>\n",
       "      <td>3</td>\n",
       "      <td>2</td>\n",
       "    </tr>\n",
       "  </tbody>\n",
       "</table>\n",
       "</div>"
      ],
      "text/plain": [
       "   Provider ID                     Hospital Name  ZIP Code County Name  \\\n",
       "0        10001  SOUTHEAST ALABAMA MEDICAL CENTER     36301     HOUSTON   \n",
       "1        10005     MARSHALL MEDICAL CENTER SOUTH     35957    MARSHALL   \n",
       "2        10006    ELIZA COFFEE MEMORIAL HOSPITAL     35631  LAUDERDALE   \n",
       "3        10011                 ST VINCENT'S EAST     35235   JEFFERSON   \n",
       "4        10012    DEKALB REGIONAL MEDICAL CENTER     35968     DE KALB   \n",
       "\n",
       "          Hospital Type                           Hospital Ownership  \\\n",
       "0  Acute Care Hospitals  Government - Hospital District or Authority   \n",
       "1  Acute Care Hospitals  Government - Hospital District or Authority   \n",
       "2  Acute Care Hospitals  Government - Hospital District or Authority   \n",
       "3  Acute Care Hospitals               Voluntary non-profit - Private   \n",
       "4  Acute Care Hospitals                                  Proprietary   \n",
       "\n",
       "   Emergency Services  Hospital overall rating  Mortality national comparison  \\\n",
       "0                   1                        3                              2   \n",
       "1                   1                        3                              1   \n",
       "2                   1                        2                              1   \n",
       "3                   1                        2                              2   \n",
       "4                   1                        3                              1   \n",
       "\n",
       "   Safety of care national comparison  Readmission national comparison  \\\n",
       "0                                   3                                2   \n",
       "1                                   2                                3   \n",
       "2                                   2                                2   \n",
       "3                                   1                                2   \n",
       "4                                   2                                2   \n",
       "\n",
       "   Patient experience national comparison  \\\n",
       "0                                       1   \n",
       "1                                       2   \n",
       "2                                       1   \n",
       "3                                       1   \n",
       "4                                       2   \n",
       "\n",
       "   Effectiveness of care national comparison  \\\n",
       "0                                          2   \n",
       "1                                          2   \n",
       "2                                          2   \n",
       "3                                          1   \n",
       "4                                          2   \n",
       "\n",
       "   Timeliness of care national comparison  \\\n",
       "0                                       2   \n",
       "1                                       3   \n",
       "2                                       3   \n",
       "3                                       2   \n",
       "4                                       3   \n",
       "\n",
       "   Efficient use of medical imaging national comparison  \n",
       "0                                                  2     \n",
       "1                                                  1     \n",
       "2                                                  2     \n",
       "3                                                  2     \n",
       "4                                                  2     "
      ]
     },
     "execution_count": 32,
     "metadata": {},
     "output_type": "execute_result"
    }
   ],
   "source": [
    "df_target=pd.read_csv(\"Hospital General Information_C.csv\")\n",
    "df_target.head()"
   ]
  },
  {
   "cell_type": "code",
   "execution_count": 33,
   "metadata": {},
   "outputs": [
    {
     "data": {
      "text/html": [
       "<div>\n",
       "<style scoped>\n",
       "    .dataframe tbody tr th:only-of-type {\n",
       "        vertical-align: middle;\n",
       "    }\n",
       "\n",
       "    .dataframe tbody tr th {\n",
       "        vertical-align: top;\n",
       "    }\n",
       "\n",
       "    .dataframe thead th {\n",
       "        text-align: right;\n",
       "    }\n",
       "</style>\n",
       "<table border=\"1\" class=\"dataframe\">\n",
       "  <thead>\n",
       "    <tr style=\"text-align: right;\">\n",
       "      <th></th>\n",
       "      <th>Provider ID</th>\n",
       "      <th>Hospital overall rating</th>\n",
       "    </tr>\n",
       "  </thead>\n",
       "  <tbody>\n",
       "    <tr>\n",
       "      <th>0</th>\n",
       "      <td>10001</td>\n",
       "      <td>3</td>\n",
       "    </tr>\n",
       "    <tr>\n",
       "      <th>1</th>\n",
       "      <td>10005</td>\n",
       "      <td>3</td>\n",
       "    </tr>\n",
       "    <tr>\n",
       "      <th>2</th>\n",
       "      <td>10006</td>\n",
       "      <td>2</td>\n",
       "    </tr>\n",
       "    <tr>\n",
       "      <th>3</th>\n",
       "      <td>10011</td>\n",
       "      <td>2</td>\n",
       "    </tr>\n",
       "    <tr>\n",
       "      <th>4</th>\n",
       "      <td>10012</td>\n",
       "      <td>3</td>\n",
       "    </tr>\n",
       "  </tbody>\n",
       "</table>\n",
       "</div>"
      ],
      "text/plain": [
       "   Provider ID  Hospital overall rating\n",
       "0        10001                        3\n",
       "1        10005                        3\n",
       "2        10006                        2\n",
       "3        10011                        2\n",
       "4        10012                        3"
      ]
     },
     "execution_count": 33,
     "metadata": {},
     "output_type": "execute_result"
    }
   ],
   "source": [
    "dft=df_target[['Provider ID','Hospital overall rating']]\n",
    "dft.head()"
   ]
  },
  {
   "cell_type": "code",
   "execution_count": 197,
   "metadata": {},
   "outputs": [],
   "source": [
    "df= pd.merge(df, dft, on='Provider ID', how='outer')"
   ]
  },
  {
   "cell_type": "code",
   "execution_count": 136,
   "metadata": {
    "scrolled": true
   },
   "outputs": [
    {
     "name": "stdout",
     "output_type": "stream",
     "text": [
      "<class 'pandas.core.frame.DataFrame'>\n",
      "Int64Index: 2333 entries, 0 to 3772\n",
      "Data columns (total 24 columns):\n",
      "Provider ID                2333 non-null int64\n",
      "OP_10                      2333 non-null float64\n",
      "OP_11                      2333 non-null float64\n",
      "OP_13                      2333 non-null float64\n",
      "OP_14                      2333 non-null float64\n",
      "OP_8                       2333 non-null float64\n",
      "Efficiency_score           2333 non-null float64\n",
      "MORT_30_AMI                2333 non-null float64\n",
      "MORT_30_CABG               2333 non-null float64\n",
      "MORT_30_COPD               2333 non-null float64\n",
      "MORT_30_HF                 2333 non-null float64\n",
      "MORT_30_PN                 2333 non-null float64\n",
      "MORT_30_STK                2333 non-null float64\n",
      "Mort_score                 2333 non-null float64\n",
      "READM_30_AMI               2333 non-null float64\n",
      "READM_30_CABG              2333 non-null float64\n",
      "READM_30_COPD              2333 non-null float64\n",
      "READM_30_HF                2333 non-null float64\n",
      "READM_30_HIP_KNEE          2333 non-null float64\n",
      "READM_30_HOSP_WIDE         2333 non-null float64\n",
      "READM_30_PN                2333 non-null float64\n",
      "READM_30_STK               2333 non-null float64\n",
      "Readmission_score          2333 non-null float64\n",
      "Hospital overall rating    2333 non-null float64\n",
      "dtypes: float64(23), int64(1)\n",
      "memory usage: 455.7 KB\n"
     ]
    }
   ],
   "source": [
    "df.info()"
   ]
  },
  {
   "cell_type": "code",
   "execution_count": 36,
   "metadata": {},
   "outputs": [
    {
     "data": {
      "text/plain": [
       "array([ 3.,  2., nan,  4.,  5.,  1.])"
      ]
     },
     "execution_count": 36,
     "metadata": {},
     "output_type": "execute_result"
    }
   ],
   "source": [
    "df['Hospital overall rating'].unique()"
   ]
  },
  {
   "cell_type": "code",
   "execution_count": 198,
   "metadata": {},
   "outputs": [],
   "source": [
    "# Dropping the records where we dont have the target ratings available\n",
    "df= df.dropna()"
   ]
  },
  {
   "cell_type": "code",
   "execution_count": 199,
   "metadata": {},
   "outputs": [
    {
     "name": "stdout",
     "output_type": "stream",
     "text": [
      "<class 'pandas.core.frame.DataFrame'>\n",
      "Int64Index: 2333 entries, 0 to 3772\n",
      "Data columns (total 24 columns):\n",
      "Provider ID                2333 non-null int64\n",
      "OP_10                      2333 non-null float64\n",
      "OP_11                      2333 non-null float64\n",
      "OP_13                      2333 non-null float64\n",
      "OP_14                      2333 non-null float64\n",
      "OP_8                       2333 non-null float64\n",
      "Efficiency_score           2333 non-null float64\n",
      "MORT_30_AMI                2333 non-null float64\n",
      "MORT_30_CABG               2333 non-null float64\n",
      "MORT_30_COPD               2333 non-null float64\n",
      "MORT_30_HF                 2333 non-null float64\n",
      "MORT_30_PN                 2333 non-null float64\n",
      "MORT_30_STK                2333 non-null float64\n",
      "Mort_score                 2333 non-null float64\n",
      "READM_30_AMI               2333 non-null float64\n",
      "READM_30_CABG              2333 non-null float64\n",
      "READM_30_COPD              2333 non-null float64\n",
      "READM_30_HF                2333 non-null float64\n",
      "READM_30_HIP_KNEE          2333 non-null float64\n",
      "READM_30_HOSP_WIDE         2333 non-null float64\n",
      "READM_30_PN                2333 non-null float64\n",
      "READM_30_STK               2333 non-null float64\n",
      "Readmission_score          2333 non-null float64\n",
      "Hospital overall rating    2333 non-null float64\n",
      "dtypes: float64(23), int64(1)\n",
      "memory usage: 455.7 KB\n"
     ]
    }
   ],
   "source": [
    "df.info()"
   ]
  },
  {
   "cell_type": "code",
   "execution_count": 200,
   "metadata": {},
   "outputs": [],
   "source": [
    "from sklearn.preprocessing import QuantileTransformer"
   ]
  },
  {
   "cell_type": "code",
   "execution_count": 201,
   "metadata": {},
   "outputs": [
    {
     "data": {
      "text/html": [
       "<div>\n",
       "<style scoped>\n",
       "    .dataframe tbody tr th:only-of-type {\n",
       "        vertical-align: middle;\n",
       "    }\n",
       "\n",
       "    .dataframe tbody tr th {\n",
       "        vertical-align: top;\n",
       "    }\n",
       "\n",
       "    .dataframe thead th {\n",
       "        text-align: right;\n",
       "    }\n",
       "</style>\n",
       "<table border=\"1\" class=\"dataframe\">\n",
       "  <thead>\n",
       "    <tr style=\"text-align: right;\">\n",
       "      <th></th>\n",
       "      <th>Provider ID</th>\n",
       "      <th>OP_10</th>\n",
       "      <th>OP_11</th>\n",
       "      <th>OP_13</th>\n",
       "      <th>OP_14</th>\n",
       "      <th>OP_8</th>\n",
       "      <th>Efficiency_score</th>\n",
       "      <th>MORT_30_AMI</th>\n",
       "      <th>MORT_30_CABG</th>\n",
       "      <th>MORT_30_COPD</th>\n",
       "      <th>...</th>\n",
       "      <th>READM_30_AMI</th>\n",
       "      <th>READM_30_CABG</th>\n",
       "      <th>READM_30_COPD</th>\n",
       "      <th>READM_30_HF</th>\n",
       "      <th>READM_30_HIP_KNEE</th>\n",
       "      <th>READM_30_HOSP_WIDE</th>\n",
       "      <th>READM_30_PN</th>\n",
       "      <th>READM_30_STK</th>\n",
       "      <th>Readmission_score</th>\n",
       "      <th>Hospital overall rating</th>\n",
       "    </tr>\n",
       "  </thead>\n",
       "  <tbody>\n",
       "    <tr>\n",
       "      <th>0</th>\n",
       "      <td>10001</td>\n",
       "      <td>17.664</td>\n",
       "      <td>0.576</td>\n",
       "      <td>-0.284</td>\n",
       "      <td>-0.192</td>\n",
       "      <td>12.192</td>\n",
       "      <td>5.9912</td>\n",
       "      <td>132.000</td>\n",
       "      <td>32.34</td>\n",
       "      <td>126.852</td>\n",
       "      <td>...</td>\n",
       "      <td>196.020</td>\n",
       "      <td>89.694</td>\n",
       "      <td>264.594</td>\n",
       "      <td>296.604</td>\n",
       "      <td>47.124</td>\n",
       "      <td>318.472</td>\n",
       "      <td>250.954</td>\n",
       "      <td>148.082</td>\n",
       "      <td>201.44300</td>\n",
       "      <td>3.0</td>\n",
       "    </tr>\n",
       "    <tr>\n",
       "      <th>1</th>\n",
       "      <td>10005</td>\n",
       "      <td>36.708</td>\n",
       "      <td>6.528</td>\n",
       "      <td>-0.212</td>\n",
       "      <td>-0.320</td>\n",
       "      <td>13.696</td>\n",
       "      <td>11.2800</td>\n",
       "      <td>168.960</td>\n",
       "      <td>0.00</td>\n",
       "      <td>103.664</td>\n",
       "      <td>...</td>\n",
       "      <td>198.396</td>\n",
       "      <td>0.000</td>\n",
       "      <td>225.720</td>\n",
       "      <td>303.534</td>\n",
       "      <td>52.668</td>\n",
       "      <td>308.132</td>\n",
       "      <td>220.088</td>\n",
       "      <td>156.244</td>\n",
       "      <td>183.09775</td>\n",
       "      <td>3.0</td>\n",
       "    </tr>\n",
       "    <tr>\n",
       "      <th>2</th>\n",
       "      <td>10006</td>\n",
       "      <td>32.568</td>\n",
       "      <td>2.944</td>\n",
       "      <td>-0.000</td>\n",
       "      <td>-0.368</td>\n",
       "      <td>14.592</td>\n",
       "      <td>9.9472</td>\n",
       "      <td>176.352</td>\n",
       "      <td>31.57</td>\n",
       "      <td>96.844</td>\n",
       "      <td>...</td>\n",
       "      <td>191.268</td>\n",
       "      <td>90.288</td>\n",
       "      <td>248.292</td>\n",
       "      <td>285.516</td>\n",
       "      <td>46.200</td>\n",
       "      <td>318.472</td>\n",
       "      <td>240.218</td>\n",
       "      <td>139.920</td>\n",
       "      <td>195.02175</td>\n",
       "      <td>2.0</td>\n",
       "    </tr>\n",
       "    <tr>\n",
       "      <th>5</th>\n",
       "      <td>10011</td>\n",
       "      <td>6.624</td>\n",
       "      <td>6.656</td>\n",
       "      <td>-0.000</td>\n",
       "      <td>-0.272</td>\n",
       "      <td>11.584</td>\n",
       "      <td>4.9184</td>\n",
       "      <td>146.784</td>\n",
       "      <td>28.49</td>\n",
       "      <td>100.936</td>\n",
       "      <td>...</td>\n",
       "      <td>210.276</td>\n",
       "      <td>89.100</td>\n",
       "      <td>245.784</td>\n",
       "      <td>274.428</td>\n",
       "      <td>47.124</td>\n",
       "      <td>316.404</td>\n",
       "      <td>224.114</td>\n",
       "      <td>131.758</td>\n",
       "      <td>192.37350</td>\n",
       "      <td>2.0</td>\n",
       "    </tr>\n",
       "    <tr>\n",
       "      <th>6</th>\n",
       "      <td>10012</td>\n",
       "      <td>16.836</td>\n",
       "      <td>6.912</td>\n",
       "      <td>-0.124</td>\n",
       "      <td>-0.000</td>\n",
       "      <td>0.000</td>\n",
       "      <td>4.7248</td>\n",
       "      <td>177.408</td>\n",
       "      <td>0.00</td>\n",
       "      <td>125.488</td>\n",
       "      <td>...</td>\n",
       "      <td>191.268</td>\n",
       "      <td>0.000</td>\n",
       "      <td>240.768</td>\n",
       "      <td>324.324</td>\n",
       "      <td>0.000</td>\n",
       "      <td>316.404</td>\n",
       "      <td>260.348</td>\n",
       "      <td>149.248</td>\n",
       "      <td>185.29500</td>\n",
       "      <td>3.0</td>\n",
       "    </tr>\n",
       "  </tbody>\n",
       "</table>\n",
       "<p>5 rows × 24 columns</p>\n",
       "</div>"
      ],
      "text/plain": [
       "   Provider ID   OP_10  OP_11  OP_13  OP_14    OP_8  Efficiency_score  \\\n",
       "0        10001  17.664  0.576 -0.284 -0.192  12.192            5.9912   \n",
       "1        10005  36.708  6.528 -0.212 -0.320  13.696           11.2800   \n",
       "2        10006  32.568  2.944 -0.000 -0.368  14.592            9.9472   \n",
       "5        10011   6.624  6.656 -0.000 -0.272  11.584            4.9184   \n",
       "6        10012  16.836  6.912 -0.124 -0.000   0.000            4.7248   \n",
       "\n",
       "   MORT_30_AMI  MORT_30_CABG  MORT_30_COPD           ...             \\\n",
       "0      132.000         32.34       126.852           ...              \n",
       "1      168.960          0.00       103.664           ...              \n",
       "2      176.352         31.57        96.844           ...              \n",
       "5      146.784         28.49       100.936           ...              \n",
       "6      177.408          0.00       125.488           ...              \n",
       "\n",
       "   READM_30_AMI  READM_30_CABG  READM_30_COPD  READM_30_HF  READM_30_HIP_KNEE  \\\n",
       "0       196.020         89.694        264.594      296.604             47.124   \n",
       "1       198.396          0.000        225.720      303.534             52.668   \n",
       "2       191.268         90.288        248.292      285.516             46.200   \n",
       "5       210.276         89.100        245.784      274.428             47.124   \n",
       "6       191.268          0.000        240.768      324.324              0.000   \n",
       "\n",
       "   READM_30_HOSP_WIDE  READM_30_PN  READM_30_STK  Readmission_score  \\\n",
       "0             318.472      250.954       148.082          201.44300   \n",
       "1             308.132      220.088       156.244          183.09775   \n",
       "2             318.472      240.218       139.920          195.02175   \n",
       "5             316.404      224.114       131.758          192.37350   \n",
       "6             316.404      260.348       149.248          185.29500   \n",
       "\n",
       "   Hospital overall rating  \n",
       "0                      3.0  \n",
       "1                      3.0  \n",
       "2                      2.0  \n",
       "5                      2.0  \n",
       "6                      3.0  \n",
       "\n",
       "[5 rows x 24 columns]"
      ]
     },
     "execution_count": 201,
     "metadata": {},
     "output_type": "execute_result"
    }
   ],
   "source": [
    "df_bkp=df\n",
    "df_bkp.head()\n"
   ]
  },
  {
   "cell_type": "code",
   "execution_count": 192,
   "metadata": {
    "scrolled": true
   },
   "outputs": [
    {
     "name": "stdout",
     "output_type": "stream",
     "text": [
      "<class 'pandas.core.frame.DataFrame'>\n",
      "Int64Index: 2333 entries, 0 to 3772\n",
      "Data columns (total 24 columns):\n",
      "Provider ID                2333 non-null int64\n",
      "OP_10                      1419 non-null float64\n",
      "OP_11                      1419 non-null float64\n",
      "OP_13                      1419 non-null float64\n",
      "OP_14                      1419 non-null float64\n",
      "OP_8                       1419 non-null float64\n",
      "Efficiency_score           1419 non-null float64\n",
      "MORT_30_AMI                1419 non-null float64\n",
      "MORT_30_CABG               1419 non-null float64\n",
      "MORT_30_COPD               1419 non-null float64\n",
      "MORT_30_HF                 1419 non-null float64\n",
      "MORT_30_PN                 1419 non-null float64\n",
      "MORT_30_STK                1419 non-null float64\n",
      "Mort_score                 1419 non-null float64\n",
      "READM_30_AMI               1419 non-null float64\n",
      "READM_30_CABG              1419 non-null float64\n",
      "READM_30_COPD              1419 non-null float64\n",
      "READM_30_HF                1419 non-null float64\n",
      "READM_30_HIP_KNEE          1419 non-null float64\n",
      "READM_30_HOSP_WIDE         1419 non-null float64\n",
      "READM_30_PN                1419 non-null float64\n",
      "READM_30_STK               1419 non-null float64\n",
      "Readmission_score          1419 non-null float64\n",
      "Hospital overall rating    2333 non-null float64\n",
      "dtypes: float64(23), int64(1)\n",
      "memory usage: 455.7 KB\n"
     ]
    }
   ],
   "source": [
    "df=df_bkp\n",
    "df.info()"
   ]
  },
  {
   "cell_type": "code",
   "execution_count": 185,
   "metadata": {},
   "outputs": [],
   "source": [
    "dfc=df.drop(['Provider ID'],axis=1)\n",
    "list=dfc.columns.tolist()"
   ]
  },
  {
   "cell_type": "code",
   "execution_count": 202,
   "metadata": {},
   "outputs": [],
   "source": [
    "dfn=df_bkp.drop(['Provider ID'],axis=1)"
   ]
  },
  {
   "cell_type": "code",
   "execution_count": 203,
   "metadata": {
    "scrolled": true
   },
   "outputs": [
    {
     "data": {
      "text/plain": [
       "['OP_10',\n",
       " 'OP_11',\n",
       " 'OP_13',\n",
       " 'OP_14',\n",
       " 'OP_8',\n",
       " 'Efficiency_score',\n",
       " 'MORT_30_AMI',\n",
       " 'MORT_30_CABG',\n",
       " 'MORT_30_COPD',\n",
       " 'MORT_30_HF',\n",
       " 'MORT_30_PN',\n",
       " 'MORT_30_STK',\n",
       " 'Mort_score',\n",
       " 'READM_30_AMI',\n",
       " 'READM_30_CABG',\n",
       " 'READM_30_COPD',\n",
       " 'READM_30_HF',\n",
       " 'READM_30_HIP_KNEE',\n",
       " 'READM_30_HOSP_WIDE',\n",
       " 'READM_30_PN',\n",
       " 'READM_30_STK',\n",
       " 'Readmission_score',\n",
       " 'Hospital overall rating']"
      ]
     },
     "execution_count": 203,
     "metadata": {},
     "output_type": "execute_result"
    }
   ],
   "source": [
    "list"
   ]
  },
  {
   "cell_type": "code",
   "execution_count": 204,
   "metadata": {},
   "outputs": [],
   "source": [
    "qnt= QuantileTransformer(output_distribution='normal')\n",
    "dfn[list]=pd.DataFrame(qnt.fit_transform(df[list]))"
   ]
  },
  {
   "cell_type": "code",
   "execution_count": 66,
   "metadata": {},
   "outputs": [],
   "source": [
    "dfa=pd.DataFrame(qnt.fit_transform(df.iloc[:,1:]))"
   ]
  },
  {
   "cell_type": "code",
   "execution_count": 209,
   "metadata": {
    "scrolled": true
   },
   "outputs": [
    {
     "name": "stdout",
     "output_type": "stream",
     "text": [
      "<class 'pandas.core.frame.DataFrame'>\n",
      "Int64Index: 2333 entries, 0 to 3772\n",
      "Data columns (total 23 columns):\n",
      "OP_10                      1419 non-null float64\n",
      "OP_11                      1419 non-null float64\n",
      "OP_13                      1419 non-null float64\n",
      "OP_14                      1419 non-null float64\n",
      "OP_8                       1419 non-null float64\n",
      "Efficiency_score           1419 non-null float64\n",
      "MORT_30_AMI                1419 non-null float64\n",
      "MORT_30_CABG               1419 non-null float64\n",
      "MORT_30_COPD               1419 non-null float64\n",
      "MORT_30_HF                 1419 non-null float64\n",
      "MORT_30_PN                 1419 non-null float64\n",
      "MORT_30_STK                1419 non-null float64\n",
      "Mort_score                 1419 non-null float64\n",
      "READM_30_AMI               1419 non-null float64\n",
      "READM_30_CABG              1419 non-null float64\n",
      "READM_30_COPD              1419 non-null float64\n",
      "READM_30_HF                1419 non-null float64\n",
      "READM_30_HIP_KNEE          1419 non-null float64\n",
      "READM_30_HOSP_WIDE         1419 non-null float64\n",
      "READM_30_PN                1419 non-null float64\n",
      "READM_30_STK               1419 non-null float64\n",
      "Readmission_score          1419 non-null float64\n",
      "Hospital overall rating    1419 non-null float64\n",
      "dtypes: float64(23)\n",
      "memory usage: 437.4 KB\n"
     ]
    }
   ],
   "source": [
    "dfn.info()"
   ]
  },
  {
   "cell_type": "code",
   "execution_count": 210,
   "metadata": {},
   "outputs": [],
   "source": [
    "dfn=dfn.dropna()"
   ]
  },
  {
   "cell_type": "code",
   "execution_count": 103,
   "metadata": {},
   "outputs": [],
   "source": [
    "dff = pd.concat([dfn,df['Hospital overall rating']],axis=1)"
   ]
  },
  {
   "cell_type": "code",
   "execution_count": 211,
   "metadata": {},
   "outputs": [],
   "source": [
    "from sklearn.model_selection import train_test_split\n",
    "\n",
    "\n",
    "df_train, df_test = train_test_split(dfn, train_size = 0.7, test_size = 0.3, random_state = 100)"
   ]
  },
  {
   "cell_type": "code",
   "execution_count": 212,
   "metadata": {},
   "outputs": [],
   "source": [
    "y_train = df_train.pop('Hospital overall rating')\n",
    "X_train = df_train"
   ]
  },
  {
   "cell_type": "code",
   "execution_count": 213,
   "metadata": {},
   "outputs": [],
   "source": [
    "# Importing RFE and LinearRegression\n",
    "from sklearn.feature_selection import RFE\n",
    "from sklearn.linear_model import LinearRegression\n",
    "\n",
    "# Running RFE with the output number of the variable equal to 10\n",
    "lm = LinearRegression()\n",
    "lm.fit(X_train, y_train)\n",
    "\n",
    "rfe = RFE(lm, 10)             # running RFE\n",
    "rfe = rfe.fit(X_train, y_train)\n"
   ]
  },
  {
   "cell_type": "code",
   "execution_count": 214,
   "metadata": {},
   "outputs": [
    {
     "data": {
      "text/plain": [
       "Index(['OP_10', 'OP_8', 'Efficiency_score', 'MORT_30_COPD', 'MORT_30_HF',\n",
       "       'MORT_30_PN', 'Mort_score', 'READM_30_HF', 'READM_30_HOSP_WIDE',\n",
       "       'Readmission_score'],\n",
       "      dtype='object')"
      ]
     },
     "execution_count": 214,
     "metadata": {},
     "output_type": "execute_result"
    }
   ],
   "source": [
    "#Get the columns selected by rfe\n",
    "col = X_train.columns[rfe.support_]\n",
    "col"
   ]
  },
  {
   "cell_type": "code",
   "execution_count": 215,
   "metadata": {},
   "outputs": [],
   "source": [
    "# Creating X_test dataframe with RFE selected variables\n",
    "X_train_rfe = X_train[col]\n",
    "\n",
    "# Adding a constant variable\n",
    "import statsmodels.api as sm  \n",
    "X_train_rfe = sm.add_constant(X_train_rfe)"
   ]
  },
  {
   "cell_type": "code",
   "execution_count": 216,
   "metadata": {},
   "outputs": [],
   "source": [
    "lm = sm.OLS(y_train,X_train_rfe).fit()   # Running the linear model"
   ]
  },
  {
   "cell_type": "code",
   "execution_count": 217,
   "metadata": {},
   "outputs": [
    {
     "name": "stdout",
     "output_type": "stream",
     "text": [
      "                               OLS Regression Results                              \n",
      "===================================================================================\n",
      "Dep. Variable:     Hospital overall rating   R-squared:                       0.430\n",
      "Model:                                 OLS   Adj. R-squared:                  0.424\n",
      "Method:                      Least Squares   F-statistic:                     74.14\n",
      "Date:                     Fri, 06 Sep 2019   Prob (F-statistic):          9.89e-113\n",
      "Time:                             04:09:36   Log-Likelihood:                -1587.9\n",
      "No. Observations:                      993   AIC:                             3198.\n",
      "Df Residuals:                          982   BIC:                             3252.\n",
      "Df Model:                               10                                         \n",
      "Covariance Type:                 nonrobust                                         \n",
      "======================================================================================\n",
      "                         coef    std err          t      P>|t|      [0.025      0.975]\n",
      "--------------------------------------------------------------------------------------\n",
      "const                  0.0965      0.057      1.683      0.093      -0.016       0.209\n",
      "OP_10                  0.2199      0.142      1.548      0.122      -0.059       0.499\n",
      "OP_8                   0.0971      0.024      4.101      0.000       0.051       0.143\n",
      "Efficiency_score      -0.3748      0.165     -2.265      0.024      -0.700      -0.050\n",
      "MORT_30_COPD          -0.2524      0.045     -5.550      0.000      -0.342      -0.163\n",
      "MORT_30_HF            -0.0663      0.051     -1.309      0.191      -0.166       0.033\n",
      "MORT_30_PN            -0.1065      0.052     -2.049      0.041      -0.208      -0.005\n",
      "Mort_score            -0.2424      0.075     -3.235      0.001      -0.389      -0.095\n",
      "READM_30_HF           -0.2083      0.051     -4.112      0.000      -0.308      -0.109\n",
      "READM_30_HOSP_WIDE    -0.7308      0.055    -13.398      0.000      -0.838      -0.624\n",
      "Readmission_score     -0.0339      0.064     -0.530      0.596      -0.160       0.092\n",
      "==============================================================================\n",
      "Omnibus:                      175.045   Durbin-Watson:                   2.044\n",
      "Prob(Omnibus):                  0.000   Jarque-Bera (JB):              685.747\n",
      "Skew:                          -0.790   Prob(JB):                    1.24e-149\n",
      "Kurtosis:                       6.752   Cond. No.                         20.1\n",
      "==============================================================================\n",
      "\n",
      "Warnings:\n",
      "[1] Standard Errors assume that the covariance matrix of the errors is correctly specified.\n"
     ]
    }
   ],
   "source": [
    "#Let's see the summary of our linear model\n",
    "print(lm.summary())"
   ]
  },
  {
   "cell_type": "code",
   "execution_count": 220,
   "metadata": {},
   "outputs": [],
   "source": [
    "from sklearn.linear_model import LinearRegression\n",
    "lr = LinearRegression()"
   ]
  },
  {
   "cell_type": "code",
   "execution_count": 221,
   "metadata": {},
   "outputs": [
    {
     "data": {
      "text/plain": [
       "LinearRegression(copy_X=True, fit_intercept=True, n_jobs=1, normalize=False)"
      ]
     },
     "execution_count": 221,
     "metadata": {},
     "output_type": "execute_result"
    }
   ],
   "source": [
    "lr.fit(X_train,y_train)"
   ]
  },
  {
   "cell_type": "code",
   "execution_count": 223,
   "metadata": {},
   "outputs": [
    {
     "name": "stdout",
     "output_type": "stream",
     "text": [
      "Collecting eli5\n",
      "  Downloading https://files.pythonhosted.org/packages/97/2f/c85c7d8f8548e460829971785347e14e45fa5c6617da374711dec8cb38cc/eli5-0.10.1-py2.py3-none-any.whl (105kB)\n",
      "Requirement already satisfied: scikit-learn>=0.18 in c:\\programdata\\anaconda3\\lib\\site-packages (from eli5)\n",
      "Collecting graphviz (from eli5)\n",
      "  Downloading https://files.pythonhosted.org/packages/17/51/d6de512dbbbab95f0adb53fb2a4396b79722f7c3fbe8ecc2d8c6ab7de00a/graphviz-0.12-py2.py3-none-any.whl\n",
      "Requirement already satisfied: jinja2 in c:\\programdata\\anaconda3\\lib\\site-packages (from eli5)\n",
      "Requirement already satisfied: scipy in c:\\programdata\\anaconda3\\lib\\site-packages (from eli5)\n",
      "Requirement already satisfied: numpy>=1.9.0 in c:\\programdata\\anaconda3\\lib\\site-packages (from eli5)\n",
      "Requirement already satisfied: attrs>16.0.0 in c:\\programdata\\anaconda3\\lib\\site-packages (from eli5)\n",
      "Requirement already satisfied: six in c:\\programdata\\anaconda3\\lib\\site-packages (from eli5)\n",
      "Collecting tabulate>=0.7.7 (from eli5)\n",
      "  Downloading https://files.pythonhosted.org/packages/c2/fd/202954b3f0eb896c53b7b6f07390851b1fd2ca84aa95880d7ae4f434c4ac/tabulate-0.8.3.tar.gz (46kB)\n",
      "Requirement already satisfied: MarkupSafe>=0.23 in c:\\programdata\\anaconda3\\lib\\site-packages (from jinja2->eli5)\n",
      "Building wheels for collected packages: tabulate\n",
      "  Running setup.py bdist_wheel for tabulate: started\n",
      "  Running setup.py bdist_wheel for tabulate: finished with status 'done'\n",
      "  Stored in directory: C:\\Users\\199251\\AppData\\Local\\pip\\Cache\\wheels\\2b\\67\\89\\414471314a2d15de625d184d8be6d38a03ae1e983dbda91e84\n",
      "Successfully built tabulate\n",
      "Installing collected packages: graphviz, tabulate, eli5\n",
      "Successfully installed eli5-0.10.1 graphviz-0.12 tabulate-0.8.3\n"
     ]
    },
    {
     "name": "stderr",
     "output_type": "stream",
     "text": [
      "You are using pip version 9.0.1, however version 19.2.3 is available.\n",
      "You should consider upgrading via the 'python -m pip install --upgrade pip' command.\n"
     ]
    }
   ],
   "source": [
    "!pip install eli5"
   ]
  },
  {
   "cell_type": "code",
   "execution_count": 226,
   "metadata": {
    "scrolled": true
   },
   "outputs": [
    {
     "data": {
      "text/html": [
       "\n",
       "    <style>\n",
       "    table.eli5-weights tr:hover {\n",
       "        filter: brightness(85%);\n",
       "    }\n",
       "</style>\n",
       "\n",
       "\n",
       "\n",
       "    \n",
       "\n",
       "    \n",
       "\n",
       "    \n",
       "\n",
       "    \n",
       "\n",
       "    \n",
       "\n",
       "    \n",
       "\n",
       "\n",
       "    \n",
       "\n",
       "    \n",
       "\n",
       "    \n",
       "\n",
       "    \n",
       "        \n",
       "\n",
       "    \n",
       "\n",
       "        \n",
       "            \n",
       "                \n",
       "                \n",
       "    \n",
       "        <p style=\"margin-bottom: 0.5em; margin-top: 0em\">\n",
       "            <b>\n",
       "    \n",
       "        y\n",
       "    \n",
       "</b>\n",
       "\n",
       "top features\n",
       "        </p>\n",
       "    \n",
       "    <table class=\"eli5-weights\"\n",
       "           style=\"border-collapse: collapse; border: none; margin-top: 0em; table-layout: auto; margin-bottom: 2em;\">\n",
       "        <thead>\n",
       "        <tr style=\"border: none;\">\n",
       "            \n",
       "                <th style=\"padding: 0 1em 0 0.5em; text-align: right; border: none;\" title=\"Feature weights. Note that weights do not account for feature value scales, so if feature values have different scales, features with highest weights might not be the most important.\">\n",
       "                    Weight<sup>?</sup>\n",
       "                </th>\n",
       "            \n",
       "            <th style=\"padding: 0 0.5em 0 0.5em; text-align: left; border: none;\">Feature</th>\n",
       "            \n",
       "        </tr>\n",
       "        </thead>\n",
       "        <tbody>\n",
       "        \n",
       "            <tr style=\"background-color: hsl(120, 100.00%, 89.92%); border: none;\">\n",
       "    <td style=\"padding: 0 1em 0 0.5em; text-align: right; border: none;\">\n",
       "        +0.244\n",
       "    </td>\n",
       "    <td style=\"padding: 0 0.5em 0 0.5em; text-align: left; border: none;\">\n",
       "        &lt;BIAS&gt;\n",
       "    </td>\n",
       "    \n",
       "</tr>\n",
       "        \n",
       "            <tr style=\"background-color: hsl(120, 100.00%, 91.44%); border: none;\">\n",
       "    <td style=\"padding: 0 1em 0 0.5em; text-align: right; border: none;\">\n",
       "        +0.193\n",
       "    </td>\n",
       "    <td style=\"padding: 0 0.5em 0 0.5em; text-align: left; border: none;\">\n",
       "        OP_10\n",
       "    </td>\n",
       "    \n",
       "</tr>\n",
       "        \n",
       "            <tr style=\"background-color: hsl(120, 100.00%, 93.32%); border: none;\">\n",
       "    <td style=\"padding: 0 1em 0 0.5em; text-align: right; border: none;\">\n",
       "        +0.135\n",
       "    </td>\n",
       "    <td style=\"padding: 0 0.5em 0 0.5em; text-align: left; border: none;\">\n",
       "        READM_30_CABG\n",
       "    </td>\n",
       "    \n",
       "</tr>\n",
       "        \n",
       "            <tr style=\"background-color: hsl(120, 100.00%, 94.13%); border: none;\">\n",
       "    <td style=\"padding: 0 1em 0 0.5em; text-align: right; border: none;\">\n",
       "        +0.112\n",
       "    </td>\n",
       "    <td style=\"padding: 0 0.5em 0 0.5em; text-align: left; border: none;\">\n",
       "        READM_30_STK\n",
       "    </td>\n",
       "    \n",
       "</tr>\n",
       "        \n",
       "            <tr style=\"background-color: hsl(120, 100.00%, 94.30%); border: none;\">\n",
       "    <td style=\"padding: 0 1em 0 0.5em; text-align: right; border: none;\">\n",
       "        +0.108\n",
       "    </td>\n",
       "    <td style=\"padding: 0 0.5em 0 0.5em; text-align: left; border: none;\">\n",
       "        Mort_score\n",
       "    </td>\n",
       "    \n",
       "</tr>\n",
       "        \n",
       "            <tr style=\"background-color: hsl(120, 100.00%, 95.15%); border: none;\">\n",
       "    <td style=\"padding: 0 1em 0 0.5em; text-align: right; border: none;\">\n",
       "        +0.086\n",
       "    </td>\n",
       "    <td style=\"padding: 0 0.5em 0 0.5em; text-align: left; border: none;\">\n",
       "        OP_8\n",
       "    </td>\n",
       "    \n",
       "</tr>\n",
       "        \n",
       "            <tr style=\"background-color: hsl(120, 100.00%, 95.21%); border: none;\">\n",
       "    <td style=\"padding: 0 1em 0 0.5em; text-align: right; border: none;\">\n",
       "        +0.084\n",
       "    </td>\n",
       "    <td style=\"padding: 0 0.5em 0 0.5em; text-align: left; border: none;\">\n",
       "        READM_30_HIP_KNEE\n",
       "    </td>\n",
       "    \n",
       "</tr>\n",
       "        \n",
       "            <tr style=\"background-color: hsl(120, 100.00%, 95.23%); border: none;\">\n",
       "    <td style=\"padding: 0 1em 0 0.5em; text-align: right; border: none;\">\n",
       "        +0.084\n",
       "    </td>\n",
       "    <td style=\"padding: 0 0.5em 0 0.5em; text-align: left; border: none;\">\n",
       "        READM_30_PN\n",
       "    </td>\n",
       "    \n",
       "</tr>\n",
       "        \n",
       "            <tr style=\"background-color: hsl(120, 100.00%, 97.51%); border: none;\">\n",
       "    <td style=\"padding: 0 1em 0 0.5em; text-align: right; border: none;\">\n",
       "        +0.033\n",
       "    </td>\n",
       "    <td style=\"padding: 0 0.5em 0 0.5em; text-align: left; border: none;\">\n",
       "        READM_30_COPD\n",
       "    </td>\n",
       "    \n",
       "</tr>\n",
       "        \n",
       "        \n",
       "            <tr style=\"background-color: hsl(120, 100.00%, 97.51%); border: none;\">\n",
       "                <td colspan=\"2\" style=\"padding: 0 0.5em 0 0.5em; text-align: center; border: none; white-space: nowrap;\">\n",
       "                    <i>&hellip; 2 more positive &hellip;</i>\n",
       "                </td>\n",
       "            </tr>\n",
       "        \n",
       "\n",
       "        \n",
       "            <tr style=\"background-color: hsl(0, 100.00%, 96.98%); border: none;\">\n",
       "                <td colspan=\"2\" style=\"padding: 0 0.5em 0 0.5em; text-align: center; border: none; white-space: nowrap;\">\n",
       "                    <i>&hellip; 1 more negative &hellip;</i>\n",
       "                </td>\n",
       "            </tr>\n",
       "        \n",
       "        \n",
       "            <tr style=\"background-color: hsl(0, 100.00%, 96.98%); border: none;\">\n",
       "    <td style=\"padding: 0 1em 0 0.5em; text-align: right; border: none;\">\n",
       "        -0.044\n",
       "    </td>\n",
       "    <td style=\"padding: 0 0.5em 0 0.5em; text-align: left; border: none;\">\n",
       "        OP_11\n",
       "    </td>\n",
       "    \n",
       "</tr>\n",
       "        \n",
       "            <tr style=\"background-color: hsl(0, 100.00%, 96.49%); border: none;\">\n",
       "    <td style=\"padding: 0 1em 0 0.5em; text-align: right; border: none;\">\n",
       "        -0.054\n",
       "    </td>\n",
       "    <td style=\"padding: 0 0.5em 0 0.5em; text-align: left; border: none;\">\n",
       "        MORT_30_AMI\n",
       "    </td>\n",
       "    \n",
       "</tr>\n",
       "        \n",
       "            <tr style=\"background-color: hsl(0, 100.00%, 96.13%); border: none;\">\n",
       "    <td style=\"padding: 0 1em 0 0.5em; text-align: right; border: none;\">\n",
       "        -0.062\n",
       "    </td>\n",
       "    <td style=\"padding: 0 0.5em 0 0.5em; text-align: left; border: none;\">\n",
       "        MORT_30_CABG\n",
       "    </td>\n",
       "    \n",
       "</tr>\n",
       "        \n",
       "            <tr style=\"background-color: hsl(0, 100.00%, 94.83%); border: none;\">\n",
       "    <td style=\"padding: 0 1em 0 0.5em; text-align: right; border: none;\">\n",
       "        -0.094\n",
       "    </td>\n",
       "    <td style=\"padding: 0 0.5em 0 0.5em; text-align: left; border: none;\">\n",
       "        READM_30_HF\n",
       "    </td>\n",
       "    \n",
       "</tr>\n",
       "        \n",
       "            <tr style=\"background-color: hsl(0, 100.00%, 93.75%); border: none;\">\n",
       "    <td style=\"padding: 0 1em 0 0.5em; text-align: right; border: none;\">\n",
       "        -0.123\n",
       "    </td>\n",
       "    <td style=\"padding: 0 0.5em 0 0.5em; text-align: left; border: none;\">\n",
       "        MORT_30_STK\n",
       "    </td>\n",
       "    \n",
       "</tr>\n",
       "        \n",
       "            <tr style=\"background-color: hsl(0, 100.00%, 92.80%); border: none;\">\n",
       "    <td style=\"padding: 0 1em 0 0.5em; text-align: right; border: none;\">\n",
       "        -0.151\n",
       "    </td>\n",
       "    <td style=\"padding: 0 0.5em 0 0.5em; text-align: left; border: none;\">\n",
       "        MORT_30_HF\n",
       "    </td>\n",
       "    \n",
       "</tr>\n",
       "        \n",
       "            <tr style=\"background-color: hsl(0, 100.00%, 90.83%); border: none;\">\n",
       "    <td style=\"padding: 0 1em 0 0.5em; text-align: right; border: none;\">\n",
       "        -0.213\n",
       "    </td>\n",
       "    <td style=\"padding: 0 0.5em 0 0.5em; text-align: left; border: none;\">\n",
       "        MORT_30_PN\n",
       "    </td>\n",
       "    \n",
       "</tr>\n",
       "        \n",
       "            <tr style=\"background-color: hsl(0, 100.00%, 88.30%); border: none;\">\n",
       "    <td style=\"padding: 0 1em 0 0.5em; text-align: right; border: none;\">\n",
       "        -0.301\n",
       "    </td>\n",
       "    <td style=\"padding: 0 0.5em 0 0.5em; text-align: left; border: none;\">\n",
       "        Efficiency_score\n",
       "    </td>\n",
       "    \n",
       "</tr>\n",
       "        \n",
       "            <tr style=\"background-color: hsl(0, 100.00%, 88.17%); border: none;\">\n",
       "    <td style=\"padding: 0 1em 0 0.5em; text-align: right; border: none;\">\n",
       "        -0.306\n",
       "    </td>\n",
       "    <td style=\"padding: 0 0.5em 0 0.5em; text-align: left; border: none;\">\n",
       "        MORT_30_COPD\n",
       "    </td>\n",
       "    \n",
       "</tr>\n",
       "        \n",
       "            <tr style=\"background-color: hsl(0, 100.00%, 82.77%); border: none;\">\n",
       "    <td style=\"padding: 0 1em 0 0.5em; text-align: right; border: none;\">\n",
       "        -0.524\n",
       "    </td>\n",
       "    <td style=\"padding: 0 0.5em 0 0.5em; text-align: left; border: none;\">\n",
       "        Readmission_score\n",
       "    </td>\n",
       "    \n",
       "</tr>\n",
       "        \n",
       "            <tr style=\"background-color: hsl(0, 100.00%, 80.00%); border: none;\">\n",
       "    <td style=\"padding: 0 1em 0 0.5em; text-align: right; border: none;\">\n",
       "        -0.648\n",
       "    </td>\n",
       "    <td style=\"padding: 0 0.5em 0 0.5em; text-align: left; border: none;\">\n",
       "        READM_30_HOSP_WIDE\n",
       "    </td>\n",
       "    \n",
       "</tr>\n",
       "        \n",
       "\n",
       "        </tbody>\n",
       "    </table>\n",
       "\n",
       "            \n",
       "        \n",
       "\n",
       "        \n",
       "\n",
       "\n",
       "\n",
       "    \n",
       "\n",
       "    \n",
       "\n",
       "    \n",
       "\n",
       "    \n",
       "\n",
       "\n",
       "    \n",
       "\n",
       "    \n",
       "\n",
       "    \n",
       "\n",
       "    \n",
       "\n",
       "    \n",
       "\n",
       "    \n",
       "\n",
       "\n",
       "    \n",
       "\n",
       "    \n",
       "\n",
       "    \n",
       "\n",
       "    \n",
       "\n",
       "    \n",
       "\n",
       "    \n",
       "\n",
       "\n",
       "\n"
      ],
      "text/plain": [
       "<IPython.core.display.HTML object>"
      ]
     },
     "execution_count": 226,
     "metadata": {},
     "output_type": "execute_result"
    }
   ],
   "source": [
    "import eli5\n",
    "eli5.show_weights(lr,feature_names=['OP_10',\n",
    " 'OP_11',\n",
    " 'OP_13',\n",
    " 'OP_14',\n",
    " 'OP_8',\n",
    " 'Efficiency_score',\n",
    " 'MORT_30_AMI',\n",
    " 'MORT_30_CABG',\n",
    " 'MORT_30_COPD',\n",
    " 'MORT_30_HF',\n",
    " 'MORT_30_PN',\n",
    " 'MORT_30_STK',\n",
    " 'Mort_score',\n",
    " 'READM_30_AMI',\n",
    " 'READM_30_CABG',\n",
    " 'READM_30_COPD',\n",
    " 'READM_30_HF',\n",
    " 'READM_30_HIP_KNEE',\n",
    " 'READM_30_HOSP_WIDE',\n",
    " 'READM_30_PN',\n",
    " 'READM_30_STK',\n",
    " 'Readmission_score'])"
   ]
  },
  {
   "cell_type": "markdown",
   "metadata": {},
   "source": [
    "# Random Forrest Model"
   ]
  },
  {
   "cell_type": "code",
   "execution_count": 230,
   "metadata": {
    "scrolled": false
   },
   "outputs": [
    {
     "name": "stdout",
     "output_type": "stream",
     "text": [
      "<class 'pandas.core.frame.DataFrame'>\n",
      "Int64Index: 2333 entries, 0 to 3772\n",
      "Data columns (total 24 columns):\n",
      "Provider ID                2333 non-null int64\n",
      "OP_10                      2333 non-null float64\n",
      "OP_11                      2333 non-null float64\n",
      "OP_13                      2333 non-null float64\n",
      "OP_14                      2333 non-null float64\n",
      "OP_8                       2333 non-null float64\n",
      "Efficiency_score           2333 non-null float64\n",
      "MORT_30_AMI                2333 non-null float64\n",
      "MORT_30_CABG               2333 non-null float64\n",
      "MORT_30_COPD               2333 non-null float64\n",
      "MORT_30_HF                 2333 non-null float64\n",
      "MORT_30_PN                 2333 non-null float64\n",
      "MORT_30_STK                2333 non-null float64\n",
      "Mort_score                 2333 non-null float64\n",
      "READM_30_AMI               2333 non-null float64\n",
      "READM_30_CABG              2333 non-null float64\n",
      "READM_30_COPD              2333 non-null float64\n",
      "READM_30_HF                2333 non-null float64\n",
      "READM_30_HIP_KNEE          2333 non-null float64\n",
      "READM_30_HOSP_WIDE         2333 non-null float64\n",
      "READM_30_PN                2333 non-null float64\n",
      "READM_30_STK               2333 non-null float64\n",
      "Readmission_score          2333 non-null float64\n",
      "Hospital overall rating    2333 non-null float64\n",
      "dtypes: float64(23), int64(1)\n",
      "memory usage: 455.7 KB\n"
     ]
    }
   ],
   "source": [
    "df.info()"
   ]
  },
  {
   "cell_type": "code",
   "execution_count": 231,
   "metadata": {},
   "outputs": [],
   "source": [
    "# split into X and y\n",
    "X = df.loc[:, df.columns != 'Hospital overall rating']\n",
    "\n",
    "y = df['Hospital overall rating']"
   ]
  },
  {
   "cell_type": "code",
   "execution_count": 232,
   "metadata": {},
   "outputs": [
    {
     "data": {
      "text/plain": [
       "Index(['Provider ID', 'OP_10', 'OP_11', 'OP_13', 'OP_14', 'OP_8',\n",
       "       'Efficiency_score', 'MORT_30_AMI', 'MORT_30_CABG', 'MORT_30_COPD',\n",
       "       'MORT_30_HF', 'MORT_30_PN', 'MORT_30_STK', 'Mort_score', 'READM_30_AMI',\n",
       "       'READM_30_CABG', 'READM_30_COPD', 'READM_30_HF', 'READM_30_HIP_KNEE',\n",
       "       'READM_30_HOSP_WIDE', 'READM_30_PN', 'READM_30_STK',\n",
       "       'Readmission_score'],\n",
       "      dtype='object')"
      ]
     },
     "execution_count": 232,
     "metadata": {},
     "output_type": "execute_result"
    }
   ],
   "source": [
    "# scaling the features\n",
    "from sklearn.preprocessing import scale\n",
    "\n",
    "cols = X.columns\n",
    "X = pd.DataFrame(scale(X))\n",
    "X.columns = cols\n",
    "X.columns"
   ]
  },
  {
   "cell_type": "code",
   "execution_count": 233,
   "metadata": {},
   "outputs": [
    {
     "name": "stderr",
     "output_type": "stream",
     "text": [
      "C:\\ProgramData\\Anaconda3\\lib\\site-packages\\sklearn\\cross_validation.py:41: DeprecationWarning: This module was deprecated in version 0.18 in favor of the model_selection module into which all the refactored classes and functions are moved. Also note that the interface of the new CV iterators are different from that of this module. This module will be removed in 0.20.\n",
      "  \"This module will be removed in 0.20.\", DeprecationWarning)\n"
     ]
    }
   ],
   "source": [
    "# split into train and test\n",
    "from sklearn.cross_validation import train_test_split\n",
    "X_train, X_test, y_train, y_test = train_test_split(X, y, \n",
    "                                                    train_size=0.7,\n",
    "                                                    test_size = 0.3, random_state=100)"
   ]
  },
  {
   "cell_type": "code",
   "execution_count": 234,
   "metadata": {},
   "outputs": [],
   "source": [
    "# Importing random forest classifier from sklearn library\n",
    "from sklearn.ensemble import RandomForestClassifier\n",
    "\n",
    "# Running the random forest with default parameters.\n",
    "rfc = RandomForestClassifier()"
   ]
  },
  {
   "cell_type": "code",
   "execution_count": 235,
   "metadata": {},
   "outputs": [
    {
     "data": {
      "text/plain": [
       "RandomForestClassifier(bootstrap=True, class_weight=None, criterion='gini',\n",
       "            max_depth=None, max_features='auto', max_leaf_nodes=None,\n",
       "            min_impurity_decrease=0.0, min_impurity_split=None,\n",
       "            min_samples_leaf=1, min_samples_split=2,\n",
       "            min_weight_fraction_leaf=0.0, n_estimators=10, n_jobs=1,\n",
       "            oob_score=False, random_state=None, verbose=0,\n",
       "            warm_start=False)"
      ]
     },
     "execution_count": 235,
     "metadata": {},
     "output_type": "execute_result"
    }
   ],
   "source": [
    "# fit\n",
    "rfc.fit(X_train,y_train)"
   ]
  },
  {
   "cell_type": "code",
   "execution_count": 236,
   "metadata": {},
   "outputs": [],
   "source": [
    "# Making predictions\n",
    "predictions = rfc.predict(X_test)"
   ]
  },
  {
   "cell_type": "code",
   "execution_count": 237,
   "metadata": {},
   "outputs": [],
   "source": [
    "# Importing classification report and confusion matrix from sklearn metrics\n",
    "from sklearn.metrics import classification_report,confusion_matrix, accuracy_score"
   ]
  },
  {
   "cell_type": "code",
   "execution_count": 238,
   "metadata": {},
   "outputs": [
    {
     "name": "stdout",
     "output_type": "stream",
     "text": [
      "             precision    recall  f1-score   support\n",
      "\n",
      "        1.0       0.27      0.09      0.14        33\n",
      "        2.0       0.48      0.43      0.45       163\n",
      "        3.0       0.52      0.65      0.58       318\n",
      "        4.0       0.48      0.40      0.44       171\n",
      "        5.0       0.00      0.00      0.00        15\n",
      "\n",
      "avg / total       0.48      0.50      0.48       700\n",
      "\n"
     ]
    },
    {
     "name": "stderr",
     "output_type": "stream",
     "text": [
      "C:\\ProgramData\\Anaconda3\\lib\\site-packages\\sklearn\\metrics\\classification.py:1135: UndefinedMetricWarning: Precision and F-score are ill-defined and being set to 0.0 in labels with no predicted samples.\n",
      "  'precision', 'predicted', average, warn_for)\n"
     ]
    }
   ],
   "source": [
    "# Let's check the report of our default model\n",
    "print(classification_report(y_test,predictions))"
   ]
  },
  {
   "cell_type": "code",
   "execution_count": 239,
   "metadata": {},
   "outputs": [
    {
     "name": "stdout",
     "output_type": "stream",
     "text": [
      "0.49714285714285716\n"
     ]
    }
   ],
   "source": [
    "print(accuracy_score(y_test,predictions))"
   ]
  },
  {
   "cell_type": "code",
   "execution_count": null,
   "metadata": {},
   "outputs": [],
   "source": []
  }
 ],
 "metadata": {
  "kernelspec": {
   "display_name": "Python 3",
   "language": "python",
   "name": "python3"
  },
  "language_info": {
   "codemirror_mode": {
    "name": "ipython",
    "version": 3
   },
   "file_extension": ".py",
   "mimetype": "text/x-python",
   "name": "python",
   "nbconvert_exporter": "python",
   "pygments_lexer": "ipython3",
   "version": "3.6.4"
  }
 },
 "nbformat": 4,
 "nbformat_minor": 2
}
