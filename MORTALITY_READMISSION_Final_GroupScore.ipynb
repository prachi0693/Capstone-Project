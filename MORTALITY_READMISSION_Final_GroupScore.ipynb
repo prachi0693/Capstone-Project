{
 "cells": [
  {
   "cell_type": "code",
   "execution_count": 2,
   "metadata": {},
   "outputs": [],
   "source": [
    "import pandas as pd\n",
    "import numpy as np\n",
    "import matplotlib.pyplot as plt\n",
    "import seaborn as sns\n",
    "%matplotlib inline"
   ]
  },
  {
   "cell_type": "markdown",
   "metadata": {},
   "source": [
    "# Generic Data Cleaning and EDA"
   ]
  },
  {
   "cell_type": "markdown",
   "metadata": {},
   "source": [
    "### Import Data and Check the properties"
   ]
  },
  {
   "cell_type": "code",
   "execution_count": 33,
   "metadata": {},
   "outputs": [],
   "source": [
    "df=pd.read_csv(\"Readmissions and Deaths_Hospital.csv\",encoding='latin1')"
   ]
  },
  {
   "cell_type": "code",
   "execution_count": 15,
   "metadata": {},
   "outputs": [
    {
     "data": {
      "text/html": [
       "<div>\n",
       "<style scoped>\n",
       "    .dataframe tbody tr th:only-of-type {\n",
       "        vertical-align: middle;\n",
       "    }\n",
       "\n",
       "    .dataframe tbody tr th {\n",
       "        vertical-align: top;\n",
       "    }\n",
       "\n",
       "    .dataframe thead th {\n",
       "        text-align: right;\n",
       "    }\n",
       "</style>\n",
       "<table border=\"1\" class=\"dataframe\">\n",
       "  <thead>\n",
       "    <tr style=\"text-align: right;\">\n",
       "      <th></th>\n",
       "      <th>Provider ID</th>\n",
       "      <th>Hospital Name</th>\n",
       "      <th>Address</th>\n",
       "      <th>City</th>\n",
       "      <th>State</th>\n",
       "      <th>ZIP Code</th>\n",
       "      <th>County Name</th>\n",
       "      <th>Phone Number</th>\n",
       "      <th>Measure Name</th>\n",
       "      <th>Measure ID</th>\n",
       "      <th>Compared to National</th>\n",
       "      <th>Denominator</th>\n",
       "      <th>Score</th>\n",
       "      <th>Lower Estimate</th>\n",
       "      <th>Higher Estimate</th>\n",
       "      <th>Footnote</th>\n",
       "      <th>Measure Start Date</th>\n",
       "      <th>Measure End Date</th>\n",
       "    </tr>\n",
       "  </thead>\n",
       "  <tbody>\n",
       "    <tr>\n",
       "      <th>0</th>\n",
       "      <td>10001</td>\n",
       "      <td>SOUTHEAST ALABAMA MEDICAL CENTER</td>\n",
       "      <td>1108 ROSS CLARK CIRCLE</td>\n",
       "      <td>DOTHAN</td>\n",
       "      <td>AL</td>\n",
       "      <td>36301</td>\n",
       "      <td>HOUSTON</td>\n",
       "      <td>3347938701</td>\n",
       "      <td>Acute Myocardial Infarction (AMI) 30-Day Morta...</td>\n",
       "      <td>MORT_30_AMI</td>\n",
       "      <td>No Different than the National Rate</td>\n",
       "      <td>733</td>\n",
       "      <td>12.5</td>\n",
       "      <td>10.6</td>\n",
       "      <td>14.9</td>\n",
       "      <td>NaN</td>\n",
       "      <td>07/01/2012</td>\n",
       "      <td>06/30/2015</td>\n",
       "    </tr>\n",
       "    <tr>\n",
       "      <th>1</th>\n",
       "      <td>10001</td>\n",
       "      <td>SOUTHEAST ALABAMA MEDICAL CENTER</td>\n",
       "      <td>1108 ROSS CLARK CIRCLE</td>\n",
       "      <td>DOTHAN</td>\n",
       "      <td>AL</td>\n",
       "      <td>36301</td>\n",
       "      <td>HOUSTON</td>\n",
       "      <td>3347938701</td>\n",
       "      <td>Death rate for CABG</td>\n",
       "      <td>MORT_30_CABG</td>\n",
       "      <td>No Different than the National Rate</td>\n",
       "      <td>278</td>\n",
       "      <td>4.2</td>\n",
       "      <td>2.6</td>\n",
       "      <td>6.8</td>\n",
       "      <td>NaN</td>\n",
       "      <td>07/01/2012</td>\n",
       "      <td>06/30/2015</td>\n",
       "    </tr>\n",
       "    <tr>\n",
       "      <th>2</th>\n",
       "      <td>10001</td>\n",
       "      <td>SOUTHEAST ALABAMA MEDICAL CENTER</td>\n",
       "      <td>1108 ROSS CLARK CIRCLE</td>\n",
       "      <td>DOTHAN</td>\n",
       "      <td>AL</td>\n",
       "      <td>36301</td>\n",
       "      <td>HOUSTON</td>\n",
       "      <td>3347938701</td>\n",
       "      <td>Death rate for chronic obstructive pulmonary d...</td>\n",
       "      <td>MORT_30_COPD</td>\n",
       "      <td>No Different than the National Rate</td>\n",
       "      <td>586</td>\n",
       "      <td>9.3</td>\n",
       "      <td>7.3</td>\n",
       "      <td>11.8</td>\n",
       "      <td>NaN</td>\n",
       "      <td>07/01/2012</td>\n",
       "      <td>06/30/2015</td>\n",
       "    </tr>\n",
       "    <tr>\n",
       "      <th>3</th>\n",
       "      <td>10001</td>\n",
       "      <td>SOUTHEAST ALABAMA MEDICAL CENTER</td>\n",
       "      <td>1108 ROSS CLARK CIRCLE</td>\n",
       "      <td>DOTHAN</td>\n",
       "      <td>AL</td>\n",
       "      <td>36301</td>\n",
       "      <td>HOUSTON</td>\n",
       "      <td>3347938701</td>\n",
       "      <td>Heart failure (HF) 30-Day Mortality Rate</td>\n",
       "      <td>MORT_30_HF</td>\n",
       "      <td>No Different than the National Rate</td>\n",
       "      <td>797</td>\n",
       "      <td>12.4</td>\n",
       "      <td>10.4</td>\n",
       "      <td>14.6</td>\n",
       "      <td>NaN</td>\n",
       "      <td>07/01/2012</td>\n",
       "      <td>06/30/2015</td>\n",
       "    </tr>\n",
       "    <tr>\n",
       "      <th>4</th>\n",
       "      <td>10001</td>\n",
       "      <td>SOUTHEAST ALABAMA MEDICAL CENTER</td>\n",
       "      <td>1108 ROSS CLARK CIRCLE</td>\n",
       "      <td>DOTHAN</td>\n",
       "      <td>AL</td>\n",
       "      <td>36301</td>\n",
       "      <td>HOUSTON</td>\n",
       "      <td>3347938701</td>\n",
       "      <td>Pneumonia (PN) 30-Day Mortality Rate</td>\n",
       "      <td>MORT_30_PN</td>\n",
       "      <td>No Different than the National Rate</td>\n",
       "      <td>599</td>\n",
       "      <td>15.5</td>\n",
       "      <td>13.0</td>\n",
       "      <td>18.5</td>\n",
       "      <td>NaN</td>\n",
       "      <td>07/01/2012</td>\n",
       "      <td>06/30/2015</td>\n",
       "    </tr>\n",
       "  </tbody>\n",
       "</table>\n",
       "</div>"
      ],
      "text/plain": [
       "   Provider ID                     Hospital Name                 Address  \\\n",
       "0        10001  SOUTHEAST ALABAMA MEDICAL CENTER  1108 ROSS CLARK CIRCLE   \n",
       "1        10001  SOUTHEAST ALABAMA MEDICAL CENTER  1108 ROSS CLARK CIRCLE   \n",
       "2        10001  SOUTHEAST ALABAMA MEDICAL CENTER  1108 ROSS CLARK CIRCLE   \n",
       "3        10001  SOUTHEAST ALABAMA MEDICAL CENTER  1108 ROSS CLARK CIRCLE   \n",
       "4        10001  SOUTHEAST ALABAMA MEDICAL CENTER  1108 ROSS CLARK CIRCLE   \n",
       "\n",
       "     City State  ZIP Code County Name  Phone Number  \\\n",
       "0  DOTHAN    AL     36301     HOUSTON    3347938701   \n",
       "1  DOTHAN    AL     36301     HOUSTON    3347938701   \n",
       "2  DOTHAN    AL     36301     HOUSTON    3347938701   \n",
       "3  DOTHAN    AL     36301     HOUSTON    3347938701   \n",
       "4  DOTHAN    AL     36301     HOUSTON    3347938701   \n",
       "\n",
       "                                        Measure Name    Measure ID  \\\n",
       "0  Acute Myocardial Infarction (AMI) 30-Day Morta...   MORT_30_AMI   \n",
       "1                                Death rate for CABG  MORT_30_CABG   \n",
       "2  Death rate for chronic obstructive pulmonary d...  MORT_30_COPD   \n",
       "3           Heart failure (HF) 30-Day Mortality Rate    MORT_30_HF   \n",
       "4               Pneumonia (PN) 30-Day Mortality Rate    MORT_30_PN   \n",
       "\n",
       "                  Compared to National Denominator Score Lower Estimate  \\\n",
       "0  No Different than the National Rate         733  12.5           10.6   \n",
       "1  No Different than the National Rate         278   4.2            2.6   \n",
       "2  No Different than the National Rate         586   9.3            7.3   \n",
       "3  No Different than the National Rate         797  12.4           10.4   \n",
       "4  No Different than the National Rate         599  15.5           13.0   \n",
       "\n",
       "  Higher Estimate Footnote Measure Start Date Measure End Date  \n",
       "0            14.9      NaN         07/01/2012       06/30/2015  \n",
       "1             6.8      NaN         07/01/2012       06/30/2015  \n",
       "2            11.8      NaN         07/01/2012       06/30/2015  \n",
       "3            14.6      NaN         07/01/2012       06/30/2015  \n",
       "4            18.5      NaN         07/01/2012       06/30/2015  "
      ]
     },
     "execution_count": 15,
     "metadata": {},
     "output_type": "execute_result"
    }
   ],
   "source": [
    "df.head()"
   ]
  },
  {
   "cell_type": "code",
   "execution_count": 16,
   "metadata": {},
   "outputs": [
    {
     "data": {
      "text/plain": [
       "(67452, 18)"
      ]
     },
     "execution_count": 16,
     "metadata": {},
     "output_type": "execute_result"
    }
   ],
   "source": [
    "df.shape"
   ]
  },
  {
   "cell_type": "code",
   "execution_count": 17,
   "metadata": {
    "scrolled": true
   },
   "outputs": [
    {
     "name": "stdout",
     "output_type": "stream",
     "text": [
      "<class 'pandas.core.frame.DataFrame'>\n",
      "RangeIndex: 67452 entries, 0 to 67451\n",
      "Data columns (total 18 columns):\n",
      "Provider ID             67452 non-null int64\n",
      "Hospital Name           67452 non-null object\n",
      "Address                 67452 non-null object\n",
      "City                    67452 non-null object\n",
      "State                   67452 non-null object\n",
      "ZIP Code                67452 non-null int64\n",
      "County Name             67242 non-null object\n",
      "Phone Number            67452 non-null int64\n",
      "Measure Name            67452 non-null object\n",
      "Measure ID              67452 non-null object\n",
      "Compared to National    67452 non-null object\n",
      "Denominator             67452 non-null object\n",
      "Score                   67452 non-null object\n",
      "Lower Estimate          67452 non-null object\n",
      "Higher Estimate         67452 non-null object\n",
      "Footnote                25742 non-null object\n",
      "Measure Start Date      67452 non-null object\n",
      "Measure End Date        67452 non-null object\n",
      "dtypes: int64(3), object(15)\n",
      "memory usage: 9.3+ MB\n"
     ]
    }
   ],
   "source": [
    "df.info()"
   ]
  },
  {
   "cell_type": "code",
   "execution_count": 18,
   "metadata": {
    "scrolled": true
   },
   "outputs": [
    {
     "data": {
      "text/plain": [
       "Provider ID              0.00\n",
       "Hospital Name            0.00\n",
       "Address                  0.00\n",
       "City                     0.00\n",
       "State                    0.00\n",
       "ZIP Code                 0.00\n",
       "County Name              0.31\n",
       "Phone Number             0.00\n",
       "Measure Name             0.00\n",
       "Measure ID               0.00\n",
       "Compared to National     0.00\n",
       "Denominator              0.00\n",
       "Score                    0.00\n",
       "Lower Estimate           0.00\n",
       "Higher Estimate          0.00\n",
       "Footnote                61.84\n",
       "Measure Start Date       0.00\n",
       "Measure End Date         0.00\n",
       "dtype: float64"
      ]
     },
     "execution_count": 18,
     "metadata": {},
     "output_type": "execute_result"
    }
   ],
   "source": [
    "# Check the data for percentage of null values\n",
    "\n",
    "round((df.isnull().sum()/df.isnull().count())*100,2)"
   ]
  },
  {
   "cell_type": "markdown",
   "metadata": {},
   "source": [
    "#### Dropping columns having more than 50% null values and eliminating rows having null values"
   ]
  },
  {
   "cell_type": "code",
   "execution_count": 34,
   "metadata": {},
   "outputs": [
    {
     "data": {
      "text/plain": [
       "(67452, 17)"
      ]
     },
     "execution_count": 34,
     "metadata": {},
     "output_type": "execute_result"
    }
   ],
   "source": [
    "df= df.dropna(axis=1, thresh=int(0.5*len(df)))\n",
    "df.shape"
   ]
  },
  {
   "cell_type": "code",
   "execution_count": 35,
   "metadata": {},
   "outputs": [],
   "source": [
    "df=df.dropna(axis=0, how='any')"
   ]
  },
  {
   "cell_type": "code",
   "execution_count": 21,
   "metadata": {
    "scrolled": true
   },
   "outputs": [
    {
     "name": "stdout",
     "output_type": "stream",
     "text": [
      "<class 'pandas.core.frame.DataFrame'>\n",
      "Int64Index: 67242 entries, 0 to 67395\n",
      "Data columns (total 17 columns):\n",
      "Provider ID             67242 non-null int64\n",
      "Hospital Name           67242 non-null object\n",
      "Address                 67242 non-null object\n",
      "City                    67242 non-null object\n",
      "State                   67242 non-null object\n",
      "ZIP Code                67242 non-null int64\n",
      "County Name             67242 non-null object\n",
      "Phone Number            67242 non-null int64\n",
      "Measure Name            67242 non-null object\n",
      "Measure ID              67242 non-null object\n",
      "Compared to National    67242 non-null object\n",
      "Denominator             67242 non-null object\n",
      "Score                   67242 non-null object\n",
      "Lower Estimate          67242 non-null object\n",
      "Higher Estimate         67242 non-null object\n",
      "Measure Start Date      67242 non-null object\n",
      "Measure End Date        67242 non-null object\n",
      "dtypes: int64(3), object(14)\n",
      "memory usage: 9.2+ MB\n"
     ]
    }
   ],
   "source": [
    "df.info()"
   ]
  },
  {
   "cell_type": "code",
   "execution_count": 36,
   "metadata": {
    "scrolled": true
   },
   "outputs": [
    {
     "name": "stdout",
     "output_type": "stream",
     "text": [
      "<class 'pandas.core.frame.DataFrame'>\n",
      "Int64Index: 67242 entries, 0 to 67395\n",
      "Data columns (total 17 columns):\n",
      "Provider ID             67242 non-null int64\n",
      "Hospital Name           67242 non-null object\n",
      "Address                 67242 non-null object\n",
      "City                    67242 non-null object\n",
      "State                   67242 non-null object\n",
      "ZIP Code                67242 non-null int64\n",
      "County Name             67242 non-null object\n",
      "Phone Number            67242 non-null int64\n",
      "Measure Name            67242 non-null object\n",
      "Measure ID              67242 non-null object\n",
      "Compared to National    67242 non-null object\n",
      "Denominator             67242 non-null object\n",
      "Score                   67242 non-null object\n",
      "Lower Estimate          67242 non-null object\n",
      "Higher Estimate         67242 non-null object\n",
      "Measure Start Date      67242 non-null object\n",
      "Measure End Date        67242 non-null object\n",
      "dtypes: int64(3), object(14)\n",
      "memory usage: 9.2+ MB\n"
     ]
    }
   ],
   "source": [
    "# Drop duplicate records if any\n",
    "df=df.drop_duplicates(keep='first', inplace=False)\n",
    "df.info()"
   ]
  },
  {
   "cell_type": "markdown",
   "metadata": {},
   "source": [
    "### Removing unwanted data -\n",
    "\n",
    "### This step will be specific to your dataset \n",
    "data where most of the metrics are not available/not applicable wont give any info so removing such records.\n",
    "Address , city, state can be removed as we have Zip Code "
   ]
  },
  {
   "cell_type": "code",
   "execution_count": 37,
   "metadata": {},
   "outputs": [],
   "source": [
    "df=df[~(df[\"Denominator\"].isin(['Not Applicable','Not Available']))]# & (df[\"Score\"].isin(['Not Applicable','Not Available'])) & (df[\"Lower Estimate\"].isin(['Not Applicable','Not Available'])) & (df[\"Higher Estimate\"].isin(['Not Applicable','Not Available']))]"
   ]
  },
  {
   "cell_type": "code",
   "execution_count": 38,
   "metadata": {},
   "outputs": [],
   "source": [
    "df=df.drop([\"Address\",\"City\",\"State\",\"Phone Number\"],axis=1)"
   ]
  },
  {
   "cell_type": "code",
   "execution_count": 41,
   "metadata": {
    "scrolled": true
   },
   "outputs": [
    {
     "name": "stdout",
     "output_type": "stream",
     "text": [
      "<class 'pandas.core.frame.DataFrame'>\n",
      "Int64Index: 41645 entries, 0 to 67323\n",
      "Data columns (total 13 columns):\n",
      "Provider ID             41645 non-null int64\n",
      "Hospital Name           41645 non-null object\n",
      "ZIP Code                41645 non-null int64\n",
      "County Name             41645 non-null object\n",
      "Measure Name            41645 non-null object\n",
      "Measure ID              41645 non-null object\n",
      "Compared to National    41645 non-null object\n",
      "Denominator             41645 non-null object\n",
      "Score                   41645 non-null object\n",
      "Lower Estimate          41645 non-null object\n",
      "Higher Estimate         41645 non-null object\n",
      "Measure Start Date      41645 non-null object\n",
      "Measure End Date        41645 non-null object\n",
      "dtypes: int64(2), object(11)\n",
      "memory usage: 4.4+ MB\n"
     ]
    }
   ],
   "source": [
    "df.info()"
   ]
  },
  {
   "cell_type": "markdown",
   "metadata": {},
   "source": [
    "### Converting some categorical variables to numeric"
   ]
  },
  {
   "cell_type": "code",
   "execution_count": 40,
   "metadata": {},
   "outputs": [],
   "source": [
    "df = df.replace(['Not Available','Not Applicable'],0)"
   ]
  },
  {
   "cell_type": "code",
   "execution_count": 42,
   "metadata": {},
   "outputs": [],
   "source": [
    "df[[\"Denominator\",\"Score\",\"Lower Estimate\",\"Higher Estimate\"]] = df[[\"Denominator\",\"Score\",\"Lower Estimate\",\"Higher Estimate\"]].apply(pd.to_numeric,errors='coerce')\n"
   ]
  },
  {
   "cell_type": "code",
   "execution_count": 43,
   "metadata": {},
   "outputs": [],
   "source": [
    "df=df.fillna(0)"
   ]
  },
  {
   "cell_type": "code",
   "execution_count": 44,
   "metadata": {
    "scrolled": false
   },
   "outputs": [
    {
     "name": "stdout",
     "output_type": "stream",
     "text": [
      "<class 'pandas.core.frame.DataFrame'>\n",
      "Int64Index: 41645 entries, 0 to 67323\n",
      "Data columns (total 13 columns):\n",
      "Provider ID             41645 non-null int64\n",
      "Hospital Name           41645 non-null object\n",
      "ZIP Code                41645 non-null int64\n",
      "County Name             41645 non-null object\n",
      "Measure Name            41645 non-null object\n",
      "Measure ID              41645 non-null object\n",
      "Compared to National    41645 non-null object\n",
      "Denominator             41645 non-null int64\n",
      "Score                   41645 non-null float64\n",
      "Lower Estimate          41645 non-null float64\n",
      "Higher Estimate         41645 non-null float64\n",
      "Measure Start Date      41645 non-null object\n",
      "Measure End Date        41645 non-null object\n",
      "dtypes: float64(3), int64(3), object(7)\n",
      "memory usage: 4.4+ MB\n"
     ]
    }
   ],
   "source": [
    "df.info()"
   ]
  },
  {
   "cell_type": "code",
   "execution_count": 45,
   "metadata": {
    "scrolled": false
   },
   "outputs": [
    {
     "data": {
      "image/png": "[encoded data removed]",
      "text/plain": [
       "<matplotlib.figure.Figure at 0x8546080>"
      ]
     },
     "metadata": {},
     "output_type": "display_data"
    }
   ],
   "source": [
    "# Let's see the correlation matrix \n",
    "plt.figure(figsize = (20,10))        # Size of the figure\n",
    "sns.heatmap(df.corr(),annot = True)\n",
    "plt.show()"
   ]
  },
  {
   "cell_type": "code",
   "execution_count": 46,
   "metadata": {},
   "outputs": [],
   "source": [
    "## Droppng Columns with high correlation -\n",
    "df = df.drop(['Lower Estimate', 'Higher Estimate'], axis=1)"
   ]
  },
  {
   "cell_type": "code",
   "execution_count": 47,
   "metadata": {},
   "outputs": [
    {
     "data": {
      "image/png": "[encoded data removed]",
      "text/plain": [
       "<matplotlib.figure.Figure at 0x8600c18>"
      ]
     },
     "metadata": {},
     "output_type": "display_data"
    }
   ],
   "source": [
    "# Let's see the correlation matrix again\n",
    "plt.figure(figsize = (20,10))        # Size of the figure\n",
    "sns.heatmap(df.corr(),annot = True)\n",
    "plt.show()"
   ]
  },
  {
   "cell_type": "markdown",
   "metadata": {},
   "source": [
    "## We can see that there is no significant correlation amoung the columns ; hence heekping all these columns in the dataset for now ; we can later remove certain fields when we merge it to other datasets."
   ]
  },
  {
   "cell_type": "markdown",
   "metadata": {},
   "source": [
    "## Writing cleaned data to another file"
   ]
  },
  {
   "cell_type": "code",
   "execution_count": 48,
   "metadata": {},
   "outputs": [],
   "source": [
    "df.to_csv('Readmissions and Deaths.csv')"
   ]
  },
  {
   "cell_type": "code",
   "execution_count": 49,
   "metadata": {
    "scrolled": true
   },
   "outputs": [
    {
     "name": "stdout",
     "output_type": "stream",
     "text": [
      "<class 'pandas.core.frame.DataFrame'>\n",
      "Int64Index: 41645 entries, 0 to 67323\n",
      "Data columns (total 11 columns):\n",
      "Provider ID             41645 non-null int64\n",
      "Hospital Name           41645 non-null object\n",
      "ZIP Code                41645 non-null int64\n",
      "County Name             41645 non-null object\n",
      "Measure Name            41645 non-null object\n",
      "Measure ID              41645 non-null object\n",
      "Compared to National    41645 non-null object\n",
      "Denominator             41645 non-null int64\n",
      "Score                   41645 non-null float64\n",
      "Measure Start Date      41645 non-null object\n",
      "Measure End Date        41645 non-null object\n",
      "dtypes: float64(1), int64(3), object(7)\n",
      "memory usage: 3.8+ MB\n"
     ]
    }
   ],
   "source": [
    "RnDeaths = df[:]\n",
    "RnDeaths.info()"
   ]
  },
  {
   "cell_type": "markdown",
   "metadata": {},
   "source": [
    "## Read 'Readmissions and Deaths.csv' and get only mortality features to get group score"
   ]
  },
  {
   "cell_type": "code",
   "execution_count": 214,
   "metadata": {},
   "outputs": [],
   "source": [
    "Mort_read_df = pd.read_csv(r'C:\\Users\\Preethi\\Downloads\\Cleaned files (2)\\Cleaned files\\Readmissions and Deaths.csv', index_col = 0)"
   ]
  },
  {
   "cell_type": "code",
   "execution_count": 215,
   "metadata": {},
   "outputs": [],
   "source": [
    "Mort_read_df.drop(['Hospital Name','ZIP Code','Measure Name','County Name','Compared to National','Denominator','Measure Start Date','Measure End Date'],axis=1,inplace=True)"
   ]
  },
  {
   "cell_type": "code",
   "execution_count": 216,
   "metadata": {},
   "outputs": [],
   "source": [
    "Mortality_df = Mort_read_df[Mort_read_df['Measure ID'].str.contains(\"MORT\")]"
   ]
  },
  {
   "cell_type": "code",
   "execution_count": 217,
   "metadata": {},
   "outputs": [
    {
     "data": {
      "text/plain": [
       "array(['MORT_30_AMI', 'MORT_30_CABG', 'MORT_30_COPD', 'MORT_30_HF',\n",
       "       'MORT_30_PN', 'MORT_30_STK'], dtype=object)"
      ]
     },
     "execution_count": 217,
     "metadata": {},
     "output_type": "execute_result"
    }
   ],
   "source": [
    "Mortality_df['Measure ID'].unique()"
   ]
  },
  {
   "cell_type": "code",
   "execution_count": 218,
   "metadata": {},
   "outputs": [],
   "source": [
    "# Another feature for Mortality ie 'Death Among Surgical Patients with Serious Treatable Complications' is captured from Complications- Hospital csv.\n",
    "MORT_30_DASdf = pd.read_csv(r'C:\\Users\\Preethi\\Downloads\\Hospital_Revised_FlatFiles_20161110\\Complications - Hospital.csv')"
   ]
  },
  {
   "cell_type": "code",
   "execution_count": 219,
   "metadata": {},
   "outputs": [
    {
     "data": {
      "text/plain": [
       "Index(['Provider ID', 'Hospital Name', 'Address', 'City', 'State', 'ZIP Code',\n",
       "       'County Name', 'Phone Number', 'Measure Name', 'Measure ID',\n",
       "       'Compared to National', 'Denominator', 'Score', 'Lower Estimate',\n",
       "       'Higher Estimate', 'Footnote', 'Measure Start Date',\n",
       "       'Measure End Date'],\n",
       "      dtype='object')"
      ]
     },
     "execution_count": 219,
     "metadata": {},
     "output_type": "execute_result"
    }
   ],
   "source": [
    "MORT_30_DASdf = MORT_30_DASdf[MORT_30_DASdf['Measure ID']== 'PSI_4_SURG_COMP']\n",
    "MORT_30_DASdf.columns"
   ]
  },
  {
   "cell_type": "code",
   "execution_count": 220,
   "metadata": {},
   "outputs": [],
   "source": [
    "MORT_30_DASdf.drop(['Hospital Name', 'Address', 'City', 'State', 'ZIP Code',\n",
    "       'County Name', 'Phone Number', 'Measure Name','Compared to National', 'Denominator', 'Lower Estimate',\n",
    "       'Higher Estimate', 'Footnote', 'Measure Start Date',\n",
    "       'Measure End Date'],axis=1,inplace=True)"
   ]
  },
  {
   "cell_type": "code",
   "execution_count": 221,
   "metadata": {},
   "outputs": [
    {
     "data": {
      "text/html": [
       "<div>\n",
       "<style scoped>\n",
       "    .dataframe tbody tr th:only-of-type {\n",
       "        vertical-align: middle;\n",
       "    }\n",
       "\n",
       "    .dataframe tbody tr th {\n",
       "        vertical-align: top;\n",
       "    }\n",
       "\n",
       "    .dataframe thead th {\n",
       "        text-align: right;\n",
       "    }\n",
       "</style>\n",
       "<table border=\"1\" class=\"dataframe\">\n",
       "  <thead>\n",
       "    <tr style=\"text-align: right;\">\n",
       "      <th></th>\n",
       "      <th>Provider ID</th>\n",
       "      <th>Measure ID</th>\n",
       "      <th>Score</th>\n",
       "    </tr>\n",
       "  </thead>\n",
       "  <tbody>\n",
       "    <tr>\n",
       "      <th>6</th>\n",
       "      <td>10001</td>\n",
       "      <td>PSI_4_SURG_COMP</td>\n",
       "      <td>168.26</td>\n",
       "    </tr>\n",
       "    <tr>\n",
       "      <th>17</th>\n",
       "      <td>10005</td>\n",
       "      <td>PSI_4_SURG_COMP</td>\n",
       "      <td>179.05</td>\n",
       "    </tr>\n",
       "    <tr>\n",
       "      <th>28</th>\n",
       "      <td>10006</td>\n",
       "      <td>PSI_4_SURG_COMP</td>\n",
       "      <td>198.33</td>\n",
       "    </tr>\n",
       "    <tr>\n",
       "      <th>39</th>\n",
       "      <td>10007</td>\n",
       "      <td>PSI_4_SURG_COMP</td>\n",
       "      <td>Not Available</td>\n",
       "    </tr>\n",
       "    <tr>\n",
       "      <th>50</th>\n",
       "      <td>10008</td>\n",
       "      <td>PSI_4_SURG_COMP</td>\n",
       "      <td>Not Available</td>\n",
       "    </tr>\n",
       "  </tbody>\n",
       "</table>\n",
       "</div>"
      ],
      "text/plain": [
       "    Provider ID       Measure ID          Score\n",
       "6         10001  PSI_4_SURG_COMP         168.26\n",
       "17        10005  PSI_4_SURG_COMP         179.05\n",
       "28        10006  PSI_4_SURG_COMP         198.33\n",
       "39        10007  PSI_4_SURG_COMP  Not Available\n",
       "50        10008  PSI_4_SURG_COMP  Not Available"
      ]
     },
     "execution_count": 221,
     "metadata": {},
     "output_type": "execute_result"
    }
   ],
   "source": [
    "MORT_30_DASdf.head()"
   ]
  },
  {
   "cell_type": "code",
   "execution_count": 222,
   "metadata": {},
   "outputs": [
    {
     "name": "stdout",
     "output_type": "stream",
     "text": [
      "<class 'pandas.core.frame.DataFrame'>\n",
      "Int64Index: 4818 entries, 6 to 52993\n",
      "Data columns (total 3 columns):\n",
      "Provider ID    4818 non-null int64\n",
      "Measure ID     4818 non-null object\n",
      "Score          4818 non-null object\n",
      "dtypes: int64(1), object(2)\n",
      "memory usage: 150.6+ KB\n"
     ]
    }
   ],
   "source": [
    "MORT_30_DASdf.info()"
   ]
  },
  {
   "cell_type": "code",
   "execution_count": 223,
   "metadata": {},
   "outputs": [],
   "source": [
    "MORT_30_DASdf = MORT_30_DASdf.replace(['Not Available','Not Applicable'],0)"
   ]
  },
  {
   "cell_type": "code",
   "execution_count": 224,
   "metadata": {},
   "outputs": [
    {
     "data": {
      "text/plain": [
       "(4818, 3)"
      ]
     },
     "execution_count": 224,
     "metadata": {},
     "output_type": "execute_result"
    }
   ],
   "source": [
    "MORT_30_DASdf.shape"
   ]
  },
  {
   "cell_type": "code",
   "execution_count": 225,
   "metadata": {},
   "outputs": [
    {
     "data": {
      "text/plain": [
       "Provider ID    3000\n",
       "Measure ID     3000\n",
       "Score          3000\n",
       "dtype: int64"
      ]
     },
     "execution_count": 225,
     "metadata": {},
     "output_type": "execute_result"
    }
   ],
   "source": [
    "MORT_30_DASdf[MORT_30_DASdf['Score']==0].count()"
   ]
  },
  {
   "cell_type": "markdown",
   "metadata": {},
   "source": [
    "### As PSI_4_SURG_COMP measure have very less number of hospitals, not adding it to Mortality group."
   ]
  },
  {
   "cell_type": "code",
   "execution_count": 226,
   "metadata": {},
   "outputs": [],
   "source": [
    "#Loading coefficients of Mortality measures are the following, MORT_30_PN=0.66,MORT_30_AMI=0.48, \n",
    "#'MORT_30_CABG'=0.35, 'MORT_30_COPD'= 0.62, 'MORT_30_HF'= 0.74, 'MORT_30_STK'=0.52\n",
    "# Hence multiplying the respective feature scores with their loading coefficient."
   ]
  },
  {
   "cell_type": "code",
   "execution_count": 227,
   "metadata": {},
   "outputs": [
    {
     "data": {
      "text/html": [
       "<div>\n",
       "<style scoped>\n",
       "    .dataframe tbody tr th:only-of-type {\n",
       "        vertical-align: middle;\n",
       "    }\n",
       "\n",
       "    .dataframe tbody tr th {\n",
       "        vertical-align: top;\n",
       "    }\n",
       "\n",
       "    .dataframe thead th {\n",
       "        text-align: right;\n",
       "    }\n",
       "</style>\n",
       "<table border=\"1\" class=\"dataframe\">\n",
       "  <thead>\n",
       "    <tr style=\"text-align: right;\">\n",
       "      <th></th>\n",
       "      <th>Provider ID</th>\n",
       "      <th>Measure ID</th>\n",
       "      <th>Score</th>\n",
       "    </tr>\n",
       "  </thead>\n",
       "  <tbody>\n",
       "    <tr>\n",
       "      <th>0</th>\n",
       "      <td>10001</td>\n",
       "      <td>MORT_30_AMI</td>\n",
       "      <td>12.5</td>\n",
       "    </tr>\n",
       "    <tr>\n",
       "      <th>1</th>\n",
       "      <td>10001</td>\n",
       "      <td>MORT_30_CABG</td>\n",
       "      <td>4.2</td>\n",
       "    </tr>\n",
       "    <tr>\n",
       "      <th>2</th>\n",
       "      <td>10001</td>\n",
       "      <td>MORT_30_COPD</td>\n",
       "      <td>9.3</td>\n",
       "    </tr>\n",
       "    <tr>\n",
       "      <th>3</th>\n",
       "      <td>10001</td>\n",
       "      <td>MORT_30_HF</td>\n",
       "      <td>12.4</td>\n",
       "    </tr>\n",
       "    <tr>\n",
       "      <th>4</th>\n",
       "      <td>10001</td>\n",
       "      <td>MORT_30_PN</td>\n",
       "      <td>15.5</td>\n",
       "    </tr>\n",
       "  </tbody>\n",
       "</table>\n",
       "</div>"
      ],
      "text/plain": [
       "   Provider ID    Measure ID  Score\n",
       "0        10001   MORT_30_AMI   12.5\n",
       "1        10001  MORT_30_CABG    4.2\n",
       "2        10001  MORT_30_COPD    9.3\n",
       "3        10001    MORT_30_HF   12.4\n",
       "4        10001    MORT_30_PN   15.5"
      ]
     },
     "execution_count": 227,
     "metadata": {},
     "output_type": "execute_result"
    }
   ],
   "source": [
    "Mortality_df.head()\n"
   ]
  },
  {
   "cell_type": "code",
   "execution_count": 228,
   "metadata": {},
   "outputs": [
    {
     "data": {
      "text/html": [
       "<div>\n",
       "<style scoped>\n",
       "    .dataframe tbody tr th:only-of-type {\n",
       "        vertical-align: middle;\n",
       "    }\n",
       "\n",
       "    .dataframe tbody tr th {\n",
       "        vertical-align: top;\n",
       "    }\n",
       "\n",
       "    .dataframe thead th {\n",
       "        text-align: right;\n",
       "    }\n",
       "</style>\n",
       "<table border=\"1\" class=\"dataframe\">\n",
       "  <thead>\n",
       "    <tr style=\"text-align: right;\">\n",
       "      <th>Measure ID</th>\n",
       "      <th>Provider ID</th>\n",
       "      <th>MORT_30_AMI</th>\n",
       "      <th>MORT_30_CABG</th>\n",
       "      <th>MORT_30_COPD</th>\n",
       "      <th>MORT_30_HF</th>\n",
       "      <th>MORT_30_PN</th>\n",
       "      <th>MORT_30_STK</th>\n",
       "    </tr>\n",
       "  </thead>\n",
       "  <tbody>\n",
       "    <tr>\n",
       "      <th>0</th>\n",
       "      <td>10001</td>\n",
       "      <td>12.5</td>\n",
       "      <td>4.2</td>\n",
       "      <td>9.3</td>\n",
       "      <td>12.4</td>\n",
       "      <td>15.5</td>\n",
       "      <td>15.4</td>\n",
       "    </tr>\n",
       "    <tr>\n",
       "      <th>1</th>\n",
       "      <td>10005</td>\n",
       "      <td>16.0</td>\n",
       "      <td>NaN</td>\n",
       "      <td>7.6</td>\n",
       "      <td>15.5</td>\n",
       "      <td>20.8</td>\n",
       "      <td>15.5</td>\n",
       "    </tr>\n",
       "    <tr>\n",
       "      <th>2</th>\n",
       "      <td>10006</td>\n",
       "      <td>16.7</td>\n",
       "      <td>4.1</td>\n",
       "      <td>7.1</td>\n",
       "      <td>15.6</td>\n",
       "      <td>18.2</td>\n",
       "      <td>17.9</td>\n",
       "    </tr>\n",
       "    <tr>\n",
       "      <th>3</th>\n",
       "      <td>10007</td>\n",
       "      <td>NaN</td>\n",
       "      <td>NaN</td>\n",
       "      <td>9.3</td>\n",
       "      <td>14.4</td>\n",
       "      <td>18.8</td>\n",
       "      <td>16.6</td>\n",
       "    </tr>\n",
       "    <tr>\n",
       "      <th>4</th>\n",
       "      <td>10008</td>\n",
       "      <td>NaN</td>\n",
       "      <td>NaN</td>\n",
       "      <td>8.2</td>\n",
       "      <td>12.7</td>\n",
       "      <td>15.7</td>\n",
       "      <td>NaN</td>\n",
       "    </tr>\n",
       "  </tbody>\n",
       "</table>\n",
       "</div>"
      ],
      "text/plain": [
       "Measure ID  Provider ID  MORT_30_AMI  MORT_30_CABG  MORT_30_COPD  MORT_30_HF  \\\n",
       "0                 10001         12.5           4.2           9.3        12.4   \n",
       "1                 10005         16.0           NaN           7.6        15.5   \n",
       "2                 10006         16.7           4.1           7.1        15.6   \n",
       "3                 10007          NaN           NaN           9.3        14.4   \n",
       "4                 10008          NaN           NaN           8.2        12.7   \n",
       "\n",
       "Measure ID  MORT_30_PN  MORT_30_STK  \n",
       "0                 15.5         15.4  \n",
       "1                 20.8         15.5  \n",
       "2                 18.2         17.9  \n",
       "3                 18.8         16.6  \n",
       "4                 15.7          NaN  "
      ]
     },
     "execution_count": 228,
     "metadata": {},
     "output_type": "execute_result"
    }
   ],
   "source": [
    "Mortality_df=Mortality_df.pivot_table(values= 'Score', index= 'Provider ID', columns= 'Measure ID')\n",
    "Mortality_df.reset_index(inplace=True)\n",
    "Mortality_df = Mortality_df.rename_axis(None)\n",
    "Mortality_df.head()"
   ]
  },
  {
   "cell_type": "code",
   "execution_count": 229,
   "metadata": {},
   "outputs": [
    {
     "name": "stdout",
     "output_type": "stream",
     "text": [
      "Index(['Provider ID', 'MORT_30_AMI', 'MORT_30_CABG', 'MORT_30_COPD',\n",
      "       'MORT_30_HF', 'MORT_30_PN', 'MORT_30_STK'],\n",
      "      dtype='object', name='Measure ID')\n",
      "(4112, 7)\n"
     ]
    }
   ],
   "source": [
    "print(Mortality_df.columns)\n",
    "print(Mortality_df.shape)"
   ]
  },
  {
   "cell_type": "code",
   "execution_count": 230,
   "metadata": {},
   "outputs": [
    {
     "data": {
      "text/plain": [
       "Measure ID\n",
       "Provider ID      0.00\n",
       "MORT_30_AMI     42.02\n",
       "MORT_30_CABG    74.76\n",
       "MORT_30_COPD    12.79\n",
       "MORT_30_HF      12.14\n",
       "MORT_30_PN       0.75\n",
       "MORT_30_STK     35.02\n",
       "dtype: float64"
      ]
     },
     "execution_count": 230,
     "metadata": {},
     "output_type": "execute_result"
    }
   ],
   "source": [
    "round((Mortality_df.isnull().sum()/Mortality_df.isnull().count())*100,2)"
   ]
  },
  {
   "cell_type": "code",
   "execution_count": 231,
   "metadata": {},
   "outputs": [],
   "source": [
    "Mortality_df.fillna(0, inplace=True)"
   ]
  },
  {
   "cell_type": "code",
   "execution_count": 232,
   "metadata": {},
   "outputs": [],
   "source": [
    "round((Mortality_df.isnull().sum()/Mortality_df.isnull().count())*100,2)\n",
    "Mortality_df_copy= Mortality_df.copy()"
   ]
  },
  {
   "cell_type": "code",
   "execution_count": 233,
   "metadata": {},
   "outputs": [
    {
     "data": {
      "text/plain": [
       "<matplotlib.axes._subplots.AxesSubplot at 0x1b022e76e80>"
      ]
     },
     "execution_count": 233,
     "metadata": {},
     "output_type": "execute_result"
    },
    {
     "data": {
      "image/png": "[encoded data removed]",
      "text/plain": [
       "<Figure size 432x288 with 2 Axes>"
      ]
     },
     "metadata": {
      "needs_background": "light"
     },
     "output_type": "display_data"
    }
   ],
   "source": [
    "sns.heatmap(Mortality_df.corr())"
   ]
  },
  {
   "cell_type": "code",
   "execution_count": 234,
   "metadata": {},
   "outputs": [],
   "source": [
    "# multiplying measure scores with respective weigts(loading coefficients)\n",
    "Mortality_df['MORT_30_PN'] = Mortality_df['MORT_30_PN']*0.66\n",
    "Mortality_df['MORT_30_AMI']= Mortality_df['MORT_30_AMI']*0.48\n",
    "Mortality_df['MORT_30_CABG']= Mortality_df['MORT_30_CABG']*0.35\n",
    "Mortality_df['MORT_30_COPD']= Mortality_df['MORT_30_COPD']*0.62\n",
    "Mortality_df['MORT_30_HF']= Mortality_df['MORT_30_HF']*0.74\n",
    "Mortality_df['MORT_30_STK']= Mortality_df['MORT_30_STK']*0.52"
   ]
  },
  {
   "cell_type": "code",
   "execution_count": 235,
   "metadata": {},
   "outputs": [],
   "source": [
    "# Average of the weighted scores to calculated group score.\n",
    "Mortality_df['Mort_score'] = ((Mortality_df['MORT_30_AMI']+Mortality_df['MORT_30_CABG']+Mortality_df['MORT_30_COPD']+Mortality_df['MORT_30_HF']+Mortality_df['MORT_30_STK']+Mortality_df['MORT_30_PN'])/6)"
   ]
  },
  {
   "cell_type": "code",
   "execution_count": 236,
   "metadata": {},
   "outputs": [
    {
     "data": {
      "text/html": [
       "<div>\n",
       "<style scoped>\n",
       "    .dataframe tbody tr th:only-of-type {\n",
       "        vertical-align: middle;\n",
       "    }\n",
       "\n",
       "    .dataframe tbody tr th {\n",
       "        vertical-align: top;\n",
       "    }\n",
       "\n",
       "    .dataframe thead th {\n",
       "        text-align: right;\n",
       "    }\n",
       "</style>\n",
       "<table border=\"1\" class=\"dataframe\">\n",
       "  <thead>\n",
       "    <tr style=\"text-align: right;\">\n",
       "      <th>Measure ID</th>\n",
       "      <th>Provider ID</th>\n",
       "      <th>MORT_30_AMI</th>\n",
       "      <th>MORT_30_CABG</th>\n",
       "      <th>MORT_30_COPD</th>\n",
       "      <th>MORT_30_HF</th>\n",
       "      <th>MORT_30_PN</th>\n",
       "      <th>MORT_30_STK</th>\n",
       "      <th>Mort_score</th>\n",
       "    </tr>\n",
       "  </thead>\n",
       "  <tbody>\n",
       "    <tr>\n",
       "      <th>0</th>\n",
       "      <td>10001</td>\n",
       "      <td>6.000</td>\n",
       "      <td>1.470</td>\n",
       "      <td>5.766</td>\n",
       "      <td>9.176</td>\n",
       "      <td>10.230</td>\n",
       "      <td>8.008</td>\n",
       "      <td>6.775000</td>\n",
       "    </tr>\n",
       "    <tr>\n",
       "      <th>1</th>\n",
       "      <td>10005</td>\n",
       "      <td>7.680</td>\n",
       "      <td>0.000</td>\n",
       "      <td>4.712</td>\n",
       "      <td>11.470</td>\n",
       "      <td>13.728</td>\n",
       "      <td>8.060</td>\n",
       "      <td>7.608333</td>\n",
       "    </tr>\n",
       "    <tr>\n",
       "      <th>2</th>\n",
       "      <td>10006</td>\n",
       "      <td>8.016</td>\n",
       "      <td>1.435</td>\n",
       "      <td>4.402</td>\n",
       "      <td>11.544</td>\n",
       "      <td>12.012</td>\n",
       "      <td>9.308</td>\n",
       "      <td>7.786167</td>\n",
       "    </tr>\n",
       "    <tr>\n",
       "      <th>3</th>\n",
       "      <td>10007</td>\n",
       "      <td>0.000</td>\n",
       "      <td>0.000</td>\n",
       "      <td>5.766</td>\n",
       "      <td>10.656</td>\n",
       "      <td>12.408</td>\n",
       "      <td>8.632</td>\n",
       "      <td>6.243667</td>\n",
       "    </tr>\n",
       "    <tr>\n",
       "      <th>4</th>\n",
       "      <td>10008</td>\n",
       "      <td>0.000</td>\n",
       "      <td>0.000</td>\n",
       "      <td>5.084</td>\n",
       "      <td>9.398</td>\n",
       "      <td>10.362</td>\n",
       "      <td>0.000</td>\n",
       "      <td>4.140667</td>\n",
       "    </tr>\n",
       "  </tbody>\n",
       "</table>\n",
       "</div>"
      ],
      "text/plain": [
       "Measure ID  Provider ID  MORT_30_AMI  MORT_30_CABG  MORT_30_COPD  MORT_30_HF  \\\n",
       "0                 10001        6.000         1.470         5.766       9.176   \n",
       "1                 10005        7.680         0.000         4.712      11.470   \n",
       "2                 10006        8.016         1.435         4.402      11.544   \n",
       "3                 10007        0.000         0.000         5.766      10.656   \n",
       "4                 10008        0.000         0.000         5.084       9.398   \n",
       "\n",
       "Measure ID  MORT_30_PN  MORT_30_STK  Mort_score  \n",
       "0               10.230        8.008    6.775000  \n",
       "1               13.728        8.060    7.608333  \n",
       "2               12.012        9.308    7.786167  \n",
       "3               12.408        8.632    6.243667  \n",
       "4               10.362        0.000    4.140667  "
      ]
     },
     "execution_count": 236,
     "metadata": {},
     "output_type": "execute_result"
    }
   ],
   "source": [
    "Mortality_df.head()"
   ]
  },
  {
   "cell_type": "code",
   "execution_count": 237,
   "metadata": {},
   "outputs": [
    {
     "data": {
      "text/html": [
       "<div>\n",
       "<style scoped>\n",
       "    .dataframe tbody tr th:only-of-type {\n",
       "        vertical-align: middle;\n",
       "    }\n",
       "\n",
       "    .dataframe tbody tr th {\n",
       "        vertical-align: top;\n",
       "    }\n",
       "\n",
       "    .dataframe thead th {\n",
       "        text-align: right;\n",
       "    }\n",
       "</style>\n",
       "<table border=\"1\" class=\"dataframe\">\n",
       "  <thead>\n",
       "    <tr style=\"text-align: right;\">\n",
       "      <th>Measure ID</th>\n",
       "      <th>Provider ID</th>\n",
       "      <th>MORT_30_AMI</th>\n",
       "      <th>MORT_30_CABG</th>\n",
       "      <th>MORT_30_COPD</th>\n",
       "      <th>MORT_30_HF</th>\n",
       "      <th>MORT_30_PN</th>\n",
       "      <th>MORT_30_STK</th>\n",
       "    </tr>\n",
       "  </thead>\n",
       "  <tbody>\n",
       "    <tr>\n",
       "      <th>0</th>\n",
       "      <td>10001</td>\n",
       "      <td>12.5</td>\n",
       "      <td>4.2</td>\n",
       "      <td>9.3</td>\n",
       "      <td>12.4</td>\n",
       "      <td>15.5</td>\n",
       "      <td>15.4</td>\n",
       "    </tr>\n",
       "    <tr>\n",
       "      <th>1</th>\n",
       "      <td>10005</td>\n",
       "      <td>16.0</td>\n",
       "      <td>0.0</td>\n",
       "      <td>7.6</td>\n",
       "      <td>15.5</td>\n",
       "      <td>20.8</td>\n",
       "      <td>15.5</td>\n",
       "    </tr>\n",
       "    <tr>\n",
       "      <th>2</th>\n",
       "      <td>10006</td>\n",
       "      <td>16.7</td>\n",
       "      <td>4.1</td>\n",
       "      <td>7.1</td>\n",
       "      <td>15.6</td>\n",
       "      <td>18.2</td>\n",
       "      <td>17.9</td>\n",
       "    </tr>\n",
       "    <tr>\n",
       "      <th>3</th>\n",
       "      <td>10007</td>\n",
       "      <td>0.0</td>\n",
       "      <td>0.0</td>\n",
       "      <td>9.3</td>\n",
       "      <td>14.4</td>\n",
       "      <td>18.8</td>\n",
       "      <td>16.6</td>\n",
       "    </tr>\n",
       "    <tr>\n",
       "      <th>4</th>\n",
       "      <td>10008</td>\n",
       "      <td>0.0</td>\n",
       "      <td>0.0</td>\n",
       "      <td>8.2</td>\n",
       "      <td>12.7</td>\n",
       "      <td>15.7</td>\n",
       "      <td>0.0</td>\n",
       "    </tr>\n",
       "  </tbody>\n",
       "</table>\n",
       "</div>"
      ],
      "text/plain": [
       "Measure ID  Provider ID  MORT_30_AMI  MORT_30_CABG  MORT_30_COPD  MORT_30_HF  \\\n",
       "0                 10001         12.5           4.2           9.3        12.4   \n",
       "1                 10005         16.0           0.0           7.6        15.5   \n",
       "2                 10006         16.7           4.1           7.1        15.6   \n",
       "3                 10007          0.0           0.0           9.3        14.4   \n",
       "4                 10008          0.0           0.0           8.2        12.7   \n",
       "\n",
       "Measure ID  MORT_30_PN  MORT_30_STK  \n",
       "0                 15.5         15.4  \n",
       "1                 20.8         15.5  \n",
       "2                 18.2         17.9  \n",
       "3                 18.8         16.6  \n",
       "4                 15.7          0.0  "
      ]
     },
     "execution_count": 237,
     "metadata": {},
     "output_type": "execute_result"
    }
   ],
   "source": [
    "Mortality_df_copy.head()"
   ]
  },
  {
   "cell_type": "code",
   "execution_count": 238,
   "metadata": {},
   "outputs": [
    {
     "name": "stdout",
     "output_type": "stream",
     "text": [
      "Requirement already satisfied: factor_analyzer in c:\\users\\preethi\\anaconda3\\lib\\site-packages (0.3.1)\n",
      "Requirement already satisfied: scikit-learn in c:\\users\\preethi\\anaconda3\\lib\\site-packages (from factor_analyzer) (0.20.3)\n",
      "Requirement already satisfied: numpy in c:\\users\\preethi\\anaconda3\\lib\\site-packages (from factor_analyzer) (1.16.2)\n",
      "Requirement already satisfied: pandas in c:\\users\\preethi\\anaconda3\\lib\\site-packages (from factor_analyzer) (0.24.2)\n",
      "Requirement already satisfied: scipy in c:\\users\\preethi\\anaconda3\\lib\\site-packages (from factor_analyzer) (1.2.1)\n",
      "Requirement already satisfied: python-dateutil>=2.5.0 in c:\\users\\preethi\\anaconda3\\lib\\site-packages (from pandas->factor_analyzer) (2.8.0)\n",
      "Requirement already satisfied: pytz>=2011k in c:\\users\\preethi\\anaconda3\\lib\\site-packages (from pandas->factor_analyzer) (2018.9)\n",
      "Requirement already satisfied: six>=1.5 in c:\\users\\preethi\\anaconda3\\lib\\site-packages (from python-dateutil>=2.5.0->pandas->factor_analyzer) (1.12.0)\n"
     ]
    },
    {
     "data": {
      "text/html": [
       "<div>\n",
       "<style scoped>\n",
       "    .dataframe tbody tr th:only-of-type {\n",
       "        vertical-align: middle;\n",
       "    }\n",
       "\n",
       "    .dataframe tbody tr th {\n",
       "        vertical-align: top;\n",
       "    }\n",
       "\n",
       "    .dataframe thead th {\n",
       "        text-align: right;\n",
       "    }\n",
       "</style>\n",
       "<table border=\"1\" class=\"dataframe\">\n",
       "  <thead>\n",
       "    <tr style=\"text-align: right;\">\n",
       "      <th>Measure ID</th>\n",
       "      <th>MORT_30_AMI</th>\n",
       "      <th>MORT_30_CABG</th>\n",
       "      <th>MORT_30_COPD</th>\n",
       "      <th>MORT_30_HF</th>\n",
       "      <th>MORT_30_PN</th>\n",
       "      <th>MORT_30_STK</th>\n",
       "    </tr>\n",
       "  </thead>\n",
       "  <tbody>\n",
       "    <tr>\n",
       "      <th>0</th>\n",
       "      <td>12.5</td>\n",
       "      <td>4.2</td>\n",
       "      <td>9.3</td>\n",
       "      <td>12.4</td>\n",
       "      <td>15.5</td>\n",
       "      <td>15.4</td>\n",
       "    </tr>\n",
       "    <tr>\n",
       "      <th>1</th>\n",
       "      <td>16.0</td>\n",
       "      <td>0.0</td>\n",
       "      <td>7.6</td>\n",
       "      <td>15.5</td>\n",
       "      <td>20.8</td>\n",
       "      <td>15.5</td>\n",
       "    </tr>\n",
       "    <tr>\n",
       "      <th>2</th>\n",
       "      <td>16.7</td>\n",
       "      <td>4.1</td>\n",
       "      <td>7.1</td>\n",
       "      <td>15.6</td>\n",
       "      <td>18.2</td>\n",
       "      <td>17.9</td>\n",
       "    </tr>\n",
       "    <tr>\n",
       "      <th>3</th>\n",
       "      <td>0.0</td>\n",
       "      <td>0.0</td>\n",
       "      <td>9.3</td>\n",
       "      <td>14.4</td>\n",
       "      <td>18.8</td>\n",
       "      <td>16.6</td>\n",
       "    </tr>\n",
       "    <tr>\n",
       "      <th>4</th>\n",
       "      <td>0.0</td>\n",
       "      <td>0.0</td>\n",
       "      <td>8.2</td>\n",
       "      <td>12.7</td>\n",
       "      <td>15.7</td>\n",
       "      <td>0.0</td>\n",
       "    </tr>\n",
       "  </tbody>\n",
       "</table>\n",
       "</div>"
      ],
      "text/plain": [
       "Measure ID  MORT_30_AMI  MORT_30_CABG  MORT_30_COPD  MORT_30_HF  MORT_30_PN  \\\n",
       "0                  12.5           4.2           9.3        12.4        15.5   \n",
       "1                  16.0           0.0           7.6        15.5        20.8   \n",
       "2                  16.7           4.1           7.1        15.6        18.2   \n",
       "3                   0.0           0.0           9.3        14.4        18.8   \n",
       "4                   0.0           0.0           8.2        12.7        15.7   \n",
       "\n",
       "Measure ID  MORT_30_STK  \n",
       "0                  15.4  \n",
       "1                  15.5  \n",
       "2                  17.9  \n",
       "3                  16.6  \n",
       "4                   0.0  "
      ]
     },
     "execution_count": 238,
     "metadata": {},
     "output_type": "execute_result"
    }
   ],
   "source": [
    "\n",
    "!pip install factor_analyzer\n",
    "from factor_analyzer import FactorAnalyzer\n",
    "\n",
    "Mortality_df_copy.drop(['Provider ID'],axis=1,inplace= True)\n",
    "Mortality_df_copy.head()"
   ]
  },
  {
   "cell_type": "code",
   "execution_count": 240,
   "metadata": {},
   "outputs": [
    {
     "data": {
      "text/html": [
       "<div>\n",
       "<style scoped>\n",
       "    .dataframe tbody tr th:only-of-type {\n",
       "        vertical-align: middle;\n",
       "    }\n",
       "\n",
       "    .dataframe tbody tr th {\n",
       "        vertical-align: top;\n",
       "    }\n",
       "\n",
       "    .dataframe thead th {\n",
       "        text-align: right;\n",
       "    }\n",
       "</style>\n",
       "<table border=\"1\" class=\"dataframe\">\n",
       "  <thead>\n",
       "    <tr style=\"text-align: right;\">\n",
       "      <th>Measure ID</th>\n",
       "      <th>MORT_30_AMI</th>\n",
       "      <th>MORT_30_CABG</th>\n",
       "      <th>MORT_30_COPD</th>\n",
       "      <th>MORT_30_HF</th>\n",
       "      <th>MORT_30_PN</th>\n",
       "      <th>MORT_30_STK</th>\n",
       "    </tr>\n",
       "    <tr>\n",
       "      <th>Measure ID</th>\n",
       "      <th></th>\n",
       "      <th></th>\n",
       "      <th></th>\n",
       "      <th></th>\n",
       "      <th></th>\n",
       "      <th></th>\n",
       "    </tr>\n",
       "  </thead>\n",
       "  <tbody>\n",
       "    <tr>\n",
       "      <th>MORT_30_AMI</th>\n",
       "      <td>1.000000</td>\n",
       "      <td>0.464424</td>\n",
       "      <td>0.405248</td>\n",
       "      <td>0.374594</td>\n",
       "      <td>0.041152</td>\n",
       "      <td>0.730125</td>\n",
       "    </tr>\n",
       "    <tr>\n",
       "      <th>MORT_30_CABG</th>\n",
       "      <td>0.464424</td>\n",
       "      <td>1.000000</td>\n",
       "      <td>0.206148</td>\n",
       "      <td>0.169387</td>\n",
       "      <td>-0.022318</td>\n",
       "      <td>0.387801</td>\n",
       "    </tr>\n",
       "    <tr>\n",
       "      <th>MORT_30_COPD</th>\n",
       "      <td>0.405248</td>\n",
       "      <td>0.206148</td>\n",
       "      <td>1.000000</td>\n",
       "      <td>0.613370</td>\n",
       "      <td>0.163811</td>\n",
       "      <td>0.479700</td>\n",
       "    </tr>\n",
       "    <tr>\n",
       "      <th>MORT_30_HF</th>\n",
       "      <td>0.374594</td>\n",
       "      <td>0.169387</td>\n",
       "      <td>0.613370</td>\n",
       "      <td>1.000000</td>\n",
       "      <td>0.123832</td>\n",
       "      <td>0.446485</td>\n",
       "    </tr>\n",
       "    <tr>\n",
       "      <th>MORT_30_PN</th>\n",
       "      <td>0.041152</td>\n",
       "      <td>-0.022318</td>\n",
       "      <td>0.163811</td>\n",
       "      <td>0.123832</td>\n",
       "      <td>1.000000</td>\n",
       "      <td>0.087540</td>\n",
       "    </tr>\n",
       "    <tr>\n",
       "      <th>MORT_30_STK</th>\n",
       "      <td>0.730125</td>\n",
       "      <td>0.387801</td>\n",
       "      <td>0.479700</td>\n",
       "      <td>0.446485</td>\n",
       "      <td>0.087540</td>\n",
       "      <td>1.000000</td>\n",
       "    </tr>\n",
       "  </tbody>\n",
       "</table>\n",
       "</div>"
      ],
      "text/plain": [
       "Measure ID    MORT_30_AMI  MORT_30_CABG  MORT_30_COPD  MORT_30_HF  MORT_30_PN  \\\n",
       "Measure ID                                                                      \n",
       "MORT_30_AMI      1.000000      0.464424      0.405248    0.374594    0.041152   \n",
       "MORT_30_CABG     0.464424      1.000000      0.206148    0.169387   -0.022318   \n",
       "MORT_30_COPD     0.405248      0.206148      1.000000    0.613370    0.163811   \n",
       "MORT_30_HF       0.374594      0.169387      0.613370    1.000000    0.123832   \n",
       "MORT_30_PN       0.041152     -0.022318      0.163811    0.123832    1.000000   \n",
       "MORT_30_STK      0.730125      0.387801      0.479700    0.446485    0.087540   \n",
       "\n",
       "Measure ID    MORT_30_STK  \n",
       "Measure ID                 \n",
       "MORT_30_AMI      0.730125  \n",
       "MORT_30_CABG     0.387801  \n",
       "MORT_30_COPD     0.479700  \n",
       "MORT_30_HF       0.446485  \n",
       "MORT_30_PN       0.087540  \n",
       "MORT_30_STK      1.000000  "
      ]
     },
     "execution_count": 240,
     "metadata": {},
     "output_type": "execute_result"
    }
   ],
   "source": [
    "Mortality_df_copy.corr()"
   ]
  },
  {
   "cell_type": "code",
   "execution_count": 241,
   "metadata": {},
   "outputs": [
    {
     "data": {
      "text/plain": [
       "<matplotlib.axes._subplots.AxesSubplot at 0x1b022ec0550>"
      ]
     },
     "execution_count": 241,
     "metadata": {},
     "output_type": "execute_result"
    },
    {
     "data": {
      "image/png": "[encoded data removed]",
      "text/plain": [
       "<Figure size 432x288 with 2 Axes>"
      ]
     },
     "metadata": {
      "needs_background": "light"
     },
     "output_type": "display_data"
    }
   ],
   "source": [
    "sns.heatmap(Mortality_df_copy.corr())"
   ]
  },
  {
   "cell_type": "code",
   "execution_count": 242,
   "metadata": {},
   "outputs": [
    {
     "data": {
      "text/plain": [
       "array([2.77035728, 1.12944864, 0.86642182, 0.59163204, 0.38347308,\n",
       "       0.25866713])"
      ]
     },
     "execution_count": 242,
     "metadata": {},
     "output_type": "execute_result"
    }
   ],
   "source": [
    "# #Let's check the eigenvalues route as well to find the number of factors\n",
    "# # Create factor analysis object and perform factor analysis with the number of factors equal to the number of columns\n",
    "# fa = FactorAnalyzer(rotation = 'varimax',n_factors=6)\n",
    "# fa.fit(Mortality_df_copy)\n",
    "# # Check Eigenvalues which are greater than 1\n",
    "# ev, v = fa.get_eigenvalues()\n",
    "# ev"
   ]
  },
  {
   "cell_type": "code",
   "execution_count": 243,
   "metadata": {},
   "outputs": [
    {
     "data": {
      "text/plain": [
       "(array([1.69611739, 1.19751192, 0.26198497, 0.08543399, 0.01105035,\n",
       "        0.        ]),\n",
       " array([0.28268623, 0.19958532, 0.04366416, 0.014239  , 0.00184173,\n",
       "        0.        ]),\n",
       " array([0.28268623, 0.48227155, 0.52593571, 0.54017471, 0.54201644,\n",
       "        0.54201644]))"
      ]
     },
     "execution_count": 243,
     "metadata": {},
     "output_type": "execute_result"
    }
   ],
   "source": [
    "# #let's check the factor variance now to understand \n",
    "# fa.get_factor_variance()"
   ]
  },
  {
   "cell_type": "code",
   "execution_count": 249,
   "metadata": {},
   "outputs": [],
   "source": [
    "Mortality_meandf= pd.DataFrame(Mortality_df_copy.mean())"
   ]
  },
  {
   "cell_type": "code",
   "execution_count": 265,
   "metadata": {},
   "outputs": [],
   "source": [
    "Mortality_meandf['index1'] = Mortality_meandf.index"
   ]
  },
  {
   "cell_type": "code",
   "execution_count": 274,
   "metadata": {},
   "outputs": [
    {
     "data": {
      "text/html": [
       "<div>\n",
       "<style scoped>\n",
       "    .dataframe tbody tr th:only-of-type {\n",
       "        vertical-align: middle;\n",
       "    }\n",
       "\n",
       "    .dataframe tbody tr th {\n",
       "        vertical-align: top;\n",
       "    }\n",
       "\n",
       "    .dataframe thead th {\n",
       "        text-align: right;\n",
       "    }\n",
       "</style>\n",
       "<table border=\"1\" class=\"dataframe\">\n",
       "  <thead>\n",
       "    <tr style=\"text-align: right;\">\n",
       "      <th></th>\n",
       "      <th>mean</th>\n",
       "      <th>Measures</th>\n",
       "    </tr>\n",
       "  </thead>\n",
       "  <tbody>\n",
       "    <tr>\n",
       "      <th>MORT_30_AMI</th>\n",
       "      <td>8.152262</td>\n",
       "      <td>MORT_30_AMI</td>\n",
       "    </tr>\n",
       "    <tr>\n",
       "      <th>MORT_30_CABG</th>\n",
       "      <td>0.841002</td>\n",
       "      <td>MORT_30_CABG</td>\n",
       "    </tr>\n",
       "    <tr>\n",
       "      <th>MORT_30_COPD</th>\n",
       "      <td>7.048030</td>\n",
       "      <td>MORT_30_COPD</td>\n",
       "    </tr>\n",
       "    <tr>\n",
       "      <th>MORT_30_HF</th>\n",
       "      <td>10.681566</td>\n",
       "      <td>MORT_30_HF</td>\n",
       "    </tr>\n",
       "    <tr>\n",
       "      <th>MORT_30_PN</th>\n",
       "      <td>16.267121</td>\n",
       "      <td>MORT_30_PN</td>\n",
       "    </tr>\n",
       "    <tr>\n",
       "      <th>MORT_30_STK</th>\n",
       "      <td>9.701921</td>\n",
       "      <td>MORT_30_STK</td>\n",
       "    </tr>\n",
       "  </tbody>\n",
       "</table>\n",
       "</div>"
      ],
      "text/plain": [
       "                   mean      Measures\n",
       "MORT_30_AMI    8.152262   MORT_30_AMI\n",
       "MORT_30_CABG   0.841002  MORT_30_CABG\n",
       "MORT_30_COPD   7.048030  MORT_30_COPD\n",
       "MORT_30_HF    10.681566    MORT_30_HF\n",
       "MORT_30_PN    16.267121    MORT_30_PN\n",
       "MORT_30_STK    9.701921   MORT_30_STK"
      ]
     },
     "execution_count": 274,
     "metadata": {},
     "output_type": "execute_result"
    }
   ],
   "source": [
    "Mortality_meandf = Mortality_meandf.rename_axis(None)\n",
    "Mortality_meandf.rename(columns={'index1':'Measures',0:'mean'},inplace=True)\n",
    "Mortality_meandf"
   ]
  },
  {
   "cell_type": "code",
   "execution_count": 278,
   "metadata": {},
   "outputs": [
    {
     "data": {
      "image/png": "[encoded data removed]",
      "text/plain": [
       "<Figure size 720x288 with 1 Axes>"
      ]
     },
     "metadata": {
      "needs_background": "light"
     },
     "output_type": "display_data"
    }
   ],
   "source": [
    "plt.figure(figsize=(10, 4))\n",
    "ax = sns.barplot(y='mean', x='Measures', data=Mortality_meandf)"
   ]
  },
  {
   "cell_type": "markdown",
   "metadata": {},
   "source": [
    "## Readmission measures:"
   ]
  },
  {
   "cell_type": "code",
   "execution_count": 281,
   "metadata": {},
   "outputs": [
    {
     "data": {
      "text/plain": [
       "array(['MORT_30_AMI', 'MORT_30_CABG', 'MORT_30_COPD', 'MORT_30_HF',\n",
       "       'MORT_30_PN', 'MORT_30_STK', 'READM_30_AMI', 'READM_30_CABG',\n",
       "       'READM_30_COPD', 'READM_30_HF', 'READM_30_HIP_KNEE',\n",
       "       'READM_30_HOSP_WIDE', 'READM_30_PN', 'READM_30_STK'], dtype=object)"
      ]
     },
     "execution_count": 281,
     "metadata": {},
     "output_type": "execute_result"
    }
   ],
   "source": [
    "Mort_read_df['Measure ID'].unique()"
   ]
  },
  {
   "cell_type": "code",
   "execution_count": 356,
   "metadata": {},
   "outputs": [],
   "source": [
    "Readmission_df = Mort_read_df[Mort_read_df['Measure ID'].str.contains(\"READM\")]"
   ]
  },
  {
   "cell_type": "code",
   "execution_count": 357,
   "metadata": {},
   "outputs": [
    {
     "data": {
      "text/html": [
       "<div>\n",
       "<style scoped>\n",
       "    .dataframe tbody tr th:only-of-type {\n",
       "        vertical-align: middle;\n",
       "    }\n",
       "\n",
       "    .dataframe tbody tr th {\n",
       "        vertical-align: top;\n",
       "    }\n",
       "\n",
       "    .dataframe thead th {\n",
       "        text-align: right;\n",
       "    }\n",
       "</style>\n",
       "<table border=\"1\" class=\"dataframe\">\n",
       "  <thead>\n",
       "    <tr style=\"text-align: right;\">\n",
       "      <th></th>\n",
       "      <th>Provider ID</th>\n",
       "      <th>Measure ID</th>\n",
       "      <th>Score</th>\n",
       "    </tr>\n",
       "  </thead>\n",
       "  <tbody>\n",
       "    <tr>\n",
       "      <th>6</th>\n",
       "      <td>10001</td>\n",
       "      <td>READM_30_AMI</td>\n",
       "      <td>16.5</td>\n",
       "    </tr>\n",
       "    <tr>\n",
       "      <th>7</th>\n",
       "      <td>10001</td>\n",
       "      <td>READM_30_CABG</td>\n",
       "      <td>15.1</td>\n",
       "    </tr>\n",
       "    <tr>\n",
       "      <th>8</th>\n",
       "      <td>10001</td>\n",
       "      <td>READM_30_COPD</td>\n",
       "      <td>21.1</td>\n",
       "    </tr>\n",
       "    <tr>\n",
       "      <th>9</th>\n",
       "      <td>10001</td>\n",
       "      <td>READM_30_HF</td>\n",
       "      <td>21.4</td>\n",
       "    </tr>\n",
       "    <tr>\n",
       "      <th>10</th>\n",
       "      <td>10001</td>\n",
       "      <td>READM_30_HIP_KNEE</td>\n",
       "      <td>5.1</td>\n",
       "    </tr>\n",
       "  </tbody>\n",
       "</table>\n",
       "</div>"
      ],
      "text/plain": [
       "    Provider ID         Measure ID  Score\n",
       "6         10001       READM_30_AMI   16.5\n",
       "7         10001      READM_30_CABG   15.1\n",
       "8         10001      READM_30_COPD   21.1\n",
       "9         10001        READM_30_HF   21.4\n",
       "10        10001  READM_30_HIP_KNEE    5.1"
      ]
     },
     "execution_count": 357,
     "metadata": {},
     "output_type": "execute_result"
    }
   ],
   "source": [
    "Readmission_df.head()"
   ]
  },
  {
   "cell_type": "code",
   "execution_count": 358,
   "metadata": {},
   "outputs": [
    {
     "data": {
      "text/html": [
       "<div>\n",
       "<style scoped>\n",
       "    .dataframe tbody tr th:only-of-type {\n",
       "        vertical-align: middle;\n",
       "    }\n",
       "\n",
       "    .dataframe tbody tr th {\n",
       "        vertical-align: top;\n",
       "    }\n",
       "\n",
       "    .dataframe thead th {\n",
       "        text-align: right;\n",
       "    }\n",
       "</style>\n",
       "<table border=\"1\" class=\"dataframe\">\n",
       "  <thead>\n",
       "    <tr style=\"text-align: right;\">\n",
       "      <th>Measure ID</th>\n",
       "      <th>Provider ID</th>\n",
       "      <th>READM_30_AMI</th>\n",
       "      <th>READM_30_CABG</th>\n",
       "      <th>READM_30_COPD</th>\n",
       "      <th>READM_30_HF</th>\n",
       "      <th>READM_30_HIP_KNEE</th>\n",
       "      <th>READM_30_HOSP_WIDE</th>\n",
       "      <th>READM_30_PN</th>\n",
       "      <th>READM_30_STK</th>\n",
       "    </tr>\n",
       "  </thead>\n",
       "  <tbody>\n",
       "    <tr>\n",
       "      <th>0</th>\n",
       "      <td>10001</td>\n",
       "      <td>16.5</td>\n",
       "      <td>15.1</td>\n",
       "      <td>21.1</td>\n",
       "      <td>21.4</td>\n",
       "      <td>5.1</td>\n",
       "      <td>15.4</td>\n",
       "      <td>18.7</td>\n",
       "      <td>12.7</td>\n",
       "    </tr>\n",
       "    <tr>\n",
       "      <th>1</th>\n",
       "      <td>10005</td>\n",
       "      <td>16.7</td>\n",
       "      <td>NaN</td>\n",
       "      <td>18.0</td>\n",
       "      <td>21.9</td>\n",
       "      <td>5.7</td>\n",
       "      <td>14.9</td>\n",
       "      <td>16.4</td>\n",
       "      <td>13.4</td>\n",
       "    </tr>\n",
       "    <tr>\n",
       "      <th>2</th>\n",
       "      <td>10006</td>\n",
       "      <td>16.1</td>\n",
       "      <td>15.2</td>\n",
       "      <td>19.8</td>\n",
       "      <td>20.6</td>\n",
       "      <td>5.0</td>\n",
       "      <td>15.4</td>\n",
       "      <td>17.9</td>\n",
       "      <td>12.0</td>\n",
       "    </tr>\n",
       "    <tr>\n",
       "      <th>3</th>\n",
       "      <td>10007</td>\n",
       "      <td>NaN</td>\n",
       "      <td>NaN</td>\n",
       "      <td>19.9</td>\n",
       "      <td>21.1</td>\n",
       "      <td>NaN</td>\n",
       "      <td>16.6</td>\n",
       "      <td>17.3</td>\n",
       "      <td>12.7</td>\n",
       "    </tr>\n",
       "    <tr>\n",
       "      <th>4</th>\n",
       "      <td>10008</td>\n",
       "      <td>NaN</td>\n",
       "      <td>NaN</td>\n",
       "      <td>19.2</td>\n",
       "      <td>23.1</td>\n",
       "      <td>NaN</td>\n",
       "      <td>15.7</td>\n",
       "      <td>16.0</td>\n",
       "      <td>NaN</td>\n",
       "    </tr>\n",
       "  </tbody>\n",
       "</table>\n",
       "</div>"
      ],
      "text/plain": [
       "Measure ID  Provider ID  READM_30_AMI  READM_30_CABG  READM_30_COPD  \\\n",
       "0                 10001          16.5           15.1           21.1   \n",
       "1                 10005          16.7            NaN           18.0   \n",
       "2                 10006          16.1           15.2           19.8   \n",
       "3                 10007           NaN            NaN           19.9   \n",
       "4                 10008           NaN            NaN           19.2   \n",
       "\n",
       "Measure ID  READM_30_HF  READM_30_HIP_KNEE  READM_30_HOSP_WIDE  READM_30_PN  \\\n",
       "0                  21.4                5.1                15.4         18.7   \n",
       "1                  21.9                5.7                14.9         16.4   \n",
       "2                  20.6                5.0                15.4         17.9   \n",
       "3                  21.1                NaN                16.6         17.3   \n",
       "4                  23.1                NaN                15.7         16.0   \n",
       "\n",
       "Measure ID  READM_30_STK  \n",
       "0                   12.7  \n",
       "1                   13.4  \n",
       "2                   12.0  \n",
       "3                   12.7  \n",
       "4                    NaN  "
      ]
     },
     "execution_count": 358,
     "metadata": {},
     "output_type": "execute_result"
    }
   ],
   "source": [
    "Readmission_df=Readmission_df.pivot_table(values= 'Score', index= 'Provider ID', columns= 'Measure ID')\n",
    "Readmission_df.reset_index(inplace=True)\n",
    "Readmission_df = Readmission_df.rename_axis(None)\n",
    "\n",
    "Readmission_df.head()"
   ]
  },
  {
   "cell_type": "code",
   "execution_count": 359,
   "metadata": {},
   "outputs": [],
   "source": [
    "Readmission_df.fillna(0, inplace=True)"
   ]
  },
  {
   "cell_type": "code",
   "execution_count": 360,
   "metadata": {},
   "outputs": [
    {
     "data": {
      "text/plain": [
       "<matplotlib.axes._subplots.AxesSubplot at 0x1b02270de48>"
      ]
     },
     "execution_count": 360,
     "metadata": {},
     "output_type": "execute_result"
    },
    {
     "data": {
      "image/png": "[encoded data removed]",
      "text/plain": [
       "<Figure size 432x288 with 2 Axes>"
      ]
     },
     "metadata": {
      "needs_background": "light"
     },
     "output_type": "display_data"
    }
   ],
   "source": [
    "sns.heatmap(Readmission_df.corr())"
   ]
  },
  {
   "cell_type": "code",
   "execution_count": 346,
   "metadata": {},
   "outputs": [],
   "source": [
    "Readmission_meandf= Readmission_df.drop(['Provider ID'],axis=1,inplace=True)"
   ]
  },
  {
   "cell_type": "code",
   "execution_count": 347,
   "metadata": {},
   "outputs": [],
   "source": [
    "Readmission_meandf= pd.DataFrame(Readmission_df.mean())\n",
    "Readmission_meandf['index1'] = Readmission_meandf.index"
   ]
  },
  {
   "cell_type": "code",
   "execution_count": 348,
   "metadata": {},
   "outputs": [
    {
     "data": {
      "text/html": [
       "<div>\n",
       "<style scoped>\n",
       "    .dataframe tbody tr th:only-of-type {\n",
       "        vertical-align: middle;\n",
       "    }\n",
       "\n",
       "    .dataframe tbody tr th {\n",
       "        vertical-align: top;\n",
       "    }\n",
       "\n",
       "    .dataframe thead th {\n",
       "        text-align: right;\n",
       "    }\n",
       "</style>\n",
       "<table border=\"1\" class=\"dataframe\">\n",
       "  <thead>\n",
       "    <tr style=\"text-align: right;\">\n",
       "      <th></th>\n",
       "      <th>mean</th>\n",
       "      <th>Measures</th>\n",
       "    </tr>\n",
       "  </thead>\n",
       "  <tbody>\n",
       "    <tr>\n",
       "      <th>READM_30_AMI</th>\n",
       "      <td>8.282520</td>\n",
       "      <td>READM_30_AMI</td>\n",
       "    </tr>\n",
       "    <tr>\n",
       "      <th>READM_30_CABG</th>\n",
       "      <td>3.358933</td>\n",
       "      <td>READM_30_CABG</td>\n",
       "    </tr>\n",
       "    <tr>\n",
       "      <th>READM_30_COPD</th>\n",
       "      <td>16.525516</td>\n",
       "      <td>READM_30_COPD</td>\n",
       "    </tr>\n",
       "    <tr>\n",
       "      <th>READM_30_HF</th>\n",
       "      <td>18.161090</td>\n",
       "      <td>READM_30_HF</td>\n",
       "    </tr>\n",
       "    <tr>\n",
       "      <th>READM_30_HIP_KNEE</th>\n",
       "      <td>2.856300</td>\n",
       "      <td>READM_30_HIP_KNEE</td>\n",
       "    </tr>\n",
       "    <tr>\n",
       "      <th>READM_30_HOSP_WIDE</th>\n",
       "      <td>15.506810</td>\n",
       "      <td>READM_30_HOSP_WIDE</td>\n",
       "    </tr>\n",
       "    <tr>\n",
       "      <th>READM_30_PN</th>\n",
       "      <td>15.857117</td>\n",
       "      <td>READM_30_PN</td>\n",
       "    </tr>\n",
       "    <tr>\n",
       "      <th>READM_30_STK</th>\n",
       "      <td>7.428468</td>\n",
       "      <td>READM_30_STK</td>\n",
       "    </tr>\n",
       "  </tbody>\n",
       "</table>\n",
       "</div>"
      ],
      "text/plain": [
       "                         mean            Measures\n",
       "READM_30_AMI         8.282520        READM_30_AMI\n",
       "READM_30_CABG        3.358933       READM_30_CABG\n",
       "READM_30_COPD       16.525516       READM_30_COPD\n",
       "READM_30_HF         18.161090         READM_30_HF\n",
       "READM_30_HIP_KNEE    2.856300   READM_30_HIP_KNEE\n",
       "READM_30_HOSP_WIDE  15.506810  READM_30_HOSP_WIDE\n",
       "READM_30_PN         15.857117         READM_30_PN\n",
       "READM_30_STK         7.428468        READM_30_STK"
      ]
     },
     "execution_count": 348,
     "metadata": {},
     "output_type": "execute_result"
    }
   ],
   "source": [
    "Readmission_meandf = Readmission_meandf.rename_axis(None)\n",
    "Readmission_meandf.rename(columns={'index1':'Measures',0:'mean'},inplace=True)\n",
    "Readmission_meandf"
   ]
  },
  {
   "cell_type": "code",
   "execution_count": 349,
   "metadata": {},
   "outputs": [
    {
     "data": {
      "image/png": "[encoded data removed]",
      "text/plain": [
       "<Figure size 1224x288 with 1 Axes>"
      ]
     },
     "metadata": {
      "needs_background": "light"
     },
     "output_type": "display_data"
    }
   ],
   "source": [
    "plt.figure(figsize=(17, 4))\n",
    "ax = sns.barplot(y='mean', x='Measures', data=Readmission_meandf)"
   ]
  },
  {
   "cell_type": "code",
   "execution_count": 350,
   "metadata": {},
   "outputs": [],
   "source": [
    "# calculating weights using loading coefficients:  READM_30_HOSP_WIDE= 0.94, READM_30_HF= 0.63,  READM_30_PN= 0.61, \n",
    "# READM_30_COPD= 0.57, READM_30_AMI= 0.54, READM_30_STK= 0.53, READM_30_HIP_KNEE= 0.42, READM_30_CABG= 0.27"
   ]
  },
  {
   "cell_type": "code",
   "execution_count": 351,
   "metadata": {},
   "outputs": [
    {
     "data": {
      "text/html": [
       "<div>\n",
       "<style scoped>\n",
       "    .dataframe tbody tr th:only-of-type {\n",
       "        vertical-align: middle;\n",
       "    }\n",
       "\n",
       "    .dataframe tbody tr th {\n",
       "        vertical-align: top;\n",
       "    }\n",
       "\n",
       "    .dataframe thead th {\n",
       "        text-align: right;\n",
       "    }\n",
       "</style>\n",
       "<table border=\"1\" class=\"dataframe\">\n",
       "  <thead>\n",
       "    <tr style=\"text-align: right;\">\n",
       "      <th>Measure ID</th>\n",
       "      <th>READM_30_AMI</th>\n",
       "      <th>READM_30_CABG</th>\n",
       "      <th>READM_30_COPD</th>\n",
       "      <th>READM_30_HF</th>\n",
       "      <th>READM_30_HIP_KNEE</th>\n",
       "      <th>READM_30_HOSP_WIDE</th>\n",
       "      <th>READM_30_PN</th>\n",
       "      <th>READM_30_STK</th>\n",
       "    </tr>\n",
       "  </thead>\n",
       "  <tbody>\n",
       "    <tr>\n",
       "      <th>0</th>\n",
       "      <td>16.5</td>\n",
       "      <td>15.1</td>\n",
       "      <td>21.1</td>\n",
       "      <td>21.4</td>\n",
       "      <td>5.1</td>\n",
       "      <td>15.4</td>\n",
       "      <td>18.7</td>\n",
       "      <td>12.7</td>\n",
       "    </tr>\n",
       "    <tr>\n",
       "      <th>1</th>\n",
       "      <td>16.7</td>\n",
       "      <td>0.0</td>\n",
       "      <td>18.0</td>\n",
       "      <td>21.9</td>\n",
       "      <td>5.7</td>\n",
       "      <td>14.9</td>\n",
       "      <td>16.4</td>\n",
       "      <td>13.4</td>\n",
       "    </tr>\n",
       "    <tr>\n",
       "      <th>2</th>\n",
       "      <td>16.1</td>\n",
       "      <td>15.2</td>\n",
       "      <td>19.8</td>\n",
       "      <td>20.6</td>\n",
       "      <td>5.0</td>\n",
       "      <td>15.4</td>\n",
       "      <td>17.9</td>\n",
       "      <td>12.0</td>\n",
       "    </tr>\n",
       "    <tr>\n",
       "      <th>3</th>\n",
       "      <td>0.0</td>\n",
       "      <td>0.0</td>\n",
       "      <td>19.9</td>\n",
       "      <td>21.1</td>\n",
       "      <td>0.0</td>\n",
       "      <td>16.6</td>\n",
       "      <td>17.3</td>\n",
       "      <td>12.7</td>\n",
       "    </tr>\n",
       "    <tr>\n",
       "      <th>4</th>\n",
       "      <td>0.0</td>\n",
       "      <td>0.0</td>\n",
       "      <td>19.2</td>\n",
       "      <td>23.1</td>\n",
       "      <td>0.0</td>\n",
       "      <td>15.7</td>\n",
       "      <td>16.0</td>\n",
       "      <td>0.0</td>\n",
       "    </tr>\n",
       "  </tbody>\n",
       "</table>\n",
       "</div>"
      ],
      "text/plain": [
       "Measure ID  READM_30_AMI  READM_30_CABG  READM_30_COPD  READM_30_HF  \\\n",
       "0                   16.5           15.1           21.1         21.4   \n",
       "1                   16.7            0.0           18.0         21.9   \n",
       "2                   16.1           15.2           19.8         20.6   \n",
       "3                    0.0            0.0           19.9         21.1   \n",
       "4                    0.0            0.0           19.2         23.1   \n",
       "\n",
       "Measure ID  READM_30_HIP_KNEE  READM_30_HOSP_WIDE  READM_30_PN  READM_30_STK  \n",
       "0                         5.1                15.4         18.7          12.7  \n",
       "1                         5.7                14.9         16.4          13.4  \n",
       "2                         5.0                15.4         17.9          12.0  \n",
       "3                         0.0                16.6         17.3          12.7  \n",
       "4                         0.0                15.7         16.0           0.0  "
      ]
     },
     "execution_count": 351,
     "metadata": {},
     "output_type": "execute_result"
    }
   ],
   "source": [
    "Readmission_df.head()"
   ]
  },
  {
   "cell_type": "code",
   "execution_count": 352,
   "metadata": {},
   "outputs": [],
   "source": [
    "# multiplying measure scores with respective weigts(loading coefficients)\n",
    "Readmission_df['READM_30_AMI'],Readmission_df['READM_30_CABG'],Readmission_df['READM_30_COPD']= Readmission_df['READM_30_AMI']*0.54,Readmission_df['READM_30_CABG']*0.27,Readmission_df['READM_30_COPD']*0.57\n",
    "Readmission_df['READM_30_HF'],Readmission_df['READM_30_HIP_KNEE'],Readmission_df['READM_30_HOSP_WIDE']= Readmission_df['READM_30_HF']*0.63,Readmission_df['READM_30_HIP_KNEE']*0.42,Readmission_df['READM_30_HOSP_WIDE']*0.94\n",
    "Readmission_df['READM_30_PN'],Readmission_df['READM_30_STK']= Readmission_df['READM_30_PN']*0.61,Readmission_df['READM_30_STK']*0.53"
   ]
  },
  {
   "cell_type": "code",
   "execution_count": 353,
   "metadata": {},
   "outputs": [
    {
     "data": {
      "text/html": [
       "<div>\n",
       "<style scoped>\n",
       "    .dataframe tbody tr th:only-of-type {\n",
       "        vertical-align: middle;\n",
       "    }\n",
       "\n",
       "    .dataframe tbody tr th {\n",
       "        vertical-align: top;\n",
       "    }\n",
       "\n",
       "    .dataframe thead th {\n",
       "        text-align: right;\n",
       "    }\n",
       "</style>\n",
       "<table border=\"1\" class=\"dataframe\">\n",
       "  <thead>\n",
       "    <tr style=\"text-align: right;\">\n",
       "      <th>Measure ID</th>\n",
       "      <th>READM_30_AMI</th>\n",
       "      <th>READM_30_CABG</th>\n",
       "      <th>READM_30_COPD</th>\n",
       "      <th>READM_30_HF</th>\n",
       "      <th>READM_30_HIP_KNEE</th>\n",
       "      <th>READM_30_HOSP_WIDE</th>\n",
       "      <th>READM_30_PN</th>\n",
       "      <th>READM_30_STK</th>\n",
       "    </tr>\n",
       "  </thead>\n",
       "  <tbody>\n",
       "    <tr>\n",
       "      <th>0</th>\n",
       "      <td>8.910</td>\n",
       "      <td>4.077</td>\n",
       "      <td>12.027</td>\n",
       "      <td>13.482</td>\n",
       "      <td>2.142</td>\n",
       "      <td>14.476</td>\n",
       "      <td>11.407</td>\n",
       "      <td>6.731</td>\n",
       "    </tr>\n",
       "    <tr>\n",
       "      <th>1</th>\n",
       "      <td>9.018</td>\n",
       "      <td>0.000</td>\n",
       "      <td>10.260</td>\n",
       "      <td>13.797</td>\n",
       "      <td>2.394</td>\n",
       "      <td>14.006</td>\n",
       "      <td>10.004</td>\n",
       "      <td>7.102</td>\n",
       "    </tr>\n",
       "    <tr>\n",
       "      <th>2</th>\n",
       "      <td>8.694</td>\n",
       "      <td>4.104</td>\n",
       "      <td>11.286</td>\n",
       "      <td>12.978</td>\n",
       "      <td>2.100</td>\n",
       "      <td>14.476</td>\n",
       "      <td>10.919</td>\n",
       "      <td>6.360</td>\n",
       "    </tr>\n",
       "    <tr>\n",
       "      <th>3</th>\n",
       "      <td>0.000</td>\n",
       "      <td>0.000</td>\n",
       "      <td>11.343</td>\n",
       "      <td>13.293</td>\n",
       "      <td>0.000</td>\n",
       "      <td>15.604</td>\n",
       "      <td>10.553</td>\n",
       "      <td>6.731</td>\n",
       "    </tr>\n",
       "    <tr>\n",
       "      <th>4</th>\n",
       "      <td>0.000</td>\n",
       "      <td>0.000</td>\n",
       "      <td>10.944</td>\n",
       "      <td>14.553</td>\n",
       "      <td>0.000</td>\n",
       "      <td>14.758</td>\n",
       "      <td>9.760</td>\n",
       "      <td>0.000</td>\n",
       "    </tr>\n",
       "  </tbody>\n",
       "</table>\n",
       "</div>"
      ],
      "text/plain": [
       "Measure ID  READM_30_AMI  READM_30_CABG  READM_30_COPD  READM_30_HF  \\\n",
       "0                  8.910          4.077         12.027       13.482   \n",
       "1                  9.018          0.000         10.260       13.797   \n",
       "2                  8.694          4.104         11.286       12.978   \n",
       "3                  0.000          0.000         11.343       13.293   \n",
       "4                  0.000          0.000         10.944       14.553   \n",
       "\n",
       "Measure ID  READM_30_HIP_KNEE  READM_30_HOSP_WIDE  READM_30_PN  READM_30_STK  \n",
       "0                       2.142              14.476       11.407         6.731  \n",
       "1                       2.394              14.006       10.004         7.102  \n",
       "2                       2.100              14.476       10.919         6.360  \n",
       "3                       0.000              15.604       10.553         6.731  \n",
       "4                       0.000              14.758        9.760         0.000  "
      ]
     },
     "execution_count": 353,
     "metadata": {},
     "output_type": "execute_result"
    }
   ],
   "source": [
    "Readmission_df.head()"
   ]
  },
  {
   "cell_type": "code",
   "execution_count": 354,
   "metadata": {},
   "outputs": [],
   "source": [
    "# Average of the weighted scores to calculated group score\n",
    "Readmission_df['Readmission_score']= (Readmission_df['READM_30_AMI']+Readmission_df['READM_30_CABG']+Readmission_df['READM_30_COPD']+Readmission_df['READM_30_HF']+Readmission_df['READM_30_HIP_KNEE']+Readmission_df['READM_30_HOSP_WIDE']+Readmission_df['READM_30_PN']+Readmission_df['READM_30_STK'])/8"
   ]
  },
  {
   "cell_type": "code",
   "execution_count": 355,
   "metadata": {},
   "outputs": [
    {
     "data": {
      "text/html": [
       "<div>\n",
       "<style scoped>\n",
       "    .dataframe tbody tr th:only-of-type {\n",
       "        vertical-align: middle;\n",
       "    }\n",
       "\n",
       "    .dataframe tbody tr th {\n",
       "        vertical-align: top;\n",
       "    }\n",
       "\n",
       "    .dataframe thead th {\n",
       "        text-align: right;\n",
       "    }\n",
       "</style>\n",
       "<table border=\"1\" class=\"dataframe\">\n",
       "  <thead>\n",
       "    <tr style=\"text-align: right;\">\n",
       "      <th>Measure ID</th>\n",
       "      <th>READM_30_AMI</th>\n",
       "      <th>READM_30_CABG</th>\n",
       "      <th>READM_30_COPD</th>\n",
       "      <th>READM_30_HF</th>\n",
       "      <th>READM_30_HIP_KNEE</th>\n",
       "      <th>READM_30_HOSP_WIDE</th>\n",
       "      <th>READM_30_PN</th>\n",
       "      <th>READM_30_STK</th>\n",
       "      <th>Readmission_score</th>\n",
       "    </tr>\n",
       "  </thead>\n",
       "  <tbody>\n",
       "    <tr>\n",
       "      <th>0</th>\n",
       "      <td>8.910</td>\n",
       "      <td>4.077</td>\n",
       "      <td>12.027</td>\n",
       "      <td>13.482</td>\n",
       "      <td>2.142</td>\n",
       "      <td>14.476</td>\n",
       "      <td>11.407</td>\n",
       "      <td>6.731</td>\n",
       "      <td>9.156500</td>\n",
       "    </tr>\n",
       "    <tr>\n",
       "      <th>1</th>\n",
       "      <td>9.018</td>\n",
       "      <td>0.000</td>\n",
       "      <td>10.260</td>\n",
       "      <td>13.797</td>\n",
       "      <td>2.394</td>\n",
       "      <td>14.006</td>\n",
       "      <td>10.004</td>\n",
       "      <td>7.102</td>\n",
       "      <td>8.322625</td>\n",
       "    </tr>\n",
       "    <tr>\n",
       "      <th>2</th>\n",
       "      <td>8.694</td>\n",
       "      <td>4.104</td>\n",
       "      <td>11.286</td>\n",
       "      <td>12.978</td>\n",
       "      <td>2.100</td>\n",
       "      <td>14.476</td>\n",
       "      <td>10.919</td>\n",
       "      <td>6.360</td>\n",
       "      <td>8.864625</td>\n",
       "    </tr>\n",
       "    <tr>\n",
       "      <th>3</th>\n",
       "      <td>0.000</td>\n",
       "      <td>0.000</td>\n",
       "      <td>11.343</td>\n",
       "      <td>13.293</td>\n",
       "      <td>0.000</td>\n",
       "      <td>15.604</td>\n",
       "      <td>10.553</td>\n",
       "      <td>6.731</td>\n",
       "      <td>7.190500</td>\n",
       "    </tr>\n",
       "    <tr>\n",
       "      <th>4</th>\n",
       "      <td>0.000</td>\n",
       "      <td>0.000</td>\n",
       "      <td>10.944</td>\n",
       "      <td>14.553</td>\n",
       "      <td>0.000</td>\n",
       "      <td>14.758</td>\n",
       "      <td>9.760</td>\n",
       "      <td>0.000</td>\n",
       "      <td>6.251875</td>\n",
       "    </tr>\n",
       "  </tbody>\n",
       "</table>\n",
       "</div>"
      ],
      "text/plain": [
       "Measure ID  READM_30_AMI  READM_30_CABG  READM_30_COPD  READM_30_HF  \\\n",
       "0                  8.910          4.077         12.027       13.482   \n",
       "1                  9.018          0.000         10.260       13.797   \n",
       "2                  8.694          4.104         11.286       12.978   \n",
       "3                  0.000          0.000         11.343       13.293   \n",
       "4                  0.000          0.000         10.944       14.553   \n",
       "\n",
       "Measure ID  READM_30_HIP_KNEE  READM_30_HOSP_WIDE  READM_30_PN  READM_30_STK  \\\n",
       "0                       2.142              14.476       11.407         6.731   \n",
       "1                       2.394              14.006       10.004         7.102   \n",
       "2                       2.100              14.476       10.919         6.360   \n",
       "3                       0.000              15.604       10.553         6.731   \n",
       "4                       0.000              14.758        9.760         0.000   \n",
       "\n",
       "Measure ID  Readmission_score  \n",
       "0                    9.156500  \n",
       "1                    8.322625  \n",
       "2                    8.864625  \n",
       "3                    7.190500  \n",
       "4                    6.251875  "
      ]
     },
     "execution_count": 355,
     "metadata": {},
     "output_type": "execute_result"
    }
   ],
   "source": [
    "Readmission_df.head()"
   ]
  },
  {
   "cell_type": "code",
   "execution_count": null,
   "metadata": {},
   "outputs": [],
   "source": []
  }
 ],
 "metadata": {
  "kernelspec": {
   "display_name": "Python 3",
   "language": "python",
   "name": "python3"
  },
  "language_info": {
   "codemirror_mode": {
    "name": "ipython",
    "version": 3
   },
   "file_extension": ".py",
   "mimetype": "text/x-python",
   "name": "python",
   "nbconvert_exporter": "python",
   "pygments_lexer": "ipython3",
   "version": "3.7.3"
  }
 },
 "nbformat": 4,
 "nbformat_minor": 2
}
