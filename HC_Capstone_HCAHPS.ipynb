{
 "cells": [
  {
   "cell_type": "markdown",
   "metadata": {},
   "source": [
    "## Patient Experience measures"
   ]
  },
  {
   "cell_type": "code",
   "execution_count": 1,
   "metadata": {},
   "outputs": [],
   "source": [
    "import pandas as pd\n",
    "import numpy as np\n",
    "import matplotlib.pyplot as plt\n",
    "import seaborn as sns\n",
    "%matplotlib inline"
   ]
  },
  {
   "cell_type": "markdown",
   "metadata": {},
   "source": [
    "# Generic Data Cleaning and EDA"
   ]
  },
  {
   "cell_type": "markdown",
   "metadata": {},
   "source": [
    "### Import Data and Check the properties"
   ]
  },
  {
   "cell_type": "code",
   "execution_count": 2,
   "metadata": {},
   "outputs": [],
   "source": [
    "df=pd.read_csv(\"HCAHPS_Hospital.csv\",encoding='latin1')"
   ]
  },
  {
   "cell_type": "code",
   "execution_count": 3,
   "metadata": {},
   "outputs": [
    {
     "data": {
      "text/html": [
       "<div>\n",
       "<style scoped>\n",
       "    .dataframe tbody tr th:only-of-type {\n",
       "        vertical-align: middle;\n",
       "    }\n",
       "\n",
       "    .dataframe tbody tr th {\n",
       "        vertical-align: top;\n",
       "    }\n",
       "\n",
       "    .dataframe thead th {\n",
       "        text-align: right;\n",
       "    }\n",
       "</style>\n",
       "<table border=\"1\" class=\"dataframe\">\n",
       "  <thead>\n",
       "    <tr style=\"text-align: right;\">\n",
       "      <th></th>\n",
       "      <th>Provider ID</th>\n",
       "      <th>Hospital Name</th>\n",
       "      <th>Address</th>\n",
       "      <th>City</th>\n",
       "      <th>State</th>\n",
       "      <th>ZIP Code</th>\n",
       "      <th>County Name</th>\n",
       "      <th>Phone Number</th>\n",
       "      <th>HCAHPS Measure ID</th>\n",
       "      <th>HCAHPS Question</th>\n",
       "      <th>...</th>\n",
       "      <th>Patient Survey Star Rating Footnote</th>\n",
       "      <th>HCAHPS Answer Percent</th>\n",
       "      <th>HCAHPS Answer Percent Footnote</th>\n",
       "      <th>HCAHPS Linear Mean Value</th>\n",
       "      <th>Number of Completed Surveys</th>\n",
       "      <th>Number of Completed Surveys Footnote</th>\n",
       "      <th>Survey Response Rate Percent</th>\n",
       "      <th>Survey Response Rate Percent Footnote</th>\n",
       "      <th>Measure Start Date</th>\n",
       "      <th>Measure End Date</th>\n",
       "    </tr>\n",
       "  </thead>\n",
       "  <tbody>\n",
       "    <tr>\n",
       "      <th>0</th>\n",
       "      <td>10001</td>\n",
       "      <td>SOUTHEAST ALABAMA MEDICAL CENTER</td>\n",
       "      <td>1108 ROSS CLARK CIRCLE</td>\n",
       "      <td>DOTHAN</td>\n",
       "      <td>AL</td>\n",
       "      <td>36301</td>\n",
       "      <td>HOUSTON</td>\n",
       "      <td>3347938701</td>\n",
       "      <td>H_STAR_RATING</td>\n",
       "      <td>Summary star rating</td>\n",
       "      <td>...</td>\n",
       "      <td>NaN</td>\n",
       "      <td>Not Applicable</td>\n",
       "      <td>NaN</td>\n",
       "      <td>Not Applicable</td>\n",
       "      <td>1194</td>\n",
       "      <td>NaN</td>\n",
       "      <td>27</td>\n",
       "      <td>NaN</td>\n",
       "      <td>01/01/2015</td>\n",
       "      <td>12/31/2015</td>\n",
       "    </tr>\n",
       "    <tr>\n",
       "      <th>1</th>\n",
       "      <td>10001</td>\n",
       "      <td>SOUTHEAST ALABAMA MEDICAL CENTER</td>\n",
       "      <td>1108 ROSS CLARK CIRCLE</td>\n",
       "      <td>DOTHAN</td>\n",
       "      <td>AL</td>\n",
       "      <td>36301</td>\n",
       "      <td>HOUSTON</td>\n",
       "      <td>3347938701</td>\n",
       "      <td>H_CLEAN_HSP_A_P</td>\n",
       "      <td>Patients who reported that their room and bath...</td>\n",
       "      <td>...</td>\n",
       "      <td>NaN</td>\n",
       "      <td>66</td>\n",
       "      <td>NaN</td>\n",
       "      <td>Not Applicable</td>\n",
       "      <td>1194</td>\n",
       "      <td>NaN</td>\n",
       "      <td>27</td>\n",
       "      <td>NaN</td>\n",
       "      <td>01/01/2015</td>\n",
       "      <td>12/31/2015</td>\n",
       "    </tr>\n",
       "    <tr>\n",
       "      <th>2</th>\n",
       "      <td>10001</td>\n",
       "      <td>SOUTHEAST ALABAMA MEDICAL CENTER</td>\n",
       "      <td>1108 ROSS CLARK CIRCLE</td>\n",
       "      <td>DOTHAN</td>\n",
       "      <td>AL</td>\n",
       "      <td>36301</td>\n",
       "      <td>HOUSTON</td>\n",
       "      <td>3347938701</td>\n",
       "      <td>H_CLEAN_HSP_SN_P</td>\n",
       "      <td>Patients who reported that their room and bath...</td>\n",
       "      <td>...</td>\n",
       "      <td>NaN</td>\n",
       "      <td>12</td>\n",
       "      <td>NaN</td>\n",
       "      <td>Not Applicable</td>\n",
       "      <td>1194</td>\n",
       "      <td>NaN</td>\n",
       "      <td>27</td>\n",
       "      <td>NaN</td>\n",
       "      <td>01/01/2015</td>\n",
       "      <td>12/31/2015</td>\n",
       "    </tr>\n",
       "    <tr>\n",
       "      <th>3</th>\n",
       "      <td>10001</td>\n",
       "      <td>SOUTHEAST ALABAMA MEDICAL CENTER</td>\n",
       "      <td>1108 ROSS CLARK CIRCLE</td>\n",
       "      <td>DOTHAN</td>\n",
       "      <td>AL</td>\n",
       "      <td>36301</td>\n",
       "      <td>HOUSTON</td>\n",
       "      <td>3347938701</td>\n",
       "      <td>H_CLEAN_HSP_U_P</td>\n",
       "      <td>Patients who reported that their room and bath...</td>\n",
       "      <td>...</td>\n",
       "      <td>NaN</td>\n",
       "      <td>22</td>\n",
       "      <td>NaN</td>\n",
       "      <td>Not Applicable</td>\n",
       "      <td>1194</td>\n",
       "      <td>NaN</td>\n",
       "      <td>27</td>\n",
       "      <td>NaN</td>\n",
       "      <td>01/01/2015</td>\n",
       "      <td>12/31/2015</td>\n",
       "    </tr>\n",
       "    <tr>\n",
       "      <th>4</th>\n",
       "      <td>10001</td>\n",
       "      <td>SOUTHEAST ALABAMA MEDICAL CENTER</td>\n",
       "      <td>1108 ROSS CLARK CIRCLE</td>\n",
       "      <td>DOTHAN</td>\n",
       "      <td>AL</td>\n",
       "      <td>36301</td>\n",
       "      <td>HOUSTON</td>\n",
       "      <td>3347938701</td>\n",
       "      <td>H_CLEAN_LINEAR_SCORE</td>\n",
       "      <td>Cleanliness - linear mean score</td>\n",
       "      <td>...</td>\n",
       "      <td>NaN</td>\n",
       "      <td>Not Applicable</td>\n",
       "      <td>NaN</td>\n",
       "      <td>84</td>\n",
       "      <td>1194</td>\n",
       "      <td>NaN</td>\n",
       "      <td>27</td>\n",
       "      <td>NaN</td>\n",
       "      <td>01/01/2015</td>\n",
       "      <td>12/31/2015</td>\n",
       "    </tr>\n",
       "  </tbody>\n",
       "</table>\n",
       "<p>5 rows × 22 columns</p>\n",
       "</div>"
      ],
      "text/plain": [
       "   Provider ID                     Hospital Name                 Address  \\\n",
       "0        10001  SOUTHEAST ALABAMA MEDICAL CENTER  1108 ROSS CLARK CIRCLE   \n",
       "1        10001  SOUTHEAST ALABAMA MEDICAL CENTER  1108 ROSS CLARK CIRCLE   \n",
       "2        10001  SOUTHEAST ALABAMA MEDICAL CENTER  1108 ROSS CLARK CIRCLE   \n",
       "3        10001  SOUTHEAST ALABAMA MEDICAL CENTER  1108 ROSS CLARK CIRCLE   \n",
       "4        10001  SOUTHEAST ALABAMA MEDICAL CENTER  1108 ROSS CLARK CIRCLE   \n",
       "\n",
       "     City State  ZIP Code County Name  Phone Number     HCAHPS Measure ID  \\\n",
       "0  DOTHAN    AL     36301     HOUSTON    3347938701         H_STAR_RATING   \n",
       "1  DOTHAN    AL     36301     HOUSTON    3347938701       H_CLEAN_HSP_A_P   \n",
       "2  DOTHAN    AL     36301     HOUSTON    3347938701      H_CLEAN_HSP_SN_P   \n",
       "3  DOTHAN    AL     36301     HOUSTON    3347938701       H_CLEAN_HSP_U_P   \n",
       "4  DOTHAN    AL     36301     HOUSTON    3347938701  H_CLEAN_LINEAR_SCORE   \n",
       "\n",
       "                                     HCAHPS Question       ...         \\\n",
       "0                                Summary star rating       ...          \n",
       "1  Patients who reported that their room and bath...       ...          \n",
       "2  Patients who reported that their room and bath...       ...          \n",
       "3  Patients who reported that their room and bath...       ...          \n",
       "4                    Cleanliness - linear mean score       ...          \n",
       "\n",
       "  Patient Survey Star Rating Footnote HCAHPS Answer Percent  \\\n",
       "0                                 NaN        Not Applicable   \n",
       "1                                 NaN                    66   \n",
       "2                                 NaN                    12   \n",
       "3                                 NaN                    22   \n",
       "4                                 NaN        Not Applicable   \n",
       "\n",
       "  HCAHPS Answer Percent Footnote HCAHPS Linear Mean Value  \\\n",
       "0                            NaN           Not Applicable   \n",
       "1                            NaN           Not Applicable   \n",
       "2                            NaN           Not Applicable   \n",
       "3                            NaN           Not Applicable   \n",
       "4                            NaN                       84   \n",
       "\n",
       "  Number of Completed Surveys Number of Completed Surveys Footnote  \\\n",
       "0                        1194                                  NaN   \n",
       "1                        1194                                  NaN   \n",
       "2                        1194                                  NaN   \n",
       "3                        1194                                  NaN   \n",
       "4                        1194                                  NaN   \n",
       "\n",
       "  Survey Response Rate Percent Survey Response Rate Percent Footnote  \\\n",
       "0                           27                                   NaN   \n",
       "1                           27                                   NaN   \n",
       "2                           27                                   NaN   \n",
       "3                           27                                   NaN   \n",
       "4                           27                                   NaN   \n",
       "\n",
       "  Measure Start Date Measure End Date  \n",
       "0         01/01/2015       12/31/2015  \n",
       "1         01/01/2015       12/31/2015  \n",
       "2         01/01/2015       12/31/2015  \n",
       "3         01/01/2015       12/31/2015  \n",
       "4         01/01/2015       12/31/2015  \n",
       "\n",
       "[5 rows x 22 columns]"
      ]
     },
     "execution_count": 3,
     "metadata": {},
     "output_type": "execute_result"
    }
   ],
   "source": [
    "df.head()"
   ]
  },
  {
   "cell_type": "code",
   "execution_count": 4,
   "metadata": {},
   "outputs": [
    {
     "data": {
      "text/plain": [
       "(264990, 22)"
      ]
     },
     "execution_count": 4,
     "metadata": {},
     "output_type": "execute_result"
    }
   ],
   "source": [
    "df.shape"
   ]
  },
  {
   "cell_type": "code",
   "execution_count": 5,
   "metadata": {
    "scrolled": true
   },
   "outputs": [
    {
     "name": "stdout",
     "output_type": "stream",
     "text": [
      "<class 'pandas.core.frame.DataFrame'>\n",
      "RangeIndex: 264990 entries, 0 to 264989\n",
      "Data columns (total 22 columns):\n",
      "Provider ID                              264990 non-null int64\n",
      "Hospital Name                            264990 non-null object\n",
      "Address                                  264990 non-null object\n",
      "City                                     264990 non-null object\n",
      "State                                    264990 non-null object\n",
      "ZIP Code                                 264990 non-null int64\n",
      "County Name                              264165 non-null object\n",
      "Phone Number                             264990 non-null int64\n",
      "HCAHPS Measure ID                        264990 non-null object\n",
      "HCAHPS Question                          264990 non-null object\n",
      "HCAHPS Answer Description                264990 non-null object\n",
      "Patient Survey Star Rating               264990 non-null object\n",
      "Patient Survey Star Rating Footnote      15720 non-null object\n",
      "HCAHPS Answer Percent                    264990 non-null object\n",
      "HCAHPS Answer Percent Footnote           44032 non-null object\n",
      "HCAHPS Linear Mean Value                 264990 non-null object\n",
      "Number of Completed Surveys              264990 non-null object\n",
      "Number of Completed Surveys Footnote     31735 non-null object\n",
      "Survey Response Rate Percent             264990 non-null object\n",
      "Survey Response Rate Percent Footnote    75735 non-null object\n",
      "Measure Start Date                       264990 non-null object\n",
      "Measure End Date                         264990 non-null object\n",
      "dtypes: int64(3), object(19)\n",
      "memory usage: 44.5+ MB\n"
     ]
    }
   ],
   "source": [
    "df.info()"
   ]
  },
  {
   "cell_type": "code",
   "execution_count": 6,
   "metadata": {
    "scrolled": true
   },
   "outputs": [
    {
     "data": {
      "text/plain": [
       "Provider ID                               0.00\n",
       "Hospital Name                             0.00\n",
       "Address                                   0.00\n",
       "City                                      0.00\n",
       "State                                     0.00\n",
       "ZIP Code                                  0.00\n",
       "County Name                               0.31\n",
       "Phone Number                              0.00\n",
       "HCAHPS Measure ID                         0.00\n",
       "HCAHPS Question                           0.00\n",
       "HCAHPS Answer Description                 0.00\n",
       "Patient Survey Star Rating                0.00\n",
       "Patient Survey Star Rating Footnote      94.07\n",
       "HCAHPS Answer Percent                     0.00\n",
       "HCAHPS Answer Percent Footnote           83.38\n",
       "HCAHPS Linear Mean Value                  0.00\n",
       "Number of Completed Surveys               0.00\n",
       "Number of Completed Surveys Footnote     88.02\n",
       "Survey Response Rate Percent              0.00\n",
       "Survey Response Rate Percent Footnote    71.42\n",
       "Measure Start Date                        0.00\n",
       "Measure End Date                          0.00\n",
       "dtype: float64"
      ]
     },
     "execution_count": 6,
     "metadata": {},
     "output_type": "execute_result"
    }
   ],
   "source": [
    "# Check the data for percentage of null values\n",
    "\n",
    "round((df.isnull().sum()/df.isnull().count())*100,2)"
   ]
  },
  {
   "cell_type": "markdown",
   "metadata": {},
   "source": [
    "#### Dropping columns having more than 50% null values and eliminating rows having null values"
   ]
  },
  {
   "cell_type": "code",
   "execution_count": 7,
   "metadata": {},
   "outputs": [
    {
     "data": {
      "text/plain": [
       "(264990, 18)"
      ]
     },
     "execution_count": 7,
     "metadata": {},
     "output_type": "execute_result"
    }
   ],
   "source": [
    "df= df.dropna(axis=1, thresh=int(0.5*len(df)))\n",
    "df.shape"
   ]
  },
  {
   "cell_type": "code",
   "execution_count": 8,
   "metadata": {},
   "outputs": [],
   "source": [
    "df=df.dropna(axis=0, how='any')"
   ]
  },
  {
   "cell_type": "code",
   "execution_count": 9,
   "metadata": {
    "scrolled": true
   },
   "outputs": [
    {
     "name": "stdout",
     "output_type": "stream",
     "text": [
      "<class 'pandas.core.frame.DataFrame'>\n",
      "Int64Index: 264165 entries, 0 to 264989\n",
      "Data columns (total 18 columns):\n",
      "Provider ID                     264165 non-null int64\n",
      "Hospital Name                   264165 non-null object\n",
      "Address                         264165 non-null object\n",
      "City                            264165 non-null object\n",
      "State                           264165 non-null object\n",
      "ZIP Code                        264165 non-null int64\n",
      "County Name                     264165 non-null object\n",
      "Phone Number                    264165 non-null int64\n",
      "HCAHPS Measure ID               264165 non-null object\n",
      "HCAHPS Question                 264165 non-null object\n",
      "HCAHPS Answer Description       264165 non-null object\n",
      "Patient Survey Star Rating      264165 non-null object\n",
      "HCAHPS Answer Percent           264165 non-null object\n",
      "HCAHPS Linear Mean Value        264165 non-null object\n",
      "Number of Completed Surveys     264165 non-null object\n",
      "Survey Response Rate Percent    264165 non-null object\n",
      "Measure Start Date              264165 non-null object\n",
      "Measure End Date                264165 non-null object\n",
      "dtypes: int64(3), object(15)\n",
      "memory usage: 38.3+ MB\n"
     ]
    }
   ],
   "source": [
    "df.info()"
   ]
  },
  {
   "cell_type": "code",
   "execution_count": 10,
   "metadata": {
    "scrolled": true
   },
   "outputs": [
    {
     "name": "stdout",
     "output_type": "stream",
     "text": [
      "<class 'pandas.core.frame.DataFrame'>\n",
      "Int64Index: 264165 entries, 0 to 264989\n",
      "Data columns (total 18 columns):\n",
      "Provider ID                     264165 non-null int64\n",
      "Hospital Name                   264165 non-null object\n",
      "Address                         264165 non-null object\n",
      "City                            264165 non-null object\n",
      "State                           264165 non-null object\n",
      "ZIP Code                        264165 non-null int64\n",
      "County Name                     264165 non-null object\n",
      "Phone Number                    264165 non-null int64\n",
      "HCAHPS Measure ID               264165 non-null object\n",
      "HCAHPS Question                 264165 non-null object\n",
      "HCAHPS Answer Description       264165 non-null object\n",
      "Patient Survey Star Rating      264165 non-null object\n",
      "HCAHPS Answer Percent           264165 non-null object\n",
      "HCAHPS Linear Mean Value        264165 non-null object\n",
      "Number of Completed Surveys     264165 non-null object\n",
      "Survey Response Rate Percent    264165 non-null object\n",
      "Measure Start Date              264165 non-null object\n",
      "Measure End Date                264165 non-null object\n",
      "dtypes: int64(3), object(15)\n",
      "memory usage: 38.3+ MB\n"
     ]
    }
   ],
   "source": [
    "# Drop duplicate records if any\n",
    "df=df.drop_duplicates(keep='first', inplace=False)\n",
    "df.info()"
   ]
  },
  {
   "cell_type": "markdown",
   "metadata": {},
   "source": [
    "### Removing unwanted data -\n",
    "\n",
    "### This step will be specific to your dataset \n",
    "data where most of the metrics are not available/not applicable wont give any info so removing such records.\n",
    "Address , city, state can be removed as we have Zip Code "
   ]
  },
  {
   "cell_type": "code",
   "execution_count": 11,
   "metadata": {},
   "outputs": [],
   "source": [
    "df=df[~((df[\"Patient Survey Star Rating\"].isin(['Not Applicable','Not Available'])))] "
   ]
  },
  {
   "cell_type": "code",
   "execution_count": 12,
   "metadata": {},
   "outputs": [],
   "source": [
    "df=df.drop([\"Address\",\"City\",\"State\",\"Phone Number\",\"ZIP Code\",\"County Name\",\"Hospital Name\",\"HCAHPS Question\",\"HCAHPS Answer Description\",\"HCAHPS Answer Percent\",\"HCAHPS Linear Mean Value\",\"Number of Completed Surveys\",\"Survey Response Rate Percent\",\"Measure Start Date\",\"Measure End Date\"],axis=1)"
   ]
  },
  {
   "cell_type": "code",
   "execution_count": 13,
   "metadata": {
    "scrolled": true
   },
   "outputs": [
    {
     "name": "stdout",
     "output_type": "stream",
     "text": [
      "<class 'pandas.core.frame.DataFrame'>\n",
      "Int64Index: 42048 entries, 0 to 264659\n",
      "Data columns (total 3 columns):\n",
      "Provider ID                   42048 non-null int64\n",
      "HCAHPS Measure ID             42048 non-null object\n",
      "Patient Survey Star Rating    42048 non-null object\n",
      "dtypes: int64(1), object(2)\n",
      "memory usage: 1.3+ MB\n"
     ]
    }
   ],
   "source": [
    "df.info()"
   ]
  },
  {
   "cell_type": "markdown",
   "metadata": {},
   "source": [
    "### Converting some categorical variables to numeric"
   ]
  },
  {
   "cell_type": "code",
   "execution_count": 16,
   "metadata": {},
   "outputs": [],
   "source": [
    "df = df.replace(['Not Available','Not Applicable'],0)"
   ]
  },
  {
   "cell_type": "code",
   "execution_count": 18,
   "metadata": {},
   "outputs": [],
   "source": [
    "df[\"Patient Survey Star Rating\"]=df[[\"Patient Survey Star Rating\"]].apply(pd.to_numeric,errors='coerce')"
   ]
  },
  {
   "cell_type": "code",
   "execution_count": 19,
   "metadata": {},
   "outputs": [],
   "source": [
    "df=df.fillna(0)"
   ]
  },
  {
   "cell_type": "code",
   "execution_count": 20,
   "metadata": {
    "scrolled": false
   },
   "outputs": [
    {
     "name": "stdout",
     "output_type": "stream",
     "text": [
      "<class 'pandas.core.frame.DataFrame'>\n",
      "Int64Index: 42048 entries, 0 to 264659\n",
      "Data columns (total 3 columns):\n",
      "Provider ID                   42048 non-null int64\n",
      "HCAHPS Measure ID             42048 non-null object\n",
      "Patient Survey Star Rating    42048 non-null int64\n",
      "dtypes: int64(2), object(1)\n",
      "memory usage: 1.3+ MB\n"
     ]
    }
   ],
   "source": [
    "df.info()"
   ]
  },
  {
   "cell_type": "markdown",
   "metadata": {},
   "source": [
    "## Writing cleaned data to another file"
   ]
  },
  {
   "cell_type": "code",
   "execution_count": 22,
   "metadata": {},
   "outputs": [],
   "source": [
    "df.to_csv('HCAHPS.csv')"
   ]
  },
  {
   "cell_type": "code",
   "execution_count": 23,
   "metadata": {
    "scrolled": true
   },
   "outputs": [
    {
     "name": "stdout",
     "output_type": "stream",
     "text": [
      "<class 'pandas.core.frame.DataFrame'>\n",
      "Int64Index: 42048 entries, 0 to 264659\n",
      "Data columns (total 3 columns):\n",
      "Provider ID                   42048 non-null int64\n",
      "HCAHPS Measure ID             42048 non-null object\n",
      "Patient Survey Star Rating    42048 non-null int64\n",
      "dtypes: int64(2), object(1)\n",
      "memory usage: 1.3+ MB\n"
     ]
    }
   ],
   "source": [
    "HCAHPS = df[:]\n",
    "HCAHPS.info()"
   ]
  },
  {
   "cell_type": "code",
   "execution_count": 24,
   "metadata": {},
   "outputs": [
    {
     "data": {
      "text/plain": [
       "array(['H_STAR_RATING', 'H_CLEAN_STAR_RATING', 'H_COMP_1_STAR_RATING',\n",
       "       'H_COMP_2_STAR_RATING', 'H_COMP_3_STAR_RATING',\n",
       "       'H_COMP_4_STAR_RATING', 'H_COMP_5_STAR_RATING',\n",
       "       'H_COMP_6_STAR_RATING', 'H_COMP_7_STAR_RATING',\n",
       "       'H_HSP_RATING_STAR_RATING', 'H_QUIET_STAR_RATING',\n",
       "       'H_RECMND_STAR_RATING'], dtype=object)"
      ]
     },
     "execution_count": 24,
     "metadata": {},
     "output_type": "execute_result"
    }
   ],
   "source": [
    "df['HCAHPS Measure ID'].unique()"
   ]
  },
  {
   "cell_type": "code",
   "execution_count": 25,
   "metadata": {},
   "outputs": [],
   "source": [
    "df=df.rename(columns={\"HCAHPS Measure ID\": \"Measure ID\", \"Patient Survey Star Rating\": \"Score\"})"
   ]
  },
  {
   "cell_type": "code",
   "execution_count": 26,
   "metadata": {},
   "outputs": [
    {
     "data": {
      "text/html": [
       "<div>\n",
       "<style scoped>\n",
       "    .dataframe tbody tr th:only-of-type {\n",
       "        vertical-align: middle;\n",
       "    }\n",
       "\n",
       "    .dataframe tbody tr th {\n",
       "        vertical-align: top;\n",
       "    }\n",
       "\n",
       "    .dataframe thead th {\n",
       "        text-align: right;\n",
       "    }\n",
       "</style>\n",
       "<table border=\"1\" class=\"dataframe\">\n",
       "  <thead>\n",
       "    <tr style=\"text-align: right;\">\n",
       "      <th>Measure ID</th>\n",
       "      <th>Provider ID</th>\n",
       "      <th>H_CLEAN_STAR_RATING</th>\n",
       "      <th>H_COMP_1_STAR_RATING</th>\n",
       "      <th>H_COMP_2_STAR_RATING</th>\n",
       "      <th>H_COMP_3_STAR_RATING</th>\n",
       "      <th>H_COMP_4_STAR_RATING</th>\n",
       "      <th>H_COMP_5_STAR_RATING</th>\n",
       "      <th>H_COMP_6_STAR_RATING</th>\n",
       "      <th>H_COMP_7_STAR_RATING</th>\n",
       "      <th>H_HSP_RATING_STAR_RATING</th>\n",
       "      <th>H_QUIET_STAR_RATING</th>\n",
       "      <th>H_RECMND_STAR_RATING</th>\n",
       "      <th>H_STAR_RATING</th>\n",
       "    </tr>\n",
       "  </thead>\n",
       "  <tbody>\n",
       "    <tr>\n",
       "      <th>0</th>\n",
       "      <td>10001</td>\n",
       "      <td>2</td>\n",
       "      <td>3</td>\n",
       "      <td>3</td>\n",
       "      <td>2</td>\n",
       "      <td>3</td>\n",
       "      <td>3</td>\n",
       "      <td>3</td>\n",
       "      <td>3</td>\n",
       "      <td>4</td>\n",
       "      <td>4</td>\n",
       "      <td>4</td>\n",
       "      <td>3</td>\n",
       "    </tr>\n",
       "    <tr>\n",
       "      <th>1</th>\n",
       "      <td>10005</td>\n",
       "      <td>2</td>\n",
       "      <td>3</td>\n",
       "      <td>4</td>\n",
       "      <td>3</td>\n",
       "      <td>3</td>\n",
       "      <td>3</td>\n",
       "      <td>4</td>\n",
       "      <td>2</td>\n",
       "      <td>4</td>\n",
       "      <td>4</td>\n",
       "      <td>3</td>\n",
       "      <td>3</td>\n",
       "    </tr>\n",
       "    <tr>\n",
       "      <th>2</th>\n",
       "      <td>10006</td>\n",
       "      <td>2</td>\n",
       "      <td>3</td>\n",
       "      <td>4</td>\n",
       "      <td>3</td>\n",
       "      <td>3</td>\n",
       "      <td>3</td>\n",
       "      <td>2</td>\n",
       "      <td>2</td>\n",
       "      <td>2</td>\n",
       "      <td>4</td>\n",
       "      <td>2</td>\n",
       "      <td>3</td>\n",
       "    </tr>\n",
       "    <tr>\n",
       "      <th>3</th>\n",
       "      <td>10007</td>\n",
       "      <td>3</td>\n",
       "      <td>3</td>\n",
       "      <td>5</td>\n",
       "      <td>4</td>\n",
       "      <td>4</td>\n",
       "      <td>4</td>\n",
       "      <td>3</td>\n",
       "      <td>3</td>\n",
       "      <td>3</td>\n",
       "      <td>5</td>\n",
       "      <td>3</td>\n",
       "      <td>4</td>\n",
       "    </tr>\n",
       "    <tr>\n",
       "      <th>4</th>\n",
       "      <td>10011</td>\n",
       "      <td>1</td>\n",
       "      <td>3</td>\n",
       "      <td>3</td>\n",
       "      <td>2</td>\n",
       "      <td>3</td>\n",
       "      <td>2</td>\n",
       "      <td>3</td>\n",
       "      <td>2</td>\n",
       "      <td>3</td>\n",
       "      <td>3</td>\n",
       "      <td>3</td>\n",
       "      <td>3</td>\n",
       "    </tr>\n",
       "  </tbody>\n",
       "</table>\n",
       "</div>"
      ],
      "text/plain": [
       "Measure ID  Provider ID  H_CLEAN_STAR_RATING  H_COMP_1_STAR_RATING  \\\n",
       "0                 10001                    2                     3   \n",
       "1                 10005                    2                     3   \n",
       "2                 10006                    2                     3   \n",
       "3                 10007                    3                     3   \n",
       "4                 10011                    1                     3   \n",
       "\n",
       "Measure ID  H_COMP_2_STAR_RATING  H_COMP_3_STAR_RATING  H_COMP_4_STAR_RATING  \\\n",
       "0                              3                     2                     3   \n",
       "1                              4                     3                     3   \n",
       "2                              4                     3                     3   \n",
       "3                              5                     4                     4   \n",
       "4                              3                     2                     3   \n",
       "\n",
       "Measure ID  H_COMP_5_STAR_RATING  H_COMP_6_STAR_RATING  H_COMP_7_STAR_RATING  \\\n",
       "0                              3                     3                     3   \n",
       "1                              3                     4                     2   \n",
       "2                              3                     2                     2   \n",
       "3                              4                     3                     3   \n",
       "4                              2                     3                     2   \n",
       "\n",
       "Measure ID  H_HSP_RATING_STAR_RATING  H_QUIET_STAR_RATING  \\\n",
       "0                                  4                    4   \n",
       "1                                  4                    4   \n",
       "2                                  2                    4   \n",
       "3                                  3                    5   \n",
       "4                                  3                    3   \n",
       "\n",
       "Measure ID  H_RECMND_STAR_RATING  H_STAR_RATING  \n",
       "0                              4              3  \n",
       "1                              3              3  \n",
       "2                              2              3  \n",
       "3                              3              4  \n",
       "4                              3              3  "
      ]
     },
     "execution_count": 26,
     "metadata": {},
     "output_type": "execute_result"
    }
   ],
   "source": [
    "#Pivot table\n",
    "df=df.pivot_table(values= 'Score', index= 'Provider ID', columns= 'Measure ID')\n",
    "df.reset_index(inplace=True)\n",
    "df = df.rename_axis(None)\n",
    "df.head()"
   ]
  },
  {
   "cell_type": "code",
   "execution_count": 27,
   "metadata": {},
   "outputs": [
    {
     "name": "stdout",
     "output_type": "stream",
     "text": [
      "<class 'pandas.core.frame.DataFrame'>\n",
      "RangeIndex: 3504 entries, 0 to 3503\n",
      "Data columns (total 13 columns):\n",
      "Provider ID                 3504 non-null int64\n",
      "H_CLEAN_STAR_RATING         3504 non-null int64\n",
      "H_COMP_1_STAR_RATING        3504 non-null int64\n",
      "H_COMP_2_STAR_RATING        3504 non-null int64\n",
      "H_COMP_3_STAR_RATING        3504 non-null int64\n",
      "H_COMP_4_STAR_RATING        3504 non-null int64\n",
      "H_COMP_5_STAR_RATING        3504 non-null int64\n",
      "H_COMP_6_STAR_RATING        3504 non-null int64\n",
      "H_COMP_7_STAR_RATING        3504 non-null int64\n",
      "H_HSP_RATING_STAR_RATING    3504 non-null int64\n",
      "H_QUIET_STAR_RATING         3504 non-null int64\n",
      "H_RECMND_STAR_RATING        3504 non-null int64\n",
      "H_STAR_RATING               3504 non-null int64\n",
      "dtypes: int64(13)\n",
      "memory usage: 356.0 KB\n"
     ]
    }
   ],
   "source": [
    "df.info()"
   ]
  },
  {
   "cell_type": "code",
   "execution_count": 28,
   "metadata": {},
   "outputs": [
    {
     "name": "stdout",
     "output_type": "stream",
     "text": [
      "Index(['Provider ID', 'H_CLEAN_STAR_RATING', 'H_COMP_1_STAR_RATING',\n",
      "       'H_COMP_2_STAR_RATING', 'H_COMP_3_STAR_RATING', 'H_COMP_4_STAR_RATING',\n",
      "       'H_COMP_5_STAR_RATING', 'H_COMP_6_STAR_RATING', 'H_COMP_7_STAR_RATING',\n",
      "       'H_HSP_RATING_STAR_RATING', 'H_QUIET_STAR_RATING',\n",
      "       'H_RECMND_STAR_RATING', 'H_STAR_RATING'],\n",
      "      dtype='object', name='Measure ID')\n",
      "(3504, 13)\n"
     ]
    }
   ],
   "source": [
    "print(df.columns)\n",
    "print(df.shape)"
   ]
  },
  {
   "cell_type": "code",
   "execution_count": 29,
   "metadata": {},
   "outputs": [
    {
     "data": {
      "text/plain": [
       "Measure ID\n",
       "Provider ID                 0.0\n",
       "H_CLEAN_STAR_RATING         0.0\n",
       "H_COMP_1_STAR_RATING        0.0\n",
       "H_COMP_2_STAR_RATING        0.0\n",
       "H_COMP_3_STAR_RATING        0.0\n",
       "H_COMP_4_STAR_RATING        0.0\n",
       "H_COMP_5_STAR_RATING        0.0\n",
       "H_COMP_6_STAR_RATING        0.0\n",
       "H_COMP_7_STAR_RATING        0.0\n",
       "H_HSP_RATING_STAR_RATING    0.0\n",
       "H_QUIET_STAR_RATING         0.0\n",
       "H_RECMND_STAR_RATING        0.0\n",
       "H_STAR_RATING               0.0\n",
       "dtype: float64"
      ]
     },
     "execution_count": 29,
     "metadata": {},
     "output_type": "execute_result"
    }
   ],
   "source": [
    "round((df.isnull().sum()/df.isnull().count())*100,2)"
   ]
  },
  {
   "cell_type": "code",
   "execution_count": 30,
   "metadata": {},
   "outputs": [],
   "source": [
    "df.fillna(0, inplace=True)"
   ]
  },
  {
   "cell_type": "code",
   "execution_count": 31,
   "metadata": {},
   "outputs": [],
   "source": [
    "## write data to csv file in case we need data without coef application for clustering\n",
    "df.to_csv('Patient_exp_cluster.csv')"
   ]
  },
  {
   "cell_type": "code",
   "execution_count": 32,
   "metadata": {},
   "outputs": [
    {
     "data": {
      "text/plain": [
       "<matplotlib.axes._subplots.AxesSubplot at 0x8afca20>"
      ]
     },
     "execution_count": 32,
     "metadata": {},
     "output_type": "execute_result"
    },
    {
     "data": {
      "image/png": "[encoded data removed]",
      "text/plain": [
       "<matplotlib.figure.Figure at 0x8abe748>"
      ]
     },
     "metadata": {},
     "output_type": "display_data"
    }
   ],
   "source": [
    "sns.heatmap(df.corr())"
   ]
  },
  {
   "cell_type": "code",
   "execution_count": 33,
   "metadata": {},
   "outputs": [],
   "source": [
    "# multiplying measure scores with respective weigts(loading coefficients)\n",
    "df['H_CLEAN_STAR_RATING'] = df['H_CLEAN_STAR_RATING']*0.65\n",
    "df['H_COMP_1_STAR_RATING'] = df['H_COMP_1_STAR_RATING']*0.74\n",
    "df['H_COMP_2_STAR_RATING'] = df['H_COMP_2_STAR_RATING']*0.61\n",
    "df['H_COMP_3_STAR_RATING'] = df['H_COMP_3_STAR_RATING']*0.70\n",
    "df['H_COMP_4_STAR_RATING'] = df['H_COMP_4_STAR_RATING']*0.67\n",
    "df['H_COMP_5_STAR_RATING'] = df['H_COMP_5_STAR_RATING']*0.69\n",
    "df['H_COMP_6_STAR_RATING'] = df['H_COMP_6_STAR_RATING']*0.58\n",
    "df['H_COMP_7_STAR_RATING'] = df['H_COMP_7_STAR_RATING']*0.77\n",
    "df['H_RECMND_STAR_RATING'] = df['H_RECMND_STAR_RATING']*0.74\n",
    "df['H_QUIET_STAR_RATING'] = df['H_QUIET_STAR_RATING']*0.58\n",
    "df['H_HSP_RATING_STAR_RATING'] = df['H_HSP_RATING_STAR_RATING']*0.78\n",
    "\n"
   ]
  },
  {
   "cell_type": "code",
   "execution_count": 34,
   "metadata": {},
   "outputs": [],
   "source": [
    "df=df.drop('H_STAR_RATING',axis=1)"
   ]
  },
  {
   "cell_type": "code",
   "execution_count": 35,
   "metadata": {},
   "outputs": [],
   "source": [
    "# Average of the weighted scores to calculated group score.\n",
    "df['Patent_exp_score'] = ((df['H_CLEAN_STAR_RATING']+df['H_COMP_1_STAR_RATING']+df['H_COMP_2_STAR_RATING']+df['H_COMP_3_STAR_RATING']+df['H_COMP_4_STAR_RATING']+df['H_COMP_5_STAR_RATING']+df['H_COMP_6_STAR_RATING']+df['H_COMP_7_STAR_RATING']+df['H_RECMND_STAR_RATING']+df['H_QUIET_STAR_RATING']+df['H_HSP_RATING_STAR_RATING'])/11)"
   ]
  },
  {
   "cell_type": "code",
   "execution_count": 36,
   "metadata": {},
   "outputs": [
    {
     "data": {
      "text/html": [
       "<div>\n",
       "<style scoped>\n",
       "    .dataframe tbody tr th:only-of-type {\n",
       "        vertical-align: middle;\n",
       "    }\n",
       "\n",
       "    .dataframe tbody tr th {\n",
       "        vertical-align: top;\n",
       "    }\n",
       "\n",
       "    .dataframe thead th {\n",
       "        text-align: right;\n",
       "    }\n",
       "</style>\n",
       "<table border=\"1\" class=\"dataframe\">\n",
       "  <thead>\n",
       "    <tr style=\"text-align: right;\">\n",
       "      <th>Measure ID</th>\n",
       "      <th>Provider ID</th>\n",
       "      <th>H_CLEAN_STAR_RATING</th>\n",
       "      <th>H_COMP_1_STAR_RATING</th>\n",
       "      <th>H_COMP_2_STAR_RATING</th>\n",
       "      <th>H_COMP_3_STAR_RATING</th>\n",
       "      <th>H_COMP_4_STAR_RATING</th>\n",
       "      <th>H_COMP_5_STAR_RATING</th>\n",
       "      <th>H_COMP_6_STAR_RATING</th>\n",
       "      <th>H_COMP_7_STAR_RATING</th>\n",
       "      <th>H_HSP_RATING_STAR_RATING</th>\n",
       "      <th>H_QUIET_STAR_RATING</th>\n",
       "      <th>H_RECMND_STAR_RATING</th>\n",
       "      <th>Patent_exp_score</th>\n",
       "    </tr>\n",
       "  </thead>\n",
       "  <tbody>\n",
       "    <tr>\n",
       "      <th>0</th>\n",
       "      <td>10001</td>\n",
       "      <td>1.30</td>\n",
       "      <td>2.22</td>\n",
       "      <td>1.83</td>\n",
       "      <td>1.4</td>\n",
       "      <td>2.01</td>\n",
       "      <td>2.07</td>\n",
       "      <td>1.74</td>\n",
       "      <td>2.31</td>\n",
       "      <td>3.12</td>\n",
       "      <td>2.32</td>\n",
       "      <td>2.96</td>\n",
       "      <td>2.116364</td>\n",
       "    </tr>\n",
       "    <tr>\n",
       "      <th>1</th>\n",
       "      <td>10005</td>\n",
       "      <td>1.30</td>\n",
       "      <td>2.22</td>\n",
       "      <td>2.44</td>\n",
       "      <td>2.1</td>\n",
       "      <td>2.01</td>\n",
       "      <td>2.07</td>\n",
       "      <td>2.32</td>\n",
       "      <td>1.54</td>\n",
       "      <td>3.12</td>\n",
       "      <td>2.32</td>\n",
       "      <td>2.22</td>\n",
       "      <td>2.150909</td>\n",
       "    </tr>\n",
       "    <tr>\n",
       "      <th>2</th>\n",
       "      <td>10006</td>\n",
       "      <td>1.30</td>\n",
       "      <td>2.22</td>\n",
       "      <td>2.44</td>\n",
       "      <td>2.1</td>\n",
       "      <td>2.01</td>\n",
       "      <td>2.07</td>\n",
       "      <td>1.16</td>\n",
       "      <td>1.54</td>\n",
       "      <td>1.56</td>\n",
       "      <td>2.32</td>\n",
       "      <td>1.48</td>\n",
       "      <td>1.836364</td>\n",
       "    </tr>\n",
       "    <tr>\n",
       "      <th>3</th>\n",
       "      <td>10007</td>\n",
       "      <td>1.95</td>\n",
       "      <td>2.22</td>\n",
       "      <td>3.05</td>\n",
       "      <td>2.8</td>\n",
       "      <td>2.68</td>\n",
       "      <td>2.76</td>\n",
       "      <td>1.74</td>\n",
       "      <td>2.31</td>\n",
       "      <td>2.34</td>\n",
       "      <td>2.90</td>\n",
       "      <td>2.22</td>\n",
       "      <td>2.451818</td>\n",
       "    </tr>\n",
       "    <tr>\n",
       "      <th>4</th>\n",
       "      <td>10011</td>\n",
       "      <td>0.65</td>\n",
       "      <td>2.22</td>\n",
       "      <td>1.83</td>\n",
       "      <td>1.4</td>\n",
       "      <td>2.01</td>\n",
       "      <td>1.38</td>\n",
       "      <td>1.74</td>\n",
       "      <td>1.54</td>\n",
       "      <td>2.34</td>\n",
       "      <td>1.74</td>\n",
       "      <td>2.22</td>\n",
       "      <td>1.733636</td>\n",
       "    </tr>\n",
       "  </tbody>\n",
       "</table>\n",
       "</div>"
      ],
      "text/plain": [
       "Measure ID  Provider ID  H_CLEAN_STAR_RATING  H_COMP_1_STAR_RATING  \\\n",
       "0                 10001                 1.30                  2.22   \n",
       "1                 10005                 1.30                  2.22   \n",
       "2                 10006                 1.30                  2.22   \n",
       "3                 10007                 1.95                  2.22   \n",
       "4                 10011                 0.65                  2.22   \n",
       "\n",
       "Measure ID  H_COMP_2_STAR_RATING  H_COMP_3_STAR_RATING  H_COMP_4_STAR_RATING  \\\n",
       "0                           1.83                   1.4                  2.01   \n",
       "1                           2.44                   2.1                  2.01   \n",
       "2                           2.44                   2.1                  2.01   \n",
       "3                           3.05                   2.8                  2.68   \n",
       "4                           1.83                   1.4                  2.01   \n",
       "\n",
       "Measure ID  H_COMP_5_STAR_RATING  H_COMP_6_STAR_RATING  H_COMP_7_STAR_RATING  \\\n",
       "0                           2.07                  1.74                  2.31   \n",
       "1                           2.07                  2.32                  1.54   \n",
       "2                           2.07                  1.16                  1.54   \n",
       "3                           2.76                  1.74                  2.31   \n",
       "4                           1.38                  1.74                  1.54   \n",
       "\n",
       "Measure ID  H_HSP_RATING_STAR_RATING  H_QUIET_STAR_RATING  \\\n",
       "0                               3.12                 2.32   \n",
       "1                               3.12                 2.32   \n",
       "2                               1.56                 2.32   \n",
       "3                               2.34                 2.90   \n",
       "4                               2.34                 1.74   \n",
       "\n",
       "Measure ID  H_RECMND_STAR_RATING  Patent_exp_score  \n",
       "0                           2.96          2.116364  \n",
       "1                           2.22          2.150909  \n",
       "2                           1.48          1.836364  \n",
       "3                           2.22          2.451818  \n",
       "4                           2.22          1.733636  "
      ]
     },
     "execution_count": 36,
     "metadata": {},
     "output_type": "execute_result"
    }
   ],
   "source": [
    "df.head()"
   ]
  },
  {
   "cell_type": "code",
   "execution_count": 37,
   "metadata": {},
   "outputs": [],
   "source": [
    "# Write data to file for further merging and using for modelling\n",
    "df.to_csv('Patient_exp_score.csv')"
   ]
  },
  {
   "cell_type": "code",
   "execution_count": 39,
   "metadata": {},
   "outputs": [
    {
     "data": {
      "text/html": [
       "<div>\n",
       "<style scoped>\n",
       "    .dataframe tbody tr th:only-of-type {\n",
       "        vertical-align: middle;\n",
       "    }\n",
       "\n",
       "    .dataframe tbody tr th {\n",
       "        vertical-align: top;\n",
       "    }\n",
       "\n",
       "    .dataframe thead th {\n",
       "        text-align: right;\n",
       "    }\n",
       "</style>\n",
       "<table border=\"1\" class=\"dataframe\">\n",
       "  <thead>\n",
       "    <tr style=\"text-align: right;\">\n",
       "      <th>Measure ID</th>\n",
       "      <th>Provider ID</th>\n",
       "      <th>H_CLEAN_STAR_RATING</th>\n",
       "      <th>H_COMP_1_STAR_RATING</th>\n",
       "      <th>H_COMP_2_STAR_RATING</th>\n",
       "      <th>H_COMP_3_STAR_RATING</th>\n",
       "      <th>H_COMP_4_STAR_RATING</th>\n",
       "      <th>H_COMP_5_STAR_RATING</th>\n",
       "      <th>H_COMP_6_STAR_RATING</th>\n",
       "      <th>H_COMP_7_STAR_RATING</th>\n",
       "      <th>H_HSP_RATING_STAR_RATING</th>\n",
       "      <th>H_QUIET_STAR_RATING</th>\n",
       "      <th>H_RECMND_STAR_RATING</th>\n",
       "    </tr>\n",
       "    <tr>\n",
       "      <th>Measure ID</th>\n",
       "      <th></th>\n",
       "      <th></th>\n",
       "      <th></th>\n",
       "      <th></th>\n",
       "      <th></th>\n",
       "      <th></th>\n",
       "      <th></th>\n",
       "      <th></th>\n",
       "      <th></th>\n",
       "      <th></th>\n",
       "      <th></th>\n",
       "      <th></th>\n",
       "    </tr>\n",
       "  </thead>\n",
       "  <tbody>\n",
       "    <tr>\n",
       "      <th>Provider ID</th>\n",
       "      <td>1.000000</td>\n",
       "      <td>0.086543</td>\n",
       "      <td>0.144586</td>\n",
       "      <td>0.120103</td>\n",
       "      <td>0.134408</td>\n",
       "      <td>0.077222</td>\n",
       "      <td>0.128028</td>\n",
       "      <td>0.151517</td>\n",
       "      <td>0.101638</td>\n",
       "      <td>0.080823</td>\n",
       "      <td>0.111721</td>\n",
       "      <td>0.062560</td>\n",
       "    </tr>\n",
       "    <tr>\n",
       "      <th>H_CLEAN_STAR_RATING</th>\n",
       "      <td>0.086543</td>\n",
       "      <td>1.000000</td>\n",
       "      <td>0.652459</td>\n",
       "      <td>0.517159</td>\n",
       "      <td>0.650388</td>\n",
       "      <td>0.575496</td>\n",
       "      <td>0.593756</td>\n",
       "      <td>0.418628</td>\n",
       "      <td>0.610915</td>\n",
       "      <td>0.567434</td>\n",
       "      <td>0.448710</td>\n",
       "      <td>0.505396</td>\n",
       "    </tr>\n",
       "    <tr>\n",
       "      <th>H_COMP_1_STAR_RATING</th>\n",
       "      <td>0.144586</td>\n",
       "      <td>0.652459</td>\n",
       "      <td>1.000000</td>\n",
       "      <td>0.689799</td>\n",
       "      <td>0.786818</td>\n",
       "      <td>0.753834</td>\n",
       "      <td>0.716499</td>\n",
       "      <td>0.581488</td>\n",
       "      <td>0.751345</td>\n",
       "      <td>0.751152</td>\n",
       "      <td>0.539204</td>\n",
       "      <td>0.681239</td>\n",
       "    </tr>\n",
       "    <tr>\n",
       "      <th>H_COMP_2_STAR_RATING</th>\n",
       "      <td>0.120103</td>\n",
       "      <td>0.517159</td>\n",
       "      <td>0.689799</td>\n",
       "      <td>1.000000</td>\n",
       "      <td>0.633547</td>\n",
       "      <td>0.626302</td>\n",
       "      <td>0.655503</td>\n",
       "      <td>0.473717</td>\n",
       "      <td>0.652541</td>\n",
       "      <td>0.659734</td>\n",
       "      <td>0.598751</td>\n",
       "      <td>0.584533</td>\n",
       "    </tr>\n",
       "    <tr>\n",
       "      <th>H_COMP_3_STAR_RATING</th>\n",
       "      <td>0.134408</td>\n",
       "      <td>0.650388</td>\n",
       "      <td>0.786818</td>\n",
       "      <td>0.633547</td>\n",
       "      <td>1.000000</td>\n",
       "      <td>0.692981</td>\n",
       "      <td>0.698292</td>\n",
       "      <td>0.555443</td>\n",
       "      <td>0.676588</td>\n",
       "      <td>0.688491</td>\n",
       "      <td>0.529944</td>\n",
       "      <td>0.591197</td>\n",
       "    </tr>\n",
       "    <tr>\n",
       "      <th>H_COMP_4_STAR_RATING</th>\n",
       "      <td>0.077222</td>\n",
       "      <td>0.575496</td>\n",
       "      <td>0.753834</td>\n",
       "      <td>0.626302</td>\n",
       "      <td>0.692981</td>\n",
       "      <td>1.000000</td>\n",
       "      <td>0.625084</td>\n",
       "      <td>0.515757</td>\n",
       "      <td>0.685365</td>\n",
       "      <td>0.699327</td>\n",
       "      <td>0.490547</td>\n",
       "      <td>0.638198</td>\n",
       "    </tr>\n",
       "    <tr>\n",
       "      <th>H_COMP_5_STAR_RATING</th>\n",
       "      <td>0.128028</td>\n",
       "      <td>0.593756</td>\n",
       "      <td>0.716499</td>\n",
       "      <td>0.655503</td>\n",
       "      <td>0.698292</td>\n",
       "      <td>0.625084</td>\n",
       "      <td>1.000000</td>\n",
       "      <td>0.558091</td>\n",
       "      <td>0.675113</td>\n",
       "      <td>0.662948</td>\n",
       "      <td>0.529751</td>\n",
       "      <td>0.592342</td>\n",
       "    </tr>\n",
       "    <tr>\n",
       "      <th>H_COMP_6_STAR_RATING</th>\n",
       "      <td>0.151517</td>\n",
       "      <td>0.418628</td>\n",
       "      <td>0.581488</td>\n",
       "      <td>0.473717</td>\n",
       "      <td>0.555443</td>\n",
       "      <td>0.515757</td>\n",
       "      <td>0.558091</td>\n",
       "      <td>1.000000</td>\n",
       "      <td>0.592211</td>\n",
       "      <td>0.587650</td>\n",
       "      <td>0.333222</td>\n",
       "      <td>0.538250</td>\n",
       "    </tr>\n",
       "    <tr>\n",
       "      <th>H_COMP_7_STAR_RATING</th>\n",
       "      <td>0.101638</td>\n",
       "      <td>0.610915</td>\n",
       "      <td>0.751345</td>\n",
       "      <td>0.652541</td>\n",
       "      <td>0.676588</td>\n",
       "      <td>0.685365</td>\n",
       "      <td>0.675113</td>\n",
       "      <td>0.592211</td>\n",
       "      <td>1.000000</td>\n",
       "      <td>0.746668</td>\n",
       "      <td>0.497206</td>\n",
       "      <td>0.754160</td>\n",
       "    </tr>\n",
       "    <tr>\n",
       "      <th>H_HSP_RATING_STAR_RATING</th>\n",
       "      <td>0.080823</td>\n",
       "      <td>0.567434</td>\n",
       "      <td>0.751152</td>\n",
       "      <td>0.659734</td>\n",
       "      <td>0.688491</td>\n",
       "      <td>0.699327</td>\n",
       "      <td>0.662948</td>\n",
       "      <td>0.587650</td>\n",
       "      <td>0.746668</td>\n",
       "      <td>1.000000</td>\n",
       "      <td>0.574154</td>\n",
       "      <td>0.848961</td>\n",
       "    </tr>\n",
       "    <tr>\n",
       "      <th>H_QUIET_STAR_RATING</th>\n",
       "      <td>0.111721</td>\n",
       "      <td>0.448710</td>\n",
       "      <td>0.539204</td>\n",
       "      <td>0.598751</td>\n",
       "      <td>0.529944</td>\n",
       "      <td>0.490547</td>\n",
       "      <td>0.529751</td>\n",
       "      <td>0.333222</td>\n",
       "      <td>0.497206</td>\n",
       "      <td>0.574154</td>\n",
       "      <td>1.000000</td>\n",
       "      <td>0.453092</td>\n",
       "    </tr>\n",
       "    <tr>\n",
       "      <th>H_RECMND_STAR_RATING</th>\n",
       "      <td>0.062560</td>\n",
       "      <td>0.505396</td>\n",
       "      <td>0.681239</td>\n",
       "      <td>0.584533</td>\n",
       "      <td>0.591197</td>\n",
       "      <td>0.638198</td>\n",
       "      <td>0.592342</td>\n",
       "      <td>0.538250</td>\n",
       "      <td>0.754160</td>\n",
       "      <td>0.848961</td>\n",
       "      <td>0.453092</td>\n",
       "      <td>1.000000</td>\n",
       "    </tr>\n",
       "  </tbody>\n",
       "</table>\n",
       "</div>"
      ],
      "text/plain": [
       "Measure ID                Provider ID  H_CLEAN_STAR_RATING  \\\n",
       "Measure ID                                                   \n",
       "Provider ID                  1.000000             0.086543   \n",
       "H_CLEAN_STAR_RATING          0.086543             1.000000   \n",
       "H_COMP_1_STAR_RATING         0.144586             0.652459   \n",
       "H_COMP_2_STAR_RATING         0.120103             0.517159   \n",
       "H_COMP_3_STAR_RATING         0.134408             0.650388   \n",
       "H_COMP_4_STAR_RATING         0.077222             0.575496   \n",
       "H_COMP_5_STAR_RATING         0.128028             0.593756   \n",
       "H_COMP_6_STAR_RATING         0.151517             0.418628   \n",
       "H_COMP_7_STAR_RATING         0.101638             0.610915   \n",
       "H_HSP_RATING_STAR_RATING     0.080823             0.567434   \n",
       "H_QUIET_STAR_RATING          0.111721             0.448710   \n",
       "H_RECMND_STAR_RATING         0.062560             0.505396   \n",
       "\n",
       "Measure ID                H_COMP_1_STAR_RATING  H_COMP_2_STAR_RATING  \\\n",
       "Measure ID                                                             \n",
       "Provider ID                           0.144586              0.120103   \n",
       "H_CLEAN_STAR_RATING                   0.652459              0.517159   \n",
       "H_COMP_1_STAR_RATING                  1.000000              0.689799   \n",
       "H_COMP_2_STAR_RATING                  0.689799              1.000000   \n",
       "H_COMP_3_STAR_RATING                  0.786818              0.633547   \n",
       "H_COMP_4_STAR_RATING                  0.753834              0.626302   \n",
       "H_COMP_5_STAR_RATING                  0.716499              0.655503   \n",
       "H_COMP_6_STAR_RATING                  0.581488              0.473717   \n",
       "H_COMP_7_STAR_RATING                  0.751345              0.652541   \n",
       "H_HSP_RATING_STAR_RATING              0.751152              0.659734   \n",
       "H_QUIET_STAR_RATING                   0.539204              0.598751   \n",
       "H_RECMND_STAR_RATING                  0.681239              0.584533   \n",
       "\n",
       "Measure ID                H_COMP_3_STAR_RATING  H_COMP_4_STAR_RATING  \\\n",
       "Measure ID                                                             \n",
       "Provider ID                           0.134408              0.077222   \n",
       "H_CLEAN_STAR_RATING                   0.650388              0.575496   \n",
       "H_COMP_1_STAR_RATING                  0.786818              0.753834   \n",
       "H_COMP_2_STAR_RATING                  0.633547              0.626302   \n",
       "H_COMP_3_STAR_RATING                  1.000000              0.692981   \n",
       "H_COMP_4_STAR_RATING                  0.692981              1.000000   \n",
       "H_COMP_5_STAR_RATING                  0.698292              0.625084   \n",
       "H_COMP_6_STAR_RATING                  0.555443              0.515757   \n",
       "H_COMP_7_STAR_RATING                  0.676588              0.685365   \n",
       "H_HSP_RATING_STAR_RATING              0.688491              0.699327   \n",
       "H_QUIET_STAR_RATING                   0.529944              0.490547   \n",
       "H_RECMND_STAR_RATING                  0.591197              0.638198   \n",
       "\n",
       "Measure ID                H_COMP_5_STAR_RATING  H_COMP_6_STAR_RATING  \\\n",
       "Measure ID                                                             \n",
       "Provider ID                           0.128028              0.151517   \n",
       "H_CLEAN_STAR_RATING                   0.593756              0.418628   \n",
       "H_COMP_1_STAR_RATING                  0.716499              0.581488   \n",
       "H_COMP_2_STAR_RATING                  0.655503              0.473717   \n",
       "H_COMP_3_STAR_RATING                  0.698292              0.555443   \n",
       "H_COMP_4_STAR_RATING                  0.625084              0.515757   \n",
       "H_COMP_5_STAR_RATING                  1.000000              0.558091   \n",
       "H_COMP_6_STAR_RATING                  0.558091              1.000000   \n",
       "H_COMP_7_STAR_RATING                  0.675113              0.592211   \n",
       "H_HSP_RATING_STAR_RATING              0.662948              0.587650   \n",
       "H_QUIET_STAR_RATING                   0.529751              0.333222   \n",
       "H_RECMND_STAR_RATING                  0.592342              0.538250   \n",
       "\n",
       "Measure ID                H_COMP_7_STAR_RATING  H_HSP_RATING_STAR_RATING  \\\n",
       "Measure ID                                                                 \n",
       "Provider ID                           0.101638                  0.080823   \n",
       "H_CLEAN_STAR_RATING                   0.610915                  0.567434   \n",
       "H_COMP_1_STAR_RATING                  0.751345                  0.751152   \n",
       "H_COMP_2_STAR_RATING                  0.652541                  0.659734   \n",
       "H_COMP_3_STAR_RATING                  0.676588                  0.688491   \n",
       "H_COMP_4_STAR_RATING                  0.685365                  0.699327   \n",
       "H_COMP_5_STAR_RATING                  0.675113                  0.662948   \n",
       "H_COMP_6_STAR_RATING                  0.592211                  0.587650   \n",
       "H_COMP_7_STAR_RATING                  1.000000                  0.746668   \n",
       "H_HSP_RATING_STAR_RATING              0.746668                  1.000000   \n",
       "H_QUIET_STAR_RATING                   0.497206                  0.574154   \n",
       "H_RECMND_STAR_RATING                  0.754160                  0.848961   \n",
       "\n",
       "Measure ID                H_QUIET_STAR_RATING  H_RECMND_STAR_RATING  \n",
       "Measure ID                                                           \n",
       "Provider ID                          0.111721              0.062560  \n",
       "H_CLEAN_STAR_RATING                  0.448710              0.505396  \n",
       "H_COMP_1_STAR_RATING                 0.539204              0.681239  \n",
       "H_COMP_2_STAR_RATING                 0.598751              0.584533  \n",
       "H_COMP_3_STAR_RATING                 0.529944              0.591197  \n",
       "H_COMP_4_STAR_RATING                 0.490547              0.638198  \n",
       "H_COMP_5_STAR_RATING                 0.529751              0.592342  \n",
       "H_COMP_6_STAR_RATING                 0.333222              0.538250  \n",
       "H_COMP_7_STAR_RATING                 0.497206              0.754160  \n",
       "H_HSP_RATING_STAR_RATING             0.574154              0.848961  \n",
       "H_QUIET_STAR_RATING                  1.000000              0.453092  \n",
       "H_RECMND_STAR_RATING                 0.453092              1.000000  "
      ]
     },
     "execution_count": 39,
     "metadata": {},
     "output_type": "execute_result"
    }
   ],
   "source": [
    "df_copy=df.drop('Patent_exp_score',axis=1)\n",
    "df_copy.corr()"
   ]
  },
  {
   "cell_type": "code",
   "execution_count": 40,
   "metadata": {},
   "outputs": [
    {
     "data": {
      "text/plain": [
       "<matplotlib.axes._subplots.AxesSubplot at 0x8abeb70>"
      ]
     },
     "execution_count": 40,
     "metadata": {},
     "output_type": "execute_result"
    },
    {
     "data": {
      "image/png": "[encoded data removed]",
      "text/plain": [
       "<matplotlib.figure.Figure at 0xbd23630>"
      ]
     },
     "metadata": {},
     "output_type": "display_data"
    }
   ],
   "source": [
    "sns.heatmap(df_copy.corr())"
   ]
  },
  {
   "cell_type": "code",
   "execution_count": 41,
   "metadata": {},
   "outputs": [],
   "source": [
    "df1= df_copy.drop('Provider ID',axis=1)"
   ]
  },
  {
   "cell_type": "code",
   "execution_count": 42,
   "metadata": {},
   "outputs": [],
   "source": [
    "meandf= pd.DataFrame(df1.mean())"
   ]
  },
  {
   "cell_type": "code",
   "execution_count": 43,
   "metadata": {},
   "outputs": [],
   "source": [
    "meandf['index1'] = meandf.index"
   ]
  },
  {
   "cell_type": "code",
   "execution_count": 44,
   "metadata": {},
   "outputs": [
    {
     "data": {
      "text/html": [
       "<div>\n",
       "<style scoped>\n",
       "    .dataframe tbody tr th:only-of-type {\n",
       "        vertical-align: middle;\n",
       "    }\n",
       "\n",
       "    .dataframe tbody tr th {\n",
       "        vertical-align: top;\n",
       "    }\n",
       "\n",
       "    .dataframe thead th {\n",
       "        text-align: right;\n",
       "    }\n",
       "</style>\n",
       "<table border=\"1\" class=\"dataframe\">\n",
       "  <thead>\n",
       "    <tr style=\"text-align: right;\">\n",
       "      <th></th>\n",
       "      <th>mean</th>\n",
       "      <th>Measures</th>\n",
       "    </tr>\n",
       "  </thead>\n",
       "  <tbody>\n",
       "    <tr>\n",
       "      <th>H_CLEAN_STAR_RATING</th>\n",
       "      <td>1.862257</td>\n",
       "      <td>H_CLEAN_STAR_RATING</td>\n",
       "    </tr>\n",
       "    <tr>\n",
       "      <th>H_COMP_1_STAR_RATING</th>\n",
       "      <td>2.621045</td>\n",
       "      <td>H_COMP_1_STAR_RATING</td>\n",
       "    </tr>\n",
       "    <tr>\n",
       "      <th>H_COMP_2_STAR_RATING</th>\n",
       "      <td>1.973447</td>\n",
       "      <td>H_COMP_2_STAR_RATING</td>\n",
       "    </tr>\n",
       "    <tr>\n",
       "      <th>H_COMP_3_STAR_RATING</th>\n",
       "      <td>2.323944</td>\n",
       "      <td>H_COMP_3_STAR_RATING</td>\n",
       "    </tr>\n",
       "    <tr>\n",
       "      <th>H_COMP_4_STAR_RATING</th>\n",
       "      <td>2.119755</td>\n",
       "      <td>H_COMP_4_STAR_RATING</td>\n",
       "    </tr>\n",
       "    <tr>\n",
       "      <th>H_COMP_5_STAR_RATING</th>\n",
       "      <td>2.133801</td>\n",
       "      <td>H_COMP_5_STAR_RATING</td>\n",
       "    </tr>\n",
       "    <tr>\n",
       "      <th>H_COMP_6_STAR_RATING</th>\n",
       "      <td>1.949886</td>\n",
       "      <td>H_COMP_6_STAR_RATING</td>\n",
       "    </tr>\n",
       "    <tr>\n",
       "      <th>H_COMP_7_STAR_RATING</th>\n",
       "      <td>2.044104</td>\n",
       "      <td>H_COMP_7_STAR_RATING</td>\n",
       "    </tr>\n",
       "    <tr>\n",
       "      <th>H_HSP_RATING_STAR_RATING</th>\n",
       "      <td>2.727774</td>\n",
       "      <td>H_HSP_RATING_STAR_RATING</td>\n",
       "    </tr>\n",
       "    <tr>\n",
       "      <th>H_QUIET_STAR_RATING</th>\n",
       "      <td>1.751090</td>\n",
       "      <td>H_QUIET_STAR_RATING</td>\n",
       "    </tr>\n",
       "    <tr>\n",
       "      <th>H_RECMND_STAR_RATING</th>\n",
       "      <td>2.337842</td>\n",
       "      <td>H_RECMND_STAR_RATING</td>\n",
       "    </tr>\n",
       "  </tbody>\n",
       "</table>\n",
       "</div>"
      ],
      "text/plain": [
       "                              mean                  Measures\n",
       "H_CLEAN_STAR_RATING       1.862257       H_CLEAN_STAR_RATING\n",
       "H_COMP_1_STAR_RATING      2.621045      H_COMP_1_STAR_RATING\n",
       "H_COMP_2_STAR_RATING      1.973447      H_COMP_2_STAR_RATING\n",
       "H_COMP_3_STAR_RATING      2.323944      H_COMP_3_STAR_RATING\n",
       "H_COMP_4_STAR_RATING      2.119755      H_COMP_4_STAR_RATING\n",
       "H_COMP_5_STAR_RATING      2.133801      H_COMP_5_STAR_RATING\n",
       "H_COMP_6_STAR_RATING      1.949886      H_COMP_6_STAR_RATING\n",
       "H_COMP_7_STAR_RATING      2.044104      H_COMP_7_STAR_RATING\n",
       "H_HSP_RATING_STAR_RATING  2.727774  H_HSP_RATING_STAR_RATING\n",
       "H_QUIET_STAR_RATING       1.751090       H_QUIET_STAR_RATING\n",
       "H_RECMND_STAR_RATING      2.337842      H_RECMND_STAR_RATING"
      ]
     },
     "execution_count": 44,
     "metadata": {},
     "output_type": "execute_result"
    }
   ],
   "source": [
    "meandf = meandf.rename_axis(None)\n",
    "meandf.rename(columns={'index1':'Measures',0:'mean'},inplace=True)\n",
    "meandf"
   ]
  },
  {
   "cell_type": "code",
   "execution_count": 45,
   "metadata": {},
   "outputs": [
    {
     "data": {
      "image/png": "[encoded data removed]",
      "text/plain": [
       "<matplotlib.figure.Figure at 0xc5e3160>"
      ]
     },
     "metadata": {},
     "output_type": "display_data"
    }
   ],
   "source": [
    "plt.figure(figsize=(10, 4))\n",
    "ax = sns.barplot(y='mean', x='Measures', data= meandf)"
   ]
  },
  {
   "cell_type": "code",
   "execution_count": null,
   "metadata": {},
   "outputs": [],
   "source": []
  }
 ],
 "metadata": {
  "kernelspec": {
   "display_name": "Python 3",
   "language": "python",
   "name": "python3"
  },
  "language_info": {
   "codemirror_mode": {
    "name": "ipython",
    "version": 3
   },
   "file_extension": ".py",
   "mimetype": "text/x-python",
   "name": "python",
   "nbconvert_exporter": "python",
   "pygments_lexer": "ipython3",
   "version": "3.6.4"
  }
 },
 "nbformat": 4,
 "nbformat_minor": 2
}
